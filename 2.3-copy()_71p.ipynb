{
  "nbformat": 4,
  "nbformat_minor": 0,
  "metadata": {
    "colab": {
      "name": "2.3-71p.ipynb",
      "provenance": [],
      "authorship_tag": "ABX9TyNwkqsj+YFgUqeEhFLSKlqt",
      "include_colab_link": true
    },
    "kernelspec": {
      "name": "python3",
      "display_name": "Python 3"
    },
    "language_info": {
      "name": "python"
    }
  },
  "cells": [
    {
      "cell_type": "markdown",
      "metadata": {
        "id": "view-in-github",
        "colab_type": "text"
      },
      "source": [
        "<a href=\"https://colab.research.google.com/github/K-107/deep-learning-with-python-notebooks/blob/tf2/2.3-copy()_71p.ipynb\" target=\"_parent\"><img src=\"https://colab.research.google.com/assets/colab-badge.svg\" alt=\"Open In Colab\"/></a>"
      ]
    },
    {
      "cell_type": "markdown",
      "metadata": {
        "id": "7FXAnOHukoJf"
      },
      "source": [
        "# x = x.copy()가 입력 텐서 자체를 바꾸지 않도록 복사를 한다!\n",
        "\n",
        "즉, x = x.copy()를 하면 함수에 입력된 x를 유지하면서 함수로 계산된 return x가 나온다.\n",
        "\n",
        "하지만 없다면 입력된 x의 값이 함수 계산된 return x와 같이 바껴버린다.\n"
      ]
    },
    {
      "cell_type": "code",
      "metadata": {
        "id": "Te37cMAzkYbY"
      },
      "source": [
        "import numpy as np\n",
        "\n",
        "def naive_relu(x):\n",
        "  assert len(x.shape) == 2\n",
        "\n",
        "  x = x.copy()\n",
        "\n",
        "  for i in range(x.shape[0]):\n",
        "    for j in range(x.shape[1]):\n",
        "      x[i,j] = max(x[i,j], 0)\n",
        "  return x\n",
        "\n",
        "\n",
        "def naive_relu_without_copy(x):\n",
        "  assert len(x.shape) == 2\n",
        "\n",
        "  # x = x.copy()\n",
        "\n",
        "  for i in range(x.shape[0]):\n",
        "    for j in range(x.shape[1]):\n",
        "      x[i,j] = max(x[i,j], 0)\n",
        "  return x"
      ],
      "execution_count": 7,
      "outputs": []
    },
    {
      "cell_type": "code",
      "metadata": {
        "colab": {
          "base_uri": "https://localhost:8080/"
        },
        "id": "2C3EbLP5lBWb",
        "outputId": "6d63597b-aed9-4d93-feb2-cd0a0bbf092b"
      },
      "source": [
        "a = np.array([[-1,4]])\n",
        "a"
      ],
      "execution_count": 8,
      "outputs": [
        {
          "output_type": "execute_result",
          "data": {
            "text/plain": [
              "array([[-1,  4]])"
            ]
          },
          "metadata": {},
          "execution_count": 8
        }
      ]
    },
    {
      "cell_type": "code",
      "metadata": {
        "colab": {
          "base_uri": "https://localhost:8080/"
        },
        "id": "IRrp7xIjlENZ",
        "outputId": "0daf819d-8b54-4660-bcec-0d1b9b9b4ecd"
      },
      "source": [
        "naive_relu(a), a\n",
        "# 입력 a와 출력 a의 값이 다르다.\n",
        "# 즉 입력 a가 보전되었다."
      ],
      "execution_count": 9,
      "outputs": [
        {
          "output_type": "execute_result",
          "data": {
            "text/plain": [
              "(array([[0, 4]]), array([[-1,  4]]))"
            ]
          },
          "metadata": {},
          "execution_count": 9
        }
      ]
    },
    {
      "cell_type": "code",
      "metadata": {
        "colab": {
          "base_uri": "https://localhost:8080/"
        },
        "id": "5wli-RkTlQC-",
        "outputId": "5184be8d-40a2-47c4-e711-94a7d5c69c6c"
      },
      "source": [
        "naive_relu_without_copy(a), a\n",
        "# 입력 a의 값이 바꼇다!"
      ],
      "execution_count": 10,
      "outputs": [
        {
          "output_type": "execute_result",
          "data": {
            "text/plain": [
              "(array([[0, 4]]), array([[0, 4]]))"
            ]
          },
          "metadata": {},
          "execution_count": 10
        }
      ]
    }
  ]
}