{
  "nbformat": 4,
  "nbformat_minor": 0,
  "metadata": {
    "kernelspec": {
      "display_name": "Python 3.7 on Backend.AI",
      "language": "python",
      "name": "python3"
    },
    "language_info": {
      "codemirror_mode": {
        "name": "ipython",
        "version": 3
      },
      "file_extension": ".py",
      "mimetype": "text/x-python",
      "name": "python",
      "nbconvert_exporter": "python",
      "pygments_lexer": "ipython3",
      "version": "3.7.7"
    },
    "colab": {
      "name": "6.3-advanced-usage-of-recurrent-neural-networks.ipynb",
      "provenance": [],
      "include_colab_link": true
    }
  },
  "cells": [
    {
      "cell_type": "markdown",
      "metadata": {
        "id": "view-in-github",
        "colab_type": "text"
      },
      "source": [
        "<a href=\"https://colab.research.google.com/github/K-107/deep-learning-with-python-notebooks/blob/tf2/6.3-advanced-usage-of-recurrent-neural-networks.ipynb\" target=\"_parent\"><img src=\"https://colab.research.google.com/assets/colab-badge.svg\" alt=\"Open In Colab\"/></a>"
      ]
    },
    {
      "cell_type": "code",
      "metadata": {
        "id": "tSvvP3YJXyf-",
        "outputId": "f4204cdf-c0e2-4d61-9289-d79386b88d5d",
        "colab": {
          "base_uri": "https://localhost:8080/",
          "height": 35
        }
      },
      "source": [
        "from tensorflow import keras\n",
        "keras.__version__"
      ],
      "execution_count": 1,
      "outputs": [
        {
          "output_type": "execute_result",
          "data": {
            "application/vnd.google.colaboratory.intrinsic+json": {
              "type": "string"
            },
            "text/plain": [
              "'2.6.0'"
            ]
          },
          "metadata": {},
          "execution_count": 1
        }
      ]
    },
    {
      "cell_type": "markdown",
      "metadata": {
        "id": "WZQ1GO1ZXygA"
      },
      "source": [
        "# 순환 신경망의 고급 사용법\n",
        "\n",
        "이 노트북은 [케라스 창시자에게 배우는 딥러닝](https://tensorflow.blog/케라스-창시자에게-배우는-딥러닝/) 책의 6장 3절의 코드 예제입니다. 책에는 더 많은 내용과 그림이 있습니다. 이 노트북에는 소스 코드에 관련된 설명만 포함합니다. 이 노트북의 설명은 케라스 버전 2.2.2에 맞추어져 있습니다. 케라스 최신 버전이 릴리스되면 노트북을 다시 테스트하기 때문에 설명과 코드의 결과가 조금 다를 수 있습니다.\n",
        "\n",
        "---\n",
        "\n",
        "이 절에서는 순환 신경망의 성능과 일반화 능력을 향상시키기 위한 세 가지의 고급 기술을 살펴보겠습니다. 이 절을 마칠 때면 케라스에서 순환 신경망을 사용하는 대부분의 방법을 알게 될 것입니다. 온도 예측 문제로 세 가지 개념을 모두 시연해 보겠습니다. 이 시계열 데이터는 건물 옥상에 설치된 센서에서 취득한 온도, 기압, 습도 같은 데이터입니다. 이 데이터를 사용하여 마지막 데이터 포인트에서부터 24시간 이후의 온도를 예측하겠습니다. 이 문제는 시계열 데이터에서 일반적으로 나타나는 여러 가지 어려운 점을 가지고 있습니다. 전형적이고 꽤 도전적인 문제입니다.\n",
        "\n",
        "다음 기법들을 적용하겠습니다.\n",
        "\n",
        "* 순환 드롭아웃 : 순환 층에서 과대적합을 방지하기 위해 케라스에 내장되어 있는 드롭아웃을 사용합니다.\n",
        "* 순환 층 스태킹 : 네트워크의 표현 능력을 증가시킵니다(대신 계산 비용이 많이 듭니다).\n",
        "* 양방향 순환 층 : 순환 네트워크에 같은 정보를 다른 방향으로 주입하여 정확도를 높이고 기억을 좀 더 오래 유지시킵니다."
      ]
    },
    {
      "cell_type": "markdown",
      "metadata": {
        "id": "Vvn_LDXRXygB"
      },
      "source": [
        "## 기온 예측 문제\n",
        "지금까지 다룬 시퀀스 데이터는 IMDB 데이터셋이나 로이터 데이터셋과 같은 텍스트 데이터입니다. 시퀀스 데이터는 이런 언어 처리 분야뿐만 아니라 훨씬 많은 문제에서 등장합니다. 이 절에 있는 모든 예제는 날씨 시계열 데이터셋을 사용합니다. 이 데이터는 독일 예나 시에 있는 막스 플랑크 생물지구화학 연구소( http://www.bgc-jena.mpg.de/wetter/ )의 지상 관측소에서 수집한 것입니다.\n",
        "\n",
        "이 데이터셋에는 수년간에 걸쳐 (기온, 기압, 습도, 풍향 등과 같은) 14개의 관측치가 10분마다 기록되어 있습니다. 원본 데이터는 2003년부터 기록되어 있지만 이 예제에서는 2009~2016년 사이의 데이터만 사용합니다. 이 데이터셋은 시계열 수치 데이터를 다루는 법을 익히는 데 안성맞춤입니다. 최근 데이터(몇 일치 데이터 포인트)를 입력으로 사용해 모델을 만들고 24시간 이후의 기온을 예측하겠습니다."
      ]
    },
    {
      "cell_type": "markdown",
      "metadata": {
        "id": "6YDLF6anXygC"
      },
      "source": [
        "데이터를 살펴보죠:"
      ]
    },
    {
      "cell_type": "code",
      "metadata": {
        "id": "tembwMleZvOW",
        "outputId": "db78f7b4-561e-4b1e-ac23-48c5cbd18f5d",
        "colab": {
          "base_uri": "https://localhost:8080/"
        }
      },
      "source": [
        "# 깃클론해서 깃허브에서 데이터 가져오기\n",
        "# 깃클론해서 데이터 가져오는 걸로 코드 수정!\n",
        "\n",
        "!git clone https://github.com/K-107/deep-learning-with-python-notebooks.git"
      ],
      "execution_count": 2,
      "outputs": [
        {
          "output_type": "stream",
          "name": "stdout",
          "text": [
            "Cloning into 'deep-learning-with-python-notebooks'...\n",
            "remote: Enumerating objects: 124012, done.\u001b[K\n",
            "remote: Counting objects: 100% (90/90), done.\u001b[K\n",
            "remote: Compressing objects: 100% (85/85), done.\u001b[K\n",
            "remote: Total 124012 (delta 29), reused 38 (delta 5), pack-reused 123922\u001b[K\n",
            "Receiving objects: 100% (124012/124012), 729.57 MiB | 5.95 MiB/s, done.\n",
            "Resolving deltas: 100% (166/166), done.\n",
            "Checking out files: 100% (104042/104042), done.\n"
          ]
        }
      ]
    },
    {
      "cell_type": "code",
      "metadata": {
        "id": "XleAZ1ScXygC",
        "outputId": "d1b8ebf6-d89d-4884-abc5-a309ccb580ac",
        "colab": {
          "base_uri": "https://localhost:8080/"
        }
      },
      "source": [
        "import os\n",
        "\n",
        "data_dir = '/content/deep-learning-with-python-notebooks/datasets/jena_climate'\n",
        "fname = os.path.join(data_dir, 'jena_climate_2009_2016.csv')\n",
        "\n",
        "f = open(fname)\n",
        "data = f.read()\n",
        "f.close()\n",
        "\n",
        "lines = data.split('\\n')\n",
        "header = lines[0].split(',')\n",
        "lines = lines[1:]\n",
        "\n",
        "print(header)\n",
        "print(len(lines))"
      ],
      "execution_count": 3,
      "outputs": [
        {
          "output_type": "stream",
          "name": "stdout",
          "text": [
            "['\"Date Time\"', '\"p (mbar)\"', '\"T (degC)\"', '\"Tpot (K)\"', '\"Tdew (degC)\"', '\"rh (%)\"', '\"VPmax (mbar)\"', '\"VPact (mbar)\"', '\"VPdef (mbar)\"', '\"sh (g/kg)\"', '\"H2OC (mmol/mol)\"', '\"rho (g/m**3)\"', '\"wv (m/s)\"', '\"max. wv (m/s)\"', '\"wd (deg)\"']\n",
            "420551\n"
          ]
        }
      ]
    },
    {
      "cell_type": "markdown",
      "metadata": {
        "id": "I3R7kkWCXygD"
      },
      "source": [
        "420,551개 데이터 전체를 넘파이 배열로 바꿉니다:"
      ]
    },
    {
      "cell_type": "code",
      "metadata": {
        "id": "X5tvO6fuXygD"
      },
      "source": [
        "import numpy as np\n",
        "\n",
        "float_data = np.zeros((len(lines), len(header) - 1))\n",
        "for i, line in enumerate(lines):\n",
        "    values = [float(x) for x in line.split(',')[1:]]\n",
        "    float_data[i, :] = values"
      ],
      "execution_count": 14,
      "outputs": []
    },
    {
      "cell_type": "code",
      "metadata": {
        "id": "IhkRg5bRbnsk",
        "outputId": "16fdd975-9ada-4900-b387-b4d34ad89c30",
        "colab": {
          "base_uri": "https://localhost:8080/"
        }
      },
      "source": [
        "a = '06.04.2010 20:50:00,996.37,9.17,282.62,0.29,53.65,11.63,6.24,5.39,3.90,6.26,1226.49,2.26,2.96,190.40'\n",
        "a.split(',')[1:]\n",
        "# Date Time이 빠졌다."
      ],
      "execution_count": 13,
      "outputs": [
        {
          "output_type": "execute_result",
          "data": {
            "text/plain": [
              "['996.37',\n",
              " '9.17',\n",
              " '282.62',\n",
              " '0.29',\n",
              " '53.65',\n",
              " '11.63',\n",
              " '6.24',\n",
              " '5.39',\n",
              " '3.90',\n",
              " '6.26',\n",
              " '1226.49',\n",
              " '2.26',\n",
              " '2.96',\n",
              " '190.40']"
            ]
          },
          "metadata": {},
          "execution_count": 13
        }
      ]
    },
    {
      "cell_type": "code",
      "metadata": {
        "id": "Jl8oTuL2bPP_",
        "outputId": "2bc7f245-5162-4e7d-8022-0bbde86bcfc7",
        "colab": {
          "base_uri": "https://localhost:8080/"
        }
      },
      "source": [
        "float_data.shape"
      ],
      "execution_count": 8,
      "outputs": [
        {
          "output_type": "execute_result",
          "data": {
            "text/plain": [
              "(420551, 14)"
            ]
          },
          "metadata": {},
          "execution_count": 8
        }
      ]
    },
    {
      "cell_type": "markdown",
      "metadata": {
        "id": "7Nv0y2x6XygE"
      },
      "source": [
        "예를 들어 다음은 시간에 따른 기온(섭씨) 그래프입니다:"
      ]
    },
    {
      "cell_type": "code",
      "metadata": {
        "id": "hn8IFHswXygE"
      },
      "source": [
        "from matplotlib import pyplot as plt"
      ],
      "execution_count": 15,
      "outputs": []
    },
    {
      "cell_type": "code",
      "metadata": {
        "id": "cqp77vYpXygF",
        "outputId": "3f226a8b-7450-4b59-910d-26411f7fae41",
        "colab": {
          "base_uri": "https://localhost:8080/",
          "height": 268
        }
      },
      "source": [
        "temp = float_data[:, 1]  # 온도(섭씨) \"T (degC)\"\n",
        "plt.plot(range(len(temp)), temp)\n",
        "plt.show()"
      ],
      "execution_count": 19,
      "outputs": [
        {
          "output_type": "display_data",
          "data": {
            "image/png": "[encoded data removed]",
            "text/plain": [
              "<Figure size 432x288 with 1 Axes>"
            ]
          },
          "metadata": {
            "needs_background": "light"
          }
        }
      ]
    },
    {
      "cell_type": "markdown",
      "metadata": {
        "id": "aKwJzxX6XygF"
      },
      "source": [
        "이 그래프에서 온도에 주기성이 있다는 것을 잘 볼 수 있습니다.\n",
        "\n",
        "다음은 기간을 좁혀서 처음 10일간의 온도 데이터를 나타낸 그래프입니다. 10분마다 데이터가 기록되므로 하루에 총 144개의 데이터 포인트가 있습니다:"
      ]
    },
    {
      "cell_type": "code",
      "metadata": {
        "id": "FtgB5GyCXygF",
        "outputId": "fe64def8-8e77-434e-d46f-9d062a3580b0",
        "colab": {
          "base_uri": "https://localhost:8080/",
          "height": 265
        }
      },
      "source": [
        "plt.plot(range(1440), temp[:1440])\n",
        "plt.show()"
      ],
      "execution_count": 20,
      "outputs": [
        {
          "output_type": "display_data",
          "data": {
            "image/png": "[encoded data removed]",
            "text/plain": [
              "<Figure size 432x288 with 1 Axes>"
            ]
          },
          "metadata": {
            "needs_background": "light"
          }
        }
      ]
    },
    {
      "cell_type": "markdown",
      "metadata": {
        "id": "6Bj6axAAXygG"
      },
      "source": [
        "이 그래프에서 일별 주기성을 볼 수 있습니다. 특히 마지막 4일간을 보면 확실합니다. 이 데이터는 아주 추운 겨울 중 10일입니다.\n",
        "\n",
        "지난 몇 달간의 데이터를 사용해 다음 달의 평균 온도를 예측하는 문제는 쉬운 편입니다. 연간 데이터 주기성은 안정적이기 때문입니다. 하지만 하루 하루 데이터를 살펴보면 온도 변화는 매우 불안정합니다. 일자별 수준의 시계열 데이터를 예측할 수 있을까요? 직접 확인해 보겠습니다."
      ]
    },
    {
      "cell_type": "markdown",
      "metadata": {
        "id": "jKZA7gLzXygG"
      },
      "source": [
        "## Preparing the data\n",
        "\n",
        "이 문제의 정확한 정의는 다음과 같습니다. `lookback` 타임스텝(하나의 타임스텝은 10분입니다)만큼 이전으로 돌아가서 매 `steps` 타임스텝마다 샘플링합니다. 이 데이터를 바탕으로 `delay` 타임스텝 이후의 온도를 예측할 수 있을까요? 사용할 변수는 다음과 같습니다.\n",
        "\n",
        "* `lookback = 1440` : 10일 전 데이터로 돌아갑니다.\n",
        "* `steps = 6` : 한 시간마다 데이터 포인트 하나를 샘플링합니다.\n",
        "* `delay = 144` : 24시간이 지난 데이터가 타깃이 됩니다.\n",
        "\n",
        "시작하기 전에 두 가지 작업을 처리해야 합니다:\n",
        "\n",
        "* 신경망에 주입할 수 있는 형태로 데이터를 전처리합니다. 데이터가 이미 수치형이므로 추가적인 벡터화가 필요하지 않습니다. 하지만 데이터에 있는 각 시계열 특성의 범위가 서로 다릅니다(예를 들어 온도는 일반적으로 -20도에서 +30도 사이이고, 밀리바(mb)로 측정된 기압은 1,000 근처의 값입니다). 각 시계열 특성을 개별적으로 정규화하여 비슷한 범위를 가진 작은 값으로 바꾸겠습니다.\n",
        "* float_data 배열을 받아 과거 데이터의 배치와 미래 타깃 온도를 추출하는 파이썬 제너레이터를 만듭니다. 이 데이터셋에 있는 샘플은 중복이 많습니다(샘플 `N`과 샘플 `N + 1`은 대부분 타임스텝이 비슷합니다). 모든 샘플을 각기 메모리에 적재하는 것은 낭비가 심하므로 대신에 원본 데이터를 사용해 그때 그때 배치를 만들겠습니다.\n",
        "\n",
        "각 시계열 특성에 대해 평균을 빼고 표준 편차로 나누어 전처리합니다. 처음 200,000개 타임스텝을 훈련 데이터로 사용할 것이므로 전체 데이터에서 200,000개만 사용하여 평균과 표준 편차를 계산합니다:"
      ]
    },
    {
      "cell_type": "code",
      "metadata": {
        "id": "MpLUrqCEXygG"
      },
      "source": [
        "mean = float_data[:200000].mean(axis=0)\n",
        "float_data -= mean\n",
        "std = float_data[:200000].std(axis=0)\n",
        "float_data /= std"
      ],
      "execution_count": 21,
      "outputs": []
    },
    {
      "cell_type": "markdown",
      "metadata": {
        "id": "l6qvWvK4XygG"
      },
      "source": [
        "다음은 여기서 사용할 제너레이터입니다. 이 제너레이터 함수는 `(samples, targets)` 튜플을 반복적으로 반환합니다. `samples`는 입력 데이터로 사용할 배치이고 `targets`은 이에 대응되는 타깃 온도의 배열입니다. 이 제너레이터 함수는 다음과 같은 매개변수가 있습니다:\n",
        "\n",
        "* `data` : 코드 6-32에서 정규화한 부동 소수 데이터로 이루어진 원본 배열\n",
        "* `lookback` : 입력으로 사용하기 위해 거슬러 올라갈 타임스텝\n",
        "* `delay` : 타깃으로 사용할 미래의 타임스텝\n",
        "* `min_index`와 `max_index` : 추출할 타임스텝의 범위를 지정하기 위한 `data` 배열의 인덱스. 검증 데이터와 테스트 데이터를 분리하는 데 사용합니다.\n",
        "* `shuffle` : 샘플을 섞을지 시간 순서대로 추출할지 결정합니다.\n",
        "* `batch_size` : 배치의 샘플 수\n",
        "* `step` : 데이터를 샘플링할 타임스텝 간격. 한 시간에 하나의 데이터 포인트를 추출하기 위해 6으로 지정하겠습니다."
      ]
    },
    {
      "cell_type": "code",
      "metadata": {
        "id": "Td5MW2aMXygH"
      },
      "source": [
        "def generator(data, lookback, delay, min_index, max_index,\n",
        "              shuffle=False, batch_size=128, step=6):\n",
        "    if max_index is None:\n",
        "        max_index = len(data) - delay - 1\n",
        "    i = min_index + lookback\n",
        "    while 1:\n",
        "        if shuffle:\n",
        "            rows = np.random.randint(\n",
        "                min_index + lookback, max_index, size=batch_size)\n",
        "        else:\n",
        "            if i + batch_size >= max_index:\n",
        "                i = min_index + lookback\n",
        "            rows = np.arange(i, min(i + batch_size, max_index))\n",
        "            i += len(rows)\n",
        "\n",
        "        samples = np.zeros((len(rows),\n",
        "                           lookback // step,\n",
        "                           data.shape[-1]))\n",
        "        targets = np.zeros((len(rows),))\n",
        "        for j, row in enumerate(rows):\n",
        "            indices = range(rows[j] - lookback, rows[j], step)\n",
        "            samples[j] = data[indices]\n",
        "            targets[j] = data[rows[j] + delay][1]\n",
        "        yield samples, targets"
      ],
      "execution_count": null,
      "outputs": []
    },
    {
      "cell_type": "markdown",
      "metadata": {
        "id": "cDrWmTLeXygH"
      },
      "source": [
        "이제 generator 함수를 사용해 훈련용, 검증용, 테스트용으로 세 개의 제너레이터를 만들어 보죠. 각 제너레이터는 원본 데이터에서 다른 시간대를 사용합니다. 훈련 제너레이터는 처음 200,000개 타임스텝을 사용하고 검증 제너레이터는 그 다음 100,000개를 사용하고 테스트 제너레이터는 나머지를 사용합니다."
      ]
    },
    {
      "cell_type": "code",
      "metadata": {
        "id": "JvS8yUBXXygH"
      },
      "source": [
        "lookback = 1440\n",
        "step = 6\n",
        "delay = 144\n",
        "batch_size = 128\n",
        "\n",
        "train_gen = generator(float_data,\n",
        "                      lookback=lookback,\n",
        "                      delay=delay,\n",
        "                      min_index=0,\n",
        "                      max_index=200000,\n",
        "                      shuffle=True,\n",
        "                      step=step, \n",
        "                      batch_size=batch_size)\n",
        "val_gen = generator(float_data,\n",
        "                    lookback=lookback,\n",
        "                    delay=delay,\n",
        "                    min_index=200001,\n",
        "                    max_index=300000,\n",
        "                    step=step,\n",
        "                    batch_size=batch_size)\n",
        "test_gen = generator(float_data,\n",
        "                     lookback=lookback,\n",
        "                     delay=delay,\n",
        "                     min_index=300001,\n",
        "                     max_index=None,\n",
        "                     step=step,\n",
        "                     batch_size=batch_size)\n",
        "\n",
        "# 전체 검증 세트를 순회하기 위해 val_gen에서 추출할 횟수\n",
        "val_steps = (300000 - 200001 - lookback) // batch_size\n",
        "\n",
        "# 전체 테스트 세트를 순회하기 위해 test_gen에서 추출할 횟수\n",
        "test_steps = (len(float_data) - 300001 - lookback) // batch_size"
      ],
      "execution_count": null,
      "outputs": []
    },
    {
      "cell_type": "markdown",
      "metadata": {
        "id": "hIV-wN5IXygH"
      },
      "source": [
        "## 상식 수준의 기준점\n",
        "\n",
        "블랙 박스 같은 딥러닝 모델을 사용해 온도 예측 문제를 풀기 전에 간단한 상식 수준의 해법을 시도해 보겠습니다. 이는 정상 여부 확인을 위한 용도이고 고수준 머신 러닝 모델이라면 뛰어 넘어야 할 기준점을 만듭니다. 이런 상식 수준의 해법은 알려진 해결책이 없는 새로운 문제를 다루어야 할 때 유용합니다. 일부 클래스가 월등히 많아 불균형한 분류 문제가 고전적인 예입니다. 데이터셋에 클래스 A의 샘플이 90%, 클래스 B의 샘플이 10%가 있다면, 이 분류 문제에 대한 상식 수준의 접근법은 새로운 샘플을 항상 클래스 'A'라고 예측하는 것입니다. 이 분류기는 전반적으로 90%의 정확도를 낼 것입니다. 머신 러닝 기반의 모델이라면 90% 이상을 달성해야 유용하다고 볼 수 있습니다. 이따금 이런 기본적인 기준점을 넘어서기가 아주 어려운 경우가 있습니다.\n",
        "\n",
        "이 경우 온도 시계열 데이터는 연속성이 있고 일자별로 주기성을 가진다고 가정할 수 있습니다(오늘 온도는 내일 온도와 비슷할 가능성이 높습니다). 그렇기 때문에 상식 수준의 해결책은 지금으로부터 24시간 후의 온도는 지금과 동일하다고 예측하는 것입니다. 이 방법을 평균 절댓값 오차(MAE)로 평가해 보겠습니다:"
      ]
    },
    {
      "cell_type": "markdown",
      "metadata": {
        "id": "Y65yEzaQXygI"
      },
      "source": [
        "```python\n",
        "np.mean(np.abs(preds - targets))\n",
        "```"
      ]
    },
    {
      "cell_type": "markdown",
      "metadata": {
        "id": "cjQWkqrcXygI"
      },
      "source": [
        "다음은 평가를 위한 반복 루프입니다:"
      ]
    },
    {
      "cell_type": "code",
      "metadata": {
        "id": "IwWDTnskXygI",
        "outputId": "efe6a300-d0b9-49f4-a9bf-e2af6ad9fa22"
      },
      "source": [
        "def evaluate_naive_method():\n",
        "    batch_maes = []\n",
        "    for step in range(val_steps):\n",
        "        samples, targets = next(val_gen)\n",
        "        preds = samples[:, -1, 1]\n",
        "        mae = np.mean(np.abs(preds - targets))\n",
        "        batch_maes.append(mae)\n",
        "    print(np.mean(batch_maes))\n",
        "    \n",
        "evaluate_naive_method()"
      ],
      "execution_count": null,
      "outputs": [
        {
          "name": "stdout",
          "output_type": "stream",
          "text": [
            "0.2897359729905486\n"
          ]
        }
      ]
    },
    {
      "cell_type": "code",
      "metadata": {
        "id": "bDtk6IQEXygI",
        "outputId": "c8854cb5-53fa-4995-90e2-9763833af6f9"
      },
      "source": [
        "0.29 * std[1]"
      ],
      "execution_count": null,
      "outputs": [
        {
          "data": {
            "text/plain": [
              "2.5672247338393395"
            ]
          },
          "execution_count": 11,
          "metadata": {},
          "output_type": "execute_result"
        }
      ]
    },
    {
      "cell_type": "markdown",
      "metadata": {
        "id": "ZiI-54htXygI"
      },
      "source": [
        "출력된 MAE는 0.29입니다. 이 온도 데이터는 평균이 0이고 표준 편차가 1이므로 결괏값이 바로 와 닿지는 않습니다. 평균 절댓값 오차 0.29에 표준 편차를 곱하면 섭씨 2.57°C가 됩니다. 평균 절댓값 오차가 상당히 크네요. 이제 딥러닝 모델이 더 나은지 시도해 봅시다."
      ]
    },
    {
      "cell_type": "markdown",
      "metadata": {
        "id": "hapru9zuXygI"
      },
      "source": [
        "## 기본적인 머신 러닝 방법\n",
        "\n",
        "머신 러닝 모델을 시도하기 전에 상식 수준의 기준점을 세워 놓았습니다. 비슷하게 RNN처럼 복잡하고 연산 비용이 많이 드는 모델을 시도하기 전에 간단하고 손쉽게 만들 수 있는 머신 러닝 모델(예를 들면 소규모의 완전 연결 네트워크)을 먼저 만드는 것이 좋습니다. 이를 바탕으로 더 복잡한 방법을 도입하는 근거가 마련되고 실제적인 이득도 얻게 될 것입니다.\n",
        "\n",
        "다음 코드는 데이터를 펼쳐서 두 개의 `Dense` 층을 통과시키는 완전 연결 네트워크를 보여줍니다. 전형적인 회귀 문제이므로 마지막 `Dense` 층에 활성화 함수를 두지 않았습니다. 손실 함수는 MAE입니다. 상식 수준의 방법에서 사용한 것과 동일한 데이터와 지표를 사용했으므로 결과를 바로 비교해볼 수 있습니다."
      ]
    },
    {
      "cell_type": "code",
      "metadata": {
        "id": "nEKp0mpsXygI",
        "outputId": "5f1dc51f-f1c2-4ff4-ab24-4596533bf973"
      },
      "source": [
        "from tensorflow.keras.models import Sequential\n",
        "from tensorflow.keras import layers\n",
        "from tensorflow.keras.optimizers import RMSprop\n",
        "\n",
        "model = Sequential()\n",
        "model.add(layers.Flatten(input_shape=(lookback // step, float_data.shape[-1])))\n",
        "model.add(layers.Dense(32, activation='relu'))\n",
        "model.add(layers.Dense(1))\n",
        "\n",
        "model.compile(optimizer=RMSprop(), loss='mae')\n",
        "history = model.fit_generator(train_gen,\n",
        "                              steps_per_epoch=500,\n",
        "                              epochs=20,\n",
        "                              validation_data=val_gen,\n",
        "                              validation_steps=val_steps)"
      ],
      "execution_count": null,
      "outputs": [
        {
          "name": "stderr",
          "output_type": "stream",
          "text": [
            "/home/work/.local/lib/python3.7/site-packages/keras/engine/training.py:1972: UserWarning: `Model.fit_generator` is deprecated and will be removed in a future version. Please use `Model.fit`, which supports generators.\n",
            "  warnings.warn('`Model.fit_generator` is deprecated and '\n"
          ]
        },
        {
          "name": "stdout",
          "output_type": "stream",
          "text": [
            "Epoch 1/20\n",
            "500/500 [==============================] - 21s 41ms/step - loss: 1.5602 - val_loss: 0.9389\n",
            "Epoch 2/20\n",
            "500/500 [==============================] - 20s 40ms/step - loss: 0.5464 - val_loss: 0.4542\n",
            "Epoch 3/20\n",
            "500/500 [==============================] - 20s 40ms/step - loss: 0.3197 - val_loss: 0.3079\n",
            "Epoch 4/20\n",
            "500/500 [==============================] - 20s 40ms/step - loss: 0.2776 - val_loss: 0.3367\n",
            "Epoch 5/20\n",
            "500/500 [==============================] - 20s 40ms/step - loss: 0.2609 - val_loss: 0.3144\n",
            "Epoch 6/20\n",
            "500/500 [==============================] - 20s 40ms/step - loss: 0.2487 - val_loss: 0.3311\n",
            "Epoch 7/20\n",
            "500/500 [==============================] - 20s 40ms/step - loss: 0.2408 - val_loss: 0.3233\n",
            "Epoch 8/20\n",
            "500/500 [==============================] - 20s 40ms/step - loss: 0.2345 - val_loss: 0.3253\n",
            "Epoch 9/20\n",
            "500/500 [==============================] - 20s 40ms/step - loss: 0.2293 - val_loss: 0.3188\n",
            "Epoch 10/20\n",
            "500/500 [==============================] - 20s 40ms/step - loss: 0.2245 - val_loss: 0.3290\n",
            "Epoch 11/20\n",
            "500/500 [==============================] - 20s 39ms/step - loss: 0.2213 - val_loss: 0.3315\n",
            "Epoch 12/20\n",
            "500/500 [==============================] - 20s 40ms/step - loss: 0.2179 - val_loss: 0.3527\n",
            "Epoch 13/20\n",
            "500/500 [==============================] - 20s 40ms/step - loss: 0.2143 - val_loss: 0.3564\n",
            "Epoch 14/20\n",
            "500/500 [==============================] - 20s 40ms/step - loss: 0.2128 - val_loss: 0.3550\n",
            "Epoch 15/20\n",
            "500/500 [==============================] - 20s 40ms/step - loss: 0.2098 - val_loss: 0.3689\n",
            "Epoch 16/20\n",
            "500/500 [==============================] - 20s 40ms/step - loss: 0.2064 - val_loss: 0.3477\n",
            "Epoch 17/20\n",
            "500/500 [==============================] - 20s 40ms/step - loss: 0.2052 - val_loss: 0.3385\n",
            "Epoch 18/20\n",
            "500/500 [==============================] - 20s 40ms/step - loss: 0.2038 - val_loss: 0.3356\n",
            "Epoch 19/20\n",
            "500/500 [==============================] - 20s 40ms/step - loss: 0.2013 - val_loss: 0.3437\n",
            "Epoch 20/20\n",
            "500/500 [==============================] - 20s 40ms/step - loss: 0.1995 - val_loss: 0.3339\n"
          ]
        }
      ]
    },
    {
      "cell_type": "markdown",
      "metadata": {
        "id": "qnrvu_-hXygJ"
      },
      "source": [
        "훈련 손실과 검증 손실의 그래프를 그려 보죠:"
      ]
    },
    {
      "cell_type": "code",
      "metadata": {
        "id": "osDgUps8XygJ",
        "outputId": "218ee748-43ff-4ad8-bcee-caf39d3578be"
      },
      "source": [
        "import matplotlib.pyplot as plt\n",
        "\n",
        "loss = history.history['loss']\n",
        "val_loss = history.history['val_loss']\n",
        "\n",
        "epochs = range(1, len(loss) + 1)\n",
        "\n",
        "plt.figure()\n",
        "\n",
        "plt.plot(epochs, loss, 'bo', label='Training loss')\n",
        "plt.plot(epochs, val_loss, 'b', label='Validation loss')\n",
        "plt.title('Training and validation loss')\n",
        "plt.legend()\n",
        "\n",
        "plt.show()"
      ],
      "execution_count": null,
      "outputs": [
        {
          "data": {
            "image/png": "[encoded data removed]",
            "text/plain": [
              "<Figure size 432x288 with 1 Axes>"
            ]
          },
          "metadata": {
            "needs_background": "light"
          },
          "output_type": "display_data"
        }
      ]
    },
    {
      "cell_type": "markdown",
      "metadata": {
        "id": "hPA55e4uXygJ"
      },
      "source": [
        "일부 검증 손실은 학습을 사용하지 않은 기준점에 가깝지만 안정적이지 못합니다. 앞서 기준 모델을 만든 것이 도움이 됩니다. 이 문제는 기준 모델의 성능을 앞지르기가 쉽지 않습니다. 우리가 적용한 상식에는 머신 러닝 모델이 찾지 못한 핵심 정보가 많이 포함되어 있습니다.\n",
        "\n",
        "간단하고 괜찮은 성능을 내는 모델(상식 수준의 기준 모델)이 데이터와 타깃을 매핑할 수 있다면 왜 훈련한 모델은 이를 찾지 못하고 성능이 낮을까요? 훈련 과정이 찾는 것은 간단한 이 모델이 아니기 때문입니다. 문제 해결을 위해 탐색하는 모델의 공간, 즉 가설 공간은 우리가 매개변수로 설정한 두 개 층을 가진 네트워크의 모든 가능한 가중치의 조합입니다. 이 네트워크는 이미 매우 복잡합니다. 복잡한 모델 공간에서 해결책을 탐색할 때 간단하고 괜찮은 성능을 내는 모델은 찾지 못할 수 있습니다. 심지어 기술적으로 봤을 때 이 가설 공간에 포함되어 있을 때 조차도 말이죠. 이것이 일반적으로 머신 러닝이 가진 심각한 제약 사항입니다. 학습 알고리즘이 특정한 종류의 간단한 모델을 찾도록 하드코딩되지 않았다면, 모델 파라미터를 학습하는 방법은 간단한 문제를 위한 간단한 해결책을 찾지 못할 수 있습니다."
      ]
    },
    {
      "cell_type": "markdown",
      "metadata": {
        "id": "Nh9IaQSZXygJ"
      },
      "source": [
        "## 첫 번째 순환 신경망\n",
        "\n",
        "첫 번째 완전 연결 네트워크는 잘 작동하지 않았습니다. 그렇다고 이 문제에 머신 러닝이 적합하지 않다는 뜻은 아닙니다. 앞선 모델은 시계열 데이터를 펼쳤기 때문에 입력 데이터에서 시간 개념을 잃어버렸습니다. 대신 인과 관계와 순서가 의미가 있는 시퀀스 데이터 그대로 사용해 보겠습니다. 이런 시퀀스 데이터에 아주 잘 들어맞는 순환 시퀀스 처리 모델을 시도해 보겠습니다. 이 모델은 앞선 모델과 달리 데이터 포인터의 시간 순서를 사용합니다.\n",
        "\n",
        "이전 절에서 소개한 `LSTM` 층 대신에 2014년에 정준영 등이 개발한 `GRU` 층을 사용하겠습니다. GRU 층은 LSTM과 같은 원리로 작동하지만 조금 더 간결하고 그래서 계산 비용이 덜 듭니다(LSTM 만큼 표현 학습 능력이 높지는 않을 수 있습니다). 계산 비용과 표현 학습 능력 사이의 트레이드오프(trade-off)는 머신 러닝 어디에서나 등장합니다."
      ]
    },
    {
      "cell_type": "code",
      "metadata": {
        "id": "BmGI0XstXygJ",
        "outputId": "f8c3fa5a-2957-4540-88a7-45b9af51017f"
      },
      "source": [
        "from tensorflow.keras.models import Sequential\n",
        "from tensorflow.keras import layers\n",
        "from tensorflow.keras.optimizers import RMSprop\n",
        "\n",
        "model = Sequential()\n",
        "model.add(layers.GRU(32, input_shape=(None, float_data.shape[-1])))\n",
        "model.add(layers.Dense(1))\n",
        "\n",
        "model.compile(optimizer=RMSprop(), loss='mae')\n",
        "history = model.fit_generator(train_gen,\n",
        "                              steps_per_epoch=500,\n",
        "                              epochs=20,\n",
        "                              validation_data=val_gen,\n",
        "                              validation_steps=val_steps)"
      ],
      "execution_count": null,
      "outputs": [
        {
          "name": "stderr",
          "output_type": "stream",
          "text": [
            "/home/work/.local/lib/python3.7/site-packages/keras/engine/training.py:1972: UserWarning: `Model.fit_generator` is deprecated and will be removed in a future version. Please use `Model.fit`, which supports generators.\n",
            "  warnings.warn('`Model.fit_generator` is deprecated and '\n"
          ]
        },
        {
          "name": "stdout",
          "output_type": "stream",
          "text": [
            "Epoch 1/20\n",
            "500/500 [==============================] - 76s 149ms/step - loss: 0.2969 - val_loss: 0.2694\n",
            "Epoch 2/20\n",
            "500/500 [==============================] - 73s 145ms/step - loss: 0.2833 - val_loss: 0.2647\n",
            "Epoch 3/20\n",
            "500/500 [==============================] - 73s 146ms/step - loss: 0.2764 - val_loss: 0.2639\n",
            "Epoch 4/20\n",
            "500/500 [==============================] - 74s 148ms/step - loss: 0.2714 - val_loss: 0.2630\n",
            "Epoch 5/20\n",
            "500/500 [==============================] - 74s 147ms/step - loss: 0.2646 - val_loss: 0.2617\n",
            "Epoch 6/20\n",
            "500/500 [==============================] - 72s 145ms/step - loss: 0.2627 - val_loss: 0.2640\n",
            "Epoch 7/20\n",
            "500/500 [==============================] - 73s 147ms/step - loss: 0.2576 - val_loss: 0.2660\n",
            "Epoch 8/20\n",
            "500/500 [==============================] - 74s 148ms/step - loss: 0.2532 - val_loss: 0.2668\n",
            "Epoch 9/20\n",
            "500/500 [==============================] - 74s 148ms/step - loss: 0.2481 - val_loss: 0.2708\n",
            "Epoch 10/20\n",
            "500/500 [==============================] - 73s 147ms/step - loss: 0.2442 - val_loss: 0.2714\n",
            "Epoch 11/20\n",
            "500/500 [==============================] - 72s 144ms/step - loss: 0.2401 - val_loss: 0.2756\n",
            "Epoch 12/20\n",
            "500/500 [==============================] - 73s 146ms/step - loss: 0.2349 - val_loss: 0.2743\n",
            "Epoch 13/20\n",
            "500/500 [==============================] - 74s 147ms/step - loss: 0.2318 - val_loss: 0.2838\n",
            "Epoch 14/20\n",
            "500/500 [==============================] - 74s 147ms/step - loss: 0.2284 - val_loss: 0.2817\n",
            "Epoch 15/20\n",
            "500/500 [==============================] - 73s 147ms/step - loss: 0.2242 - val_loss: 0.2856\n",
            "Epoch 16/20\n",
            "500/500 [==============================] - 74s 147ms/step - loss: 0.2217 - val_loss: 0.2894\n",
            "Epoch 17/20\n",
            "500/500 [==============================] - 74s 147ms/step - loss: 0.2165 - val_loss: 0.2914\n",
            "Epoch 18/20\n",
            "500/500 [==============================] - 72s 145ms/step - loss: 0.2129 - val_loss: 0.2965\n",
            "Epoch 19/20\n",
            "500/500 [==============================] - 72s 144ms/step - loss: 0.2097 - val_loss: 0.2977\n",
            "Epoch 20/20\n",
            "500/500 [==============================] - 73s 146ms/step - loss: 0.2071 - val_loss: 0.2977\n"
          ]
        }
      ]
    },
    {
      "cell_type": "markdown",
      "metadata": {
        "id": "KwfAQ3VZXygK"
      },
      "source": [
        "결과를 확인해 보죠:"
      ]
    },
    {
      "cell_type": "code",
      "metadata": {
        "id": "Q2xuPGxVXygK",
        "outputId": "fce75e32-93a6-45dc-a500-c22bb1090720"
      },
      "source": [
        "loss = history.history['loss']\n",
        "val_loss = history.history['val_loss']\n",
        "\n",
        "epochs = range(1, len(loss) + 1)\n",
        "\n",
        "plt.figure()\n",
        "\n",
        "plt.plot(epochs, loss, 'bo', label='Training loss')\n",
        "plt.plot(epochs, val_loss, 'b', label='Validation loss')\n",
        "plt.title('Training and validation loss')\n",
        "plt.legend()\n",
        "\n",
        "plt.show()"
      ],
      "execution_count": null,
      "outputs": [
        {
          "data": {
            "image/png": "[encoded data removed]",
            "text/plain": [
              "<Figure size 432x288 with 1 Axes>"
            ]
          },
          "metadata": {
            "needs_background": "light"
          },
          "output_type": "display_data"
        }
      ]
    },
    {
      "cell_type": "markdown",
      "metadata": {
        "id": "7nOVRX6gXygK"
      },
      "source": [
        "훨씬 좋군요! 상식 수준의 모델을 크게 앞질렀습니다. 이 그림은 시퀀스를 펼쳐서 처리하는 완전 연결 네트워크에 비해서 순환 네트워크가 이런 종류의 작업에 훨씬 뛰어나다는 것과 머신 러닝의 가치를 보여줍니다.\n",
        "\n",
        "새로운 검증 MAE는 0.265 이하(크게 과대적합되기 시작하는 곳)이고 정규화되기 전인 섭씨로 복원하면 MAE는 2.35°C입니다. 초기 에러 2.57°C보다는 확실히 낫지만 더 개선할 수 있을 것 같습니다."
      ]
    },
    {
      "cell_type": "markdown",
      "metadata": {
        "id": "L3Ui01ZyXygK"
      },
      "source": [
        "## 과대적합을 감소하기 위해 순환 드롭아웃 사용하기\n",
        "\n",
        "훈련 손실과 검증 손실 곡선을 보면 모델이 과대적합인지 알 수 있습니다. 몇 번의 에포크 이후에 훈련 손실과 검증 손실이 현저하게 벌어지기 시작합니다. 이런 현상을 해결하기 위해 잘 알려진 드롭아웃 기법을 이미 보았습니다. 훈련 데이터를 층에 주입할 때 데이터에 있는 우연한 상관 관계를 깨뜨리기 위해 입력 층의 유닛을 랜덤하게 끄는 기법입니다. 순환 신경망에 드롭아웃을 올바르게 적용하는 방법은 간단하지 않습니다. 순환 층 이전에 드롭아웃을 적용하면 규제에 도움이 되는 것보다 학습에 더 방해되는 것으로 오랫동안 알려졌습니다. 2015년 야린 갈이 베이지안 딥러닝에 관한 박사 논문에서 순환 네트워크에 적절하게 드롭아웃을 사용하는 방법을 알아 내었습니다. 타임스텝마다 랜덤하게 드롭아웃 마스크를 바꾸는 것이 아니라 동일한 드롭아웃 마스크(동일한 유닛의 드롭 패턴)를 모든 타임스텝에 적용해야 합니다. GRU이나 LSTM 같은 순환 게이트에 의해 만들어지는 표현을 규제하려면 순환 층 내부 계산에 사용된 활성화 함수에 타임스텝마다 동일한 드롭아웃 마스크를 적용해야 합니다(순환 드롭 아웃 마스크). 모든 타임스텝에 동일한 드롭아웃 마스크를 적용하면 네트워크가 학습 오차를 타임스템에 걸쳐 적절하게 전파시킬 것입니다. 타임스텝마다 랜덤한 드롭아웃 마스크를 적용하면 오차 신호가 전파되는 것을 방해하고 학습 과정에 해를 끼칩니다.\n",
        "\n",
        "야린 갈은 케라스를 사용해 연구를 하였고 케라스 순환 층에 이 기능을 구현하는 데 도움을 주었습니다. 케라스에 있는 모든 순환 층은 두 개의 드롭아웃 매개변수를 가지고 있습니다. `dropout`은 층의 입력에 대한 드롭아웃 비율을 정하는 부동 소수 값입니다. `recurrent_dropout`은 순환 상태의 드롭아웃 비율을 정합니다. GRU 층에 드롭아웃과 순환 드롭아웃을 적용해 과대적합에 어떤 영향을 미치는지 살펴보겠습니다. 드롭아웃으로 규제된 네트워크는 언제나 완전히 수렴하는 데 더 오래 걸립니다. 에포크를 두 배 더 늘려 네트워크를 훈련하겠습니다."
      ]
    },
    {
      "cell_type": "code",
      "metadata": {
        "id": "1NgkTGDLXygK",
        "outputId": "04ce5091-b63e-4c0c-d052-9195f51cda2f"
      },
      "source": [
        "from tensorflow.keras.models import Sequential\n",
        "from tensorflow.keras import layers\n",
        "from tensorflow.keras.optimizers import RMSprop\n",
        "\n",
        "model = Sequential()\n",
        "model.add(layers.GRU(32,\n",
        "                     #dropout=0.2,    # cuDNN을 사용할 수 없기 때문에\n",
        "                     #recurrent_dropout=0.2,\n",
        "                     input_shape=(None, float_data.shape[-1])))\n",
        "model.add(layers.Dense(1))\n",
        "\n",
        "model.compile(optimizer=RMSprop(), loss='mae')\n",
        "history = model.fit_generator(train_gen,\n",
        "                              steps_per_epoch=500,\n",
        "                              epochs=40,\n",
        "                              validation_data=val_gen,\n",
        "                              validation_steps=val_steps)"
      ],
      "execution_count": null,
      "outputs": [
        {
          "name": "stdout",
          "output_type": "stream",
          "text": [
            "Epoch 1/40\n",
            "500/500 [==============================] - 74s 145ms/step - loss: 0.3079 - val_loss: 0.2680\n",
            "Epoch 2/40\n",
            "500/500 [==============================] - 73s 145ms/step - loss: 0.2815 - val_loss: 0.2716\n",
            "Epoch 3/40\n",
            "500/500 [==============================] - 74s 148ms/step - loss: 0.2744 - val_loss: 0.2683\n",
            "Epoch 4/40\n",
            "500/500 [==============================] - 74s 148ms/step - loss: 0.2691 - val_loss: 0.2654\n",
            "Epoch 5/40\n",
            "500/500 [==============================] - 73s 146ms/step - loss: 0.2652 - val_loss: 0.2715\n",
            "Epoch 6/40\n",
            "500/500 [==============================] - 73s 147ms/step - loss: 0.2613 - val_loss: 0.2687\n",
            "Epoch 7/40\n",
            "500/500 [==============================] - 73s 146ms/step - loss: 0.2561 - val_loss: 0.2682\n",
            "Epoch 8/40\n",
            "500/500 [==============================] - 73s 147ms/step - loss: 0.2532 - val_loss: 0.2745\n",
            "Epoch 9/40\n",
            "500/500 [==============================] - 72s 144ms/step - loss: 0.2489 - val_loss: 0.2727\n",
            "Epoch 10/40\n",
            "500/500 [==============================] - 73s 147ms/step - loss: 0.2446 - val_loss: 0.2717\n",
            "Epoch 11/40\n",
            "500/500 [==============================] - 74s 149ms/step - loss: 0.2408 - val_loss: 0.2792\n",
            "Epoch 12/40\n",
            "500/500 [==============================] - 74s 147ms/step - loss: 0.2353 - val_loss: 0.2828\n",
            "Epoch 13/40\n",
            "500/500 [==============================] - 74s 148ms/step - loss: 0.2314 - val_loss: 0.2802\n",
            "Epoch 14/40\n",
            "500/500 [==============================] - 74s 148ms/step - loss: 0.2272 - val_loss: 0.2880\n",
            "Epoch 15/40\n",
            "500/500 [==============================] - 73s 147ms/step - loss: 0.2230 - val_loss: 0.2952\n",
            "Epoch 16/40\n",
            "500/500 [==============================] - 73s 145ms/step - loss: 0.2180 - val_loss: 0.2960\n",
            "Epoch 17/40\n",
            "500/500 [==============================] - 74s 147ms/step - loss: 0.2162 - val_loss: 0.2928\n",
            "Epoch 18/40\n",
            "500/500 [==============================] - 74s 149ms/step - loss: 0.2126 - val_loss: 0.3045\n",
            "Epoch 19/40\n",
            "500/500 [==============================] - 75s 149ms/step - loss: 0.2085 - val_loss: 0.2998\n",
            "Epoch 20/40\n",
            "500/500 [==============================] - 73s 147ms/step - loss: 0.2051 - val_loss: 0.3032\n",
            "Epoch 21/40\n",
            "500/500 [==============================] - 74s 147ms/step - loss: 0.2024 - val_loss: 0.3098\n",
            "Epoch 22/40\n",
            "500/500 [==============================] - 72s 145ms/step - loss: 0.1994 - val_loss: 0.3087\n",
            "Epoch 23/40\n",
            "500/500 [==============================] - 74s 148ms/step - loss: 0.1945 - val_loss: 0.3083\n",
            "Epoch 24/40\n",
            "500/500 [==============================] - 74s 147ms/step - loss: 0.1931 - val_loss: 0.3157\n",
            "Epoch 25/40\n",
            "500/500 [==============================] - 74s 149ms/step - loss: 0.1920 - val_loss: 0.3176\n",
            "Epoch 26/40\n",
            "500/500 [==============================] - 73s 145ms/step - loss: 0.1888 - val_loss: 0.3188\n",
            "Epoch 27/40\n",
            "500/500 [==============================] - 72s 145ms/step - loss: 0.1874 - val_loss: 0.3208\n",
            "Epoch 28/40\n",
            "500/500 [==============================] - 74s 148ms/step - loss: 0.1837 - val_loss: 0.3246\n",
            "Epoch 29/40\n",
            "500/500 [==============================] - 74s 148ms/step - loss: 0.1819 - val_loss: 0.3245\n",
            "Epoch 30/40\n",
            "500/500 [==============================] - 74s 148ms/step - loss: 0.1815 - val_loss: 0.3217\n",
            "Epoch 31/40\n",
            "500/500 [==============================] - 73s 147ms/step - loss: 0.1778 - val_loss: 0.3340\n",
            "Epoch 32/40\n",
            "500/500 [==============================] - 74s 147ms/step - loss: 0.1763 - val_loss: 0.3293\n",
            "Epoch 33/40\n",
            "500/500 [==============================] - 73s 147ms/step - loss: 0.1749 - val_loss: 0.3284\n",
            "Epoch 34/40\n",
            "500/500 [==============================] - 73s 146ms/step - loss: 0.1743 - val_loss: 0.3313\n",
            "Epoch 35/40\n",
            "500/500 [==============================] - 73s 146ms/step - loss: 0.1732 - val_loss: 0.3366\n",
            "Epoch 36/40\n",
            "500/500 [==============================] - 74s 147ms/step - loss: 0.1716 - val_loss: 0.3385\n",
            "Epoch 37/40\n",
            "500/500 [==============================] - 72s 143ms/step - loss: 0.1691 - val_loss: 0.3412\n",
            "Epoch 38/40\n",
            "500/500 [==============================] - 72s 144ms/step - loss: 0.1698 - val_loss: 0.3396\n",
            "Epoch 39/40\n",
            "500/500 [==============================] - 71s 142ms/step - loss: 0.1669 - val_loss: 0.3409\n",
            "Epoch 40/40\n",
            "500/500 [==============================] - 71s 142ms/step - loss: 0.1659 - val_loss: 0.3473\n"
          ]
        }
      ]
    },
    {
      "cell_type": "code",
      "metadata": {
        "id": "BKpJi3D1XygL",
        "outputId": "33084197-8e99-4eff-9152-33de41d186b9"
      },
      "source": [
        "loss = history.history['loss']\n",
        "val_loss = history.history['val_loss']\n",
        "\n",
        "epochs = range(1, len(loss) + 1)\n",
        "\n",
        "plt.figure()\n",
        "\n",
        "plt.plot(epochs, loss, 'bo', label='Training loss')\n",
        "plt.plot(epochs, val_loss, 'b', label='Validation loss')\n",
        "plt.title('Training and validation loss')\n",
        "plt.legend()\n",
        "\n",
        "plt.show()"
      ],
      "execution_count": null,
      "outputs": [
        {
          "data": {
            "image/png": "[encoded data removed]",
            "text/plain": [
              "<Figure size 432x288 with 1 Axes>"
            ]
          },
          "metadata": {
            "needs_background": "light"
          },
          "output_type": "display_data"
        }
      ]
    },
    {
      "cell_type": "markdown",
      "metadata": {
        "id": "cTLdgBumXygL"
      },
      "source": [
        "성공이네요! 30번째 에포크까지 과대적합이 일어나지 않았습니다. 평가 점수는 안정적이지만 이전보다 더 나아지진 않았습니다."
      ]
    },
    {
      "cell_type": "markdown",
      "metadata": {
        "id": "Vjl27f62XygL"
      },
      "source": [
        "## 스태킹 순환 층\n",
        "\n",
        "과대적합은 더 이상 없지만 성능상의 병목이 있는 것 같으므로 네트워크의 용량을 늘려야 합니다. 일반적인 머신 러닝 작업 흐름을 기억하세요. (드롭아웃 등을 사용하여 과대적합을 줄이는 기본 단계를 거쳤다고 가정하고) 과대적합이 일어날 때까지 네트워크의 용량을 늘리는 것이 좋습니다. 너무 많이 과대적합되지 않는 한 아직 충분한 용량에 도달한 것이 아닙니다.\n",
        "\n",
        "네트워크의 용량을 늘리려면 일반적으로 층에 있는 유닛의 수를 늘리거나 층을 더 많이 추가합니다. 순환 층 스태킹은 더 강력한 순환 네트워크를 만드는 고전적인 방법입니다. 예를 들어 구글 번역 알고리즘의 현재 성능은 7개의 대규모 LSTM 층을 쌓은 대규모 모델에서 나온 것입니다.\n",
        "\n",
        "케라스에서 순환 층을 차례대로 쌓으려면 모든 중간 층은 마지막 타임스텝 출력만이 아니고 전체 시퀀스(3D 텐서)를 출력해야 합니다. `return_sequences=True`로 지정하면 됩니다: "
      ]
    },
    {
      "cell_type": "code",
      "metadata": {
        "id": "ShXKsjImXygL",
        "outputId": "08b52bff-e314-4d12-aa27-9cd2d63d7b7e"
      },
      "source": [
        "from tensorflow.keras.models import Sequential\n",
        "from tensorflow.keras import layers\n",
        "from tensorflow.keras.optimizers import RMSprop\n",
        "\n",
        "model = Sequential()\n",
        "model.add(layers.GRU(32,\n",
        "                     #dropout=0.1,  # cuDNN을 사용할 수 없기 때문에\n",
        "                     #recurrent_dropout=0.5,\n",
        "                     return_sequences=True,\n",
        "                     input_shape=(None, float_data.shape[-1])))\n",
        "model.add(layers.GRU(64,\n",
        "                     #activation='relu',  # cuDNN을 사용할 수 없기 때문에\n",
        "                     #dropout=0.1,\n",
        "                     #recurrent_dropout=0.5\n",
        "                    ))\n",
        "model.add(layers.Dense(1))\n",
        "\n",
        "model.compile(optimizer=RMSprop(), loss='mae')\n",
        "history = model.fit_generator(train_gen,\n",
        "                              steps_per_epoch=500,\n",
        "                              epochs=40,\n",
        "                              validation_data=val_gen,\n",
        "                              validation_steps=val_steps)"
      ],
      "execution_count": null,
      "outputs": [
        {
          "name": "stdout",
          "output_type": "stream",
          "text": [
            "Epoch 1/40\n",
            "500/500 [==============================] - 189s 372ms/step - loss: 0.3032 - val_loss: 0.2736\n",
            "Epoch 2/40\n",
            "500/500 [==============================] - 186s 373ms/step - loss: 0.2805 - val_loss: 0.2657\n",
            "Epoch 3/40\n",
            "500/500 [==============================] - 185s 371ms/step - loss: 0.2690 - val_loss: 0.2628\n",
            "Epoch 4/40\n",
            "500/500 [==============================] - 186s 373ms/step - loss: 0.2577 - val_loss: 0.2728\n",
            "Epoch 5/40\n",
            "500/500 [==============================] - 187s 374ms/step - loss: 0.2481 - val_loss: 0.2753\n",
            "Epoch 6/40\n",
            "500/500 [==============================] - 187s 374ms/step - loss: 0.2348 - val_loss: 0.2790\n",
            "Epoch 7/40\n",
            "500/500 [==============================] - 184s 368ms/step - loss: 0.2226 - val_loss: 0.2985\n",
            "Epoch 8/40\n",
            "500/500 [==============================] - 185s 370ms/step - loss: 0.2104 - val_loss: 0.2993\n",
            "Epoch 9/40\n",
            "500/500 [==============================] - 186s 373ms/step - loss: 0.2004 - val_loss: 0.2982\n",
            "Epoch 10/40\n",
            "500/500 [==============================] - 184s 368ms/step - loss: 0.1900 - val_loss: 0.3054\n",
            "Epoch 11/40\n",
            "500/500 [==============================] - 183s 367ms/step - loss: 0.1817 - val_loss: 0.3116\n",
            "Epoch 12/40\n",
            "500/500 [==============================] - 186s 373ms/step - loss: 0.1725 - val_loss: 0.3110\n",
            "Epoch 13/40\n",
            "500/500 [==============================] - 187s 374ms/step - loss: 0.1641 - val_loss: 0.3177\n",
            "Epoch 14/40\n",
            "500/500 [==============================] - 186s 373ms/step - loss: 0.1588 - val_loss: 0.3209\n",
            "Epoch 15/40\n",
            "500/500 [==============================] - 188s 375ms/step - loss: 0.1525 - val_loss: 0.3254\n",
            "Epoch 16/40\n",
            "500/500 [==============================] - 187s 375ms/step - loss: 0.1463 - val_loss: 0.3224\n",
            "Epoch 17/40\n",
            "500/500 [==============================] - 186s 372ms/step - loss: 0.1410 - val_loss: 0.3220\n",
            "Epoch 18/40\n",
            "500/500 [==============================] - 186s 372ms/step - loss: 0.1366 - val_loss: 0.3277\n",
            "Epoch 19/40\n",
            "500/500 [==============================] - 187s 374ms/step - loss: 0.1318 - val_loss: 0.3275\n",
            "Epoch 20/40\n",
            "500/500 [==============================] - 188s 376ms/step - loss: 0.1288 - val_loss: 0.3295\n",
            "Epoch 21/40\n",
            "500/500 [==============================] - 187s 374ms/step - loss: 0.1253 - val_loss: 0.3344\n",
            "Epoch 22/40\n",
            "500/500 [==============================] - 185s 370ms/step - loss: 0.1218 - val_loss: 0.3263\n",
            "Epoch 23/40\n",
            "500/500 [==============================] - 186s 373ms/step - loss: 0.1194 - val_loss: 0.3329\n",
            "Epoch 24/40\n",
            "500/500 [==============================] - 173s 347ms/step - loss: 0.1166 - val_loss: 0.3313\n",
            "Epoch 25/40\n",
            "500/500 [==============================] - 180s 361ms/step - loss: 0.1142 - val_loss: 0.3336\n",
            "Epoch 26/40\n",
            "500/500 [==============================] - 178s 357ms/step - loss: 0.1119 - val_loss: 0.3272\n",
            "Epoch 27/40\n",
            "500/500 [==============================] - 181s 363ms/step - loss: 0.1098 - val_loss: 0.3274\n",
            "Epoch 28/40\n",
            "500/500 [==============================] - 181s 362ms/step - loss: 0.1075 - val_loss: 0.3333\n",
            "Epoch 29/40\n",
            "500/500 [==============================] - 181s 363ms/step - loss: 0.1055 - val_loss: 0.3297\n",
            "Epoch 30/40\n",
            "500/500 [==============================] - 182s 364ms/step - loss: 0.1038 - val_loss: 0.3306\n",
            "Epoch 31/40\n",
            "500/500 [==============================] - 180s 360ms/step - loss: 0.1019 - val_loss: 0.3323\n",
            "Epoch 32/40\n",
            "500/500 [==============================] - 181s 363ms/step - loss: 0.1008 - val_loss: 0.3289\n",
            "Epoch 33/40\n",
            "500/500 [==============================] - 181s 363ms/step - loss: 0.0992 - val_loss: 0.3329\n",
            "Epoch 34/40\n",
            "500/500 [==============================] - 182s 364ms/step - loss: 0.0979 - val_loss: 0.3327\n",
            "Epoch 35/40\n",
            "500/500 [==============================] - 182s 364ms/step - loss: 0.0964 - val_loss: 0.3350\n",
            "Epoch 36/40\n",
            "500/500 [==============================] - 179s 357ms/step - loss: 0.0949 - val_loss: 0.3349\n",
            "Epoch 37/40\n",
            "500/500 [==============================] - 176s 351ms/step - loss: 0.0939 - val_loss: 0.3390\n",
            "Epoch 38/40\n",
            "500/500 [==============================] - 175s 350ms/step - loss: 0.0933 - val_loss: 0.3327\n",
            "Epoch 39/40\n",
            "500/500 [==============================] - 184s 369ms/step - loss: 0.0920 - val_loss: 0.3357\n",
            "Epoch 40/40\n",
            "500/500 [==============================] - 184s 367ms/step - loss: 0.0907 - val_loss: 0.3293\n"
          ]
        }
      ]
    },
    {
      "cell_type": "markdown",
      "metadata": {
        "id": "Glm8QR0QXygL"
      },
      "source": [
        "결과를 확인해 보죠:"
      ]
    },
    {
      "cell_type": "code",
      "metadata": {
        "id": "65O0xvT9XygL",
        "outputId": "b859b5ab-19ab-4409-e573-70963a879a3b"
      },
      "source": [
        "loss = history.history['loss']\n",
        "val_loss = history.history['val_loss']\n",
        "\n",
        "epochs = range(1, len(loss) + 1)\n",
        "\n",
        "plt.figure()\n",
        "\n",
        "plt.plot(epochs, loss, 'bo', label='Training loss')\n",
        "plt.plot(epochs, val_loss, 'b', label='Validation loss')\n",
        "plt.title('Training and validation loss')\n",
        "plt.legend()\n",
        "\n",
        "plt.show()"
      ],
      "execution_count": null,
      "outputs": [
        {
          "data": {
            "image/png": "[encoded data removed]",
            "text/plain": [
              "<Figure size 432x288 with 1 Axes>"
            ]
          },
          "metadata": {
            "needs_background": "light"
          },
          "output_type": "display_data"
        }
      ]
    },
    {
      "cell_type": "markdown",
      "metadata": {
        "id": "nIi_6I4sXygL"
      },
      "source": [
        "층을 추가하여 성능을 조금 향상시켰지만 크지는 않습니다. 여기서 두 가지 결론을 얻을 수 있습니다:\n",
        "\n",
        "* 아직 충분히 과대적합을 만들지 못했기 때문에 검증 손실을 향상하기 위해서 층의 크기를 늘릴 수 있습니다. 하지만 적지 않은 계산 비용이 추가됩니다.\n",
        "* 층을 추가한 만큼 도움이 되지 않았으므로 여기서는 네트워크의 용량을 늘리는 것이 도움이 되지 않는다고 볼 수 있습니다."
      ]
    },
    {
      "cell_type": "markdown",
      "metadata": {
        "id": "4qx0QDdJXygL"
      },
      "source": [
        "## 양방향 RNN 사용하기\n",
        "\n",
        "이 절에서 소개할 마지막 기법은 양방향 RNN입니다. 양방향 RNN은 RNN의 한 변종이고 특정 작업에서 기본 RNN 보다 훨씬 좋은 성능을 냅니다. 자연어 처리에서는 맥가이버 칼이라고 할 정도로 즐겨 사용됩니다.\n",
        "\n",
        "RNN은 특히 순서 또는 시간에 민감합니다. 즉, 입력 시퀀스의 타입스텝 순서대로 처리합니다. 타입스텝을 섞거나 거꾸로 하면 RNN이 시퀀스에서 학습하는 표현을 완전히 바꾸어 버립니다. 이는 온도 예측과 같이 순서에 의미가 있는 문제에 잘 맞는 이유이기도 합니다. 양방향 RNN은 RNN이 순서에 민감하다는 성질을 사용합니다. 앞서 보았던 GRU나 LSTM 같은 RNN 두 개를 사용합니다. 각 RNN은 입력 시퀀스를 한 방향(시간의 순서나 반대 순서)으로 처리한 다음 각 표현을 합칩니다. 시퀀스를 양쪽 방향으로 처리하기 때문에 양방향 RNN은 단방향 RNN이 놓치기 쉬운 패턴을 감지할 수 있습니다.\n",
        "\n",
        "놀랍게도 이 절에 있는 RNN 층이 시간의 순서대로 (오래된 타임스텝이 먼저 나오도록) 시퀀스를 처리하는 것은 근거 없는 결정입니다. 적어도 이 결정을 궁금해하지 않았습니다. 시간의 반대 방향으로 (최근 타임스텝이 먼저 나오도록) 입력 시퀀스를 처리하면 만족할만한 RNN 성능을 낼 수 있을까요? 실제 이렇게 해 보고 결과가 어떤지 확인해 보죠. 해야 할 일은 입력 시퀀스를 시간 차원을 따라 거꾸로 생성하는 데이터 제너레이터 만드는 것 뿐입니다(제너레이터 함수의 마지막 줄을 `yield samples[:, ::-1, :], targets`로 바꿉니다). 이 절의 첫 번째 예제와 동일하게 하나의 GRU 층을 가진 네트워크를 훈련합니다:"
      ]
    },
    {
      "cell_type": "code",
      "metadata": {
        "id": "CNGR7spEXygL"
      },
      "source": [
        "def reverse_order_generator(data, lookback, delay, min_index, max_index,\n",
        "                            shuffle=False, batch_size=128, step=6):\n",
        "    if max_index is None:\n",
        "        max_index = len(data) - delay - 1\n",
        "    i = min_index + lookback\n",
        "    while 1:\n",
        "        if shuffle:\n",
        "            rows = np.random.randint(\n",
        "                min_index + lookback, max_index, size=batch_size)\n",
        "        else:\n",
        "            if i + batch_size >= max_index:\n",
        "                i = min_index + lookback\n",
        "            rows = np.arange(i, min(i + batch_size, max_index))\n",
        "            i += len(rows)\n",
        "\n",
        "        samples = np.zeros((len(rows),\n",
        "                           lookback // step,\n",
        "                           data.shape[-1]))\n",
        "        targets = np.zeros((len(rows),))\n",
        "        for j, row in enumerate(rows):\n",
        "            indices = range(rows[j] - lookback, rows[j], step)\n",
        "            samples[j] = data[indices]\n",
        "            targets[j] = data[rows[j] + delay][1]\n",
        "        yield samples[:, ::-1, :], targets\n",
        "        \n",
        "train_gen_reverse = reverse_order_generator(\n",
        "    float_data,\n",
        "    lookback=lookback,\n",
        "    delay=delay,\n",
        "    min_index=0,\n",
        "    max_index=200000,\n",
        "    shuffle=True,\n",
        "    step=step, \n",
        "    batch_size=batch_size)\n",
        "val_gen_reverse = reverse_order_generator(\n",
        "    float_data,\n",
        "    lookback=lookback,\n",
        "    delay=delay,\n",
        "    min_index=200001,\n",
        "    max_index=300000,\n",
        "    step=step,\n",
        "    batch_size=batch_size)"
      ],
      "execution_count": null,
      "outputs": []
    },
    {
      "cell_type": "code",
      "metadata": {
        "id": "jmIjyG6BXygM",
        "outputId": "fed627a7-ceee-435c-80f9-0b5cd315f311"
      },
      "source": [
        "model = Sequential()\n",
        "model.add(layers.GRU(32, input_shape=(None, float_data.shape[-1])))\n",
        "model.add(layers.Dense(1))\n",
        "\n",
        "model.compile(optimizer=RMSprop(), loss='mae')\n",
        "history = model.fit_generator(train_gen_reverse,\n",
        "                              steps_per_epoch=500,\n",
        "                              epochs=20,\n",
        "                              validation_data=val_gen_reverse,\n",
        "                              validation_steps=val_steps)"
      ],
      "execution_count": null,
      "outputs": [
        {
          "name": "stdout",
          "output_type": "stream",
          "text": [
            "Epoch 1/20\n",
            "500/500 [==============================] - 76s 149ms/step - loss: 0.4782 - val_loss: 0.4811\n",
            "Epoch 2/20\n",
            "500/500 [==============================] - 73s 145ms/step - loss: 0.4365 - val_loss: 0.4555\n",
            "Epoch 3/20\n",
            "500/500 [==============================] - 73s 145ms/step - loss: 0.3845 - val_loss: 0.4158\n",
            "Epoch 4/20\n",
            "500/500 [==============================] - 73s 146ms/step - loss: 0.3418 - val_loss: 0.3554\n",
            "Epoch 5/20\n",
            "500/500 [==============================] - 73s 147ms/step - loss: 0.2999 - val_loss: 0.3387\n",
            "Epoch 6/20\n",
            "500/500 [==============================] - 72s 144ms/step - loss: 0.2788 - val_loss: 0.3118\n",
            "Epoch 7/20\n",
            "500/500 [==============================] - 72s 145ms/step - loss: 0.2667 - val_loss: 0.3197\n",
            "Epoch 8/20\n",
            "500/500 [==============================] - 71s 142ms/step - loss: 0.2579 - val_loss: 0.3177\n",
            "Epoch 9/20\n",
            "500/500 [==============================] - 73s 146ms/step - loss: 0.2537 - val_loss: 0.3265\n",
            "Epoch 10/20\n",
            "500/500 [==============================] - 73s 147ms/step - loss: 0.2470 - val_loss: 0.3257\n",
            "Epoch 11/20\n",
            "500/500 [==============================] - 73s 145ms/step - loss: 0.2411 - val_loss: 0.3242\n",
            "Epoch 12/20\n",
            "500/500 [==============================] - 73s 146ms/step - loss: 0.2367 - val_loss: 0.3302\n",
            "Epoch 13/20\n",
            "500/500 [==============================] - 72s 144ms/step - loss: 0.2326 - val_loss: 0.3400\n",
            "Epoch 14/20\n",
            "500/500 [==============================] - 73s 146ms/step - loss: 0.2279 - val_loss: 0.3345\n",
            "Epoch 15/20\n",
            "500/500 [==============================] - 73s 147ms/step - loss: 0.2241 - val_loss: 0.3374\n",
            "Epoch 16/20\n",
            "500/500 [==============================] - 73s 147ms/step - loss: 0.2202 - val_loss: 0.3385\n",
            "Epoch 17/20\n",
            "500/500 [==============================] - 73s 147ms/step - loss: 0.2178 - val_loss: 0.3493\n",
            "Epoch 18/20\n",
            "500/500 [==============================] - 74s 147ms/step - loss: 0.2153 - val_loss: 0.3471\n",
            "Epoch 19/20\n",
            "500/500 [==============================] - 73s 146ms/step - loss: 0.2105 - val_loss: 0.3530\n",
            "Epoch 20/20\n",
            "500/500 [==============================] - 73s 145ms/step - loss: 0.2093 - val_loss: 0.3538\n"
          ]
        }
      ]
    },
    {
      "cell_type": "code",
      "metadata": {
        "id": "pmoSJ1_3XygM",
        "outputId": "0c157c63-f8d8-43ae-f6cb-598b77966e1c"
      },
      "source": [
        "loss = history.history['loss']\n",
        "val_loss = history.history['val_loss']\n",
        "\n",
        "epochs = range(1, len(loss) + 1)\n",
        "\n",
        "plt.figure()\n",
        "\n",
        "plt.plot(epochs, loss, 'bo', label='Training loss')\n",
        "plt.plot(epochs, val_loss, 'b', label='Validation loss')\n",
        "plt.title('Training and validation loss')\n",
        "plt.legend()\n",
        "\n",
        "plt.show()"
      ],
      "execution_count": null,
      "outputs": [
        {
          "data": {
            "image/png": "[encoded data removed]",
            "text/plain": [
              "<Figure size 432x288 with 1 Axes>"
            ]
          },
          "metadata": {
            "needs_background": "light"
          },
          "output_type": "display_data"
        }
      ]
    },
    {
      "cell_type": "markdown",
      "metadata": {
        "id": "PsDgCrOTXygM"
      },
      "source": [
        "순서를 뒤집은 GRU는 상식 수준의 기준점보다도 성능이 낮습니다. 이 경우에는 시간 순서대로 처리하는 것이 중요한 역할을 합니다. 사실 이는 당연합니다. 기본적인 GRU 층은 먼 과거보다 최근 내용을 잘 기억합니다. 또한, 최근에 가까운 날씨 데이터 포인트일수록 오래된 데이터 포인트보다 예측에 유용합니다(상식 수준의 기준점이 꽤 강력한 이유입니다). 시간 순서대로 처리하는 네트워크가 거꾸로 처리하는 것보다 성능이 높아야만 합니다. 하지만 자연어 처리를 포함하여 다른 많은 문제에서는 그렇지 않습니다. 문장을 이해하는데 있어서 단어의 중요성은 단어가 문장 어디에 놓여 있는지에 따라 결정되지 않습니다. 같은 기법을 이전 절의 LSTM IMDB 예제에 적용해 보죠:"
      ]
    },
    {
      "cell_type": "code",
      "metadata": {
        "id": "QZJ7W89EXygM",
        "outputId": "2525a3fc-c6d4-4dc5-ee22-67e4eba0493b"
      },
      "source": [
        "from tensorflow.keras.datasets import imdb\n",
        "from tensorflow.keras.preprocessing import sequence\n",
        "from tensorflow.keras import layers\n",
        "from tensorflow.keras.models import Sequential\n",
        "\n",
        "# 특성으로 사용할 단어의 수\n",
        "max_features = 10000\n",
        "# 사용할 텍스트의 길이(가장 빈번한 max_features 개의 단어만 사용합니다)\n",
        "maxlen = 500\n",
        "\n",
        "# 데이터 로드\n",
        "(x_train, y_train), (x_test, y_test) = imdb.load_data(num_words=max_features)\n",
        "\n",
        "# 시퀀스를 뒤집습니다\n",
        "x_train = [x[::-1] for x in x_train]\n",
        "x_test = [x[::-1] for x in x_test]\n",
        "\n",
        "# 시퀀스에 패딩을 추가합니다\n",
        "x_train = sequence.pad_sequences(x_train, maxlen=maxlen)\n",
        "x_test = sequence.pad_sequences(x_test, maxlen=maxlen)\n",
        "\n",
        "model = Sequential()\n",
        "model.add(layers.Embedding(max_features, 128))\n",
        "model.add(layers.LSTM(32))\n",
        "model.add(layers.Dense(1, activation='sigmoid'))\n",
        "\n",
        "model.compile(optimizer='rmsprop',\n",
        "              loss='binary_crossentropy',\n",
        "              metrics=['accuracy'])\n",
        "history = model.fit(x_train, y_train,\n",
        "                    epochs=10,\n",
        "                    batch_size=128,\n",
        "                    validation_split=0.2)"
      ],
      "execution_count": null,
      "outputs": [
        {
          "name": "stdout",
          "output_type": "stream",
          "text": [
            "Epoch 1/10\n",
            "157/157 [==============================] - 55s 344ms/step - loss: 0.4815 - accuracy: 0.7756 - val_loss: 0.3640 - val_accuracy: 0.8576\n",
            "Epoch 2/10\n",
            "157/157 [==============================] - 53s 335ms/step - loss: 0.3064 - accuracy: 0.8834 - val_loss: 0.3430 - val_accuracy: 0.8750\n",
            "Epoch 3/10\n",
            "157/157 [==============================] - 53s 340ms/step - loss: 0.2557 - accuracy: 0.9051 - val_loss: 0.3027 - val_accuracy: 0.8822\n",
            "Epoch 4/10\n",
            "157/157 [==============================] - 53s 336ms/step - loss: 0.2192 - accuracy: 0.9212 - val_loss: 0.3869 - val_accuracy: 0.8568\n",
            "Epoch 5/10\n",
            "157/157 [==============================] - 52s 332ms/step - loss: 0.1910 - accuracy: 0.9324 - val_loss: 0.4719 - val_accuracy: 0.8274\n",
            "Epoch 6/10\n",
            "157/157 [==============================] - 53s 337ms/step - loss: 0.1648 - accuracy: 0.9418 - val_loss: 0.3741 - val_accuracy: 0.8726\n",
            "Epoch 7/10\n",
            "157/157 [==============================] - 53s 337ms/step - loss: 0.1528 - accuracy: 0.9456 - val_loss: 0.3977 - val_accuracy: 0.8674\n",
            "Epoch 8/10\n",
            "157/157 [==============================] - 53s 336ms/step - loss: 0.1388 - accuracy: 0.9514 - val_loss: 0.3971 - val_accuracy: 0.8652\n",
            "Epoch 9/10\n",
            "157/157 [==============================] - 53s 338ms/step - loss: 0.1253 - accuracy: 0.9575 - val_loss: 0.5341 - val_accuracy: 0.7990\n",
            "Epoch 10/10\n",
            "157/157 [==============================] - 53s 339ms/step - loss: 0.1173 - accuracy: 0.9596 - val_loss: 0.4135 - val_accuracy: 0.8422\n"
          ]
        }
      ]
    },
    {
      "cell_type": "markdown",
      "metadata": {
        "id": "L6CeoPZZXygM"
      },
      "source": [
        "시간 순서로 훈련한 LSTM과 거의 동일한 성능을 얻을 수 있습니다. 놀랍게도 이런 텍스트 데이터셋에는 순서를 뒤집어 처리하는 것이 시간 순서대로 처리하는 것과 거의 동일하게 잘 작동합니다. 이는 언어를 이해하는 데 단어의 순서가 중요하지만 결정적이지는 않다는 가정을 뒷받침합니다. 거꾸로 된 시퀀스에서 훈련한 RNN은 원래 시퀀스에서 훈련한 것과는 다른 표현을 학습합니다. 이와 비슷하게 시작할 때 죽고 마지막 날 태어나는 삶처럼 실제 세상의 시간이 거꾸로 흘러간다면 우리의 정신 세계가 달라질 것입니다. 머신 러닝에서 다른 표현이 유용하다면 항상 사용할 가치가 있습니다. 이 표현이 많이 다를수록 더 좋습니다. 이 표현이 데이터를 바라보는 새로운 시각을 제공하고 다른 방식에서는 놓칠 수 있는 데이터의 특징을 잡아냅니다. 이런 표현은 작업의 성능을 올리는 데 도움을 줍니다. 이것이 다음 장에서 살펴볼 앙상블의 개념입니다.\n",
        "\n",
        "양방향 RNN은 이 아이디어를 사용하여 시간 순서대로 처리하는 RNN의 성능을 향상시킵니다. 입력 시퀀스를 양쪽 방향으로 바라보기 때문에, 드러나지 않은 다양한 표현을 얻어 시간 순서대로 처리할 때 놓칠 수 있는 패턴을 잡아 냅니다."
      ]
    },
    {
      "cell_type": "markdown",
      "metadata": {
        "id": "4-DvGT9rXygM"
      },
      "source": [
        "![bidirectional rnn](https://s3.amazonaws.com/book.keras.io/img/ch6/bidirectional_rnn.png)"
      ]
    },
    {
      "cell_type": "markdown",
      "metadata": {
        "id": "mXZfkVgLXygM"
      },
      "source": [
        "케라스에서는 `Bidirectional` 층을 사용하여 양방향 RNN을 만듭니다. 이 클래스는 첫 번째 매개변수로 순환 층의 객체를 전달받습니다. `Bidirectional` 클래스는 전달받은 순환 층으로 새로운 두 번째 객체를 만듭니다. 하나는 시간 순서대로 입력 시퀀스를 처리하고 다른 하나는 반대 순서로 입력 시퀀스를 처리합니다. IMDB 감성 분석 문제에 이를 적용해 보죠:"
      ]
    },
    {
      "cell_type": "code",
      "metadata": {
        "id": "VoctR88XXygM"
      },
      "source": [
        "from tensorflow.keras import backend as K\n",
        "K.clear_session()"
      ],
      "execution_count": null,
      "outputs": []
    },
    {
      "cell_type": "code",
      "metadata": {
        "id": "HS-h74VAXygM",
        "outputId": "1e185d0a-9d8d-49d9-8297-bf23895104f6"
      },
      "source": [
        "model = Sequential()\n",
        "model.add(layers.Embedding(max_features, 32))\n",
        "model.add(layers.Bidirectional(layers.LSTM(32)))\n",
        "model.add(layers.Dense(1, activation='sigmoid'))\n",
        "\n",
        "model.compile(optimizer='rmsprop', loss='binary_crossentropy', metrics=['accuracy'])\n",
        "history = model.fit(x_train, y_train, epochs=10, batch_size=128, validation_split=0.2)"
      ],
      "execution_count": null,
      "outputs": [
        {
          "name": "stdout",
          "output_type": "stream",
          "text": [
            "Epoch 1/10\n",
            "157/157 [==============================] - 41s 244ms/step - loss: 0.5532 - accuracy: 0.7254 - val_loss: 0.3952 - val_accuracy: 0.8520\n",
            "Epoch 2/10\n",
            "157/157 [==============================] - 47s 302ms/step - loss: 0.3275 - accuracy: 0.8739 - val_loss: 0.3276 - val_accuracy: 0.8726\n",
            "Epoch 3/10\n",
            "157/157 [==============================] - 48s 303ms/step - loss: 0.2670 - accuracy: 0.9032 - val_loss: 0.2885 - val_accuracy: 0.8880\n",
            "Epoch 4/10\n",
            "157/157 [==============================] - 48s 303ms/step - loss: 0.2297 - accuracy: 0.9180 - val_loss: 0.3360 - val_accuracy: 0.8652\n",
            "Epoch 5/10\n",
            "157/157 [==============================] - 47s 297ms/step - loss: 0.2017 - accuracy: 0.9305 - val_loss: 0.3043 - val_accuracy: 0.8862\n",
            "Epoch 6/10\n",
            "157/157 [==============================] - 48s 305ms/step - loss: 0.1778 - accuracy: 0.9389 - val_loss: 0.6542 - val_accuracy: 0.8388\n",
            "Epoch 7/10\n",
            "157/157 [==============================] - 47s 299ms/step - loss: 0.1644 - accuracy: 0.9444 - val_loss: 0.3297 - val_accuracy: 0.8732\n",
            "Epoch 8/10\n",
            "157/157 [==============================] - 47s 301ms/step - loss: 0.1496 - accuracy: 0.9484 - val_loss: 0.5354 - val_accuracy: 0.8558\n",
            "Epoch 9/10\n",
            "157/157 [==============================] - 46s 293ms/step - loss: 0.1397 - accuracy: 0.9532 - val_loss: 0.3546 - val_accuracy: 0.8738\n",
            "Epoch 10/10\n",
            "157/157 [==============================] - 46s 296ms/step - loss: 0.1276 - accuracy: 0.9587 - val_loss: 0.5352 - val_accuracy: 0.8508\n"
          ]
        }
      ]
    },
    {
      "cell_type": "markdown",
      "metadata": {
        "id": "2JtPDUGUXygM"
      },
      "source": [
        "여기서 얻은 검증 정확도는 88% 정도로 이전 절에서 사용했던 일반 LSTM보다 조금 더 성능이 높습니다. 이 모델은 조금 더 일찍 과대적합되는 것 같습니다. 양방향 순환 층이 단방향 LSTM보다 모델 파라미터가 두 배 많기 때문에 놀라운 일은 아닙니다. 규제를 조금 추가한다면 양항뱡 순환 층을 사용하는 것이 이 작업에 더 적합해 보입니다.\n",
        "\n",
        "이제 동일한 방식을 온도 예측 문제에 적용해 보죠:"
      ]
    },
    {
      "cell_type": "code",
      "metadata": {
        "id": "bL8er-afXygM",
        "outputId": "b4e09ebf-9c32-4360-f672-07ef6e4ab192"
      },
      "source": [
        "from tensorflow.keras.models import Sequential\n",
        "from tensorflow.keras import layers\n",
        "from tensorflow.keras.optimizers import RMSprop\n",
        "\n",
        "model = Sequential()\n",
        "model.add(layers.Bidirectional(\n",
        "    layers.GRU(32), input_shape=(None, float_data.shape[-1])))\n",
        "model.add(layers.Dense(1))\n",
        "\n",
        "model.compile(optimizer=RMSprop(), loss='mae')\n",
        "history = model.fit_generator(train_gen,\n",
        "                              steps_per_epoch=500,\n",
        "                              epochs=40,\n",
        "                              validation_data=val_gen,\n",
        "                              validation_steps=val_steps)"
      ],
      "execution_count": null,
      "outputs": [
        {
          "name": "stdout",
          "output_type": "stream",
          "text": [
            "Epoch 1/40\n",
            "500/500 [==============================] - 84s 163ms/step - loss: 0.2961 - val_loss: 0.2711\n",
            "Epoch 2/40\n",
            "500/500 [==============================] - 80s 159ms/step - loss: 0.2735 - val_loss: 0.2632\n",
            "Epoch 3/40\n",
            "500/500 [==============================] - 80s 161ms/step - loss: 0.2675 - val_loss: 0.2618\n",
            "Epoch 4/40\n",
            "500/500 [==============================] - 79s 158ms/step - loss: 0.2638 - val_loss: 0.2663\n",
            "Epoch 5/40\n",
            "500/500 [==============================] - 73s 145ms/step - loss: 0.2579 - val_loss: 0.2658\n",
            "Epoch 6/40\n",
            "500/500 [==============================] - 78s 157ms/step - loss: 0.2523 - val_loss: 0.2724\n",
            "Epoch 7/40\n",
            "500/500 [==============================] - 77s 154ms/step - loss: 0.2462 - val_loss: 0.2761\n",
            "Epoch 8/40\n",
            "500/500 [==============================] - 78s 156ms/step - loss: 0.2405 - val_loss: 0.2763\n",
            "Epoch 9/40\n",
            "500/500 [==============================] - 78s 157ms/step - loss: 0.2341 - val_loss: 0.2877\n",
            "Epoch 10/40\n",
            "500/500 [==============================] - 78s 156ms/step - loss: 0.2248 - val_loss: 0.2886\n",
            "Epoch 11/40\n",
            "500/500 [==============================] - 78s 156ms/step - loss: 0.2217 - val_loss: 0.2981\n",
            "Epoch 12/40\n",
            "500/500 [==============================] - 78s 157ms/step - loss: 0.2161 - val_loss: 0.3014\n",
            "Epoch 13/40\n",
            "500/500 [==============================] - 78s 155ms/step - loss: 0.2087 - val_loss: 0.3018\n",
            "Epoch 14/40\n",
            "500/500 [==============================] - 77s 153ms/step - loss: 0.2035 - val_loss: 0.3087\n",
            "Epoch 15/40\n",
            "500/500 [==============================] - 77s 154ms/step - loss: 0.1998 - val_loss: 0.3190\n",
            "Epoch 16/40\n",
            "500/500 [==============================] - 78s 156ms/step - loss: 0.1942 - val_loss: 0.3107\n",
            "Epoch 17/40\n",
            "500/500 [==============================] - 78s 156ms/step - loss: 0.1890 - val_loss: 0.3144\n",
            "Epoch 18/40\n",
            "500/500 [==============================] - 78s 156ms/step - loss: 0.1854 - val_loss: 0.3179\n",
            "Epoch 19/40\n",
            "500/500 [==============================] - 78s 156ms/step - loss: 0.1813 - val_loss: 0.3250\n",
            "Epoch 20/40\n",
            "500/500 [==============================] - 77s 153ms/step - loss: 0.1771 - val_loss: 0.3288\n",
            "Epoch 21/40\n",
            "500/500 [==============================] - 77s 154ms/step - loss: 0.1746 - val_loss: 0.3271\n",
            "Epoch 22/40\n",
            "500/500 [==============================] - 76s 152ms/step - loss: 0.1710 - val_loss: 0.3254\n",
            "Epoch 23/40\n",
            "500/500 [==============================] - 78s 156ms/step - loss: 0.1676 - val_loss: 0.3335\n",
            "Epoch 24/40\n",
            "500/500 [==============================] - 78s 155ms/step - loss: 0.1646 - val_loss: 0.3294\n",
            "Epoch 25/40\n",
            "500/500 [==============================] - 77s 154ms/step - loss: 0.1620 - val_loss: 0.3276\n",
            "Epoch 26/40\n",
            "500/500 [==============================] - 78s 156ms/step - loss: 0.1594 - val_loss: 0.3313\n",
            "Epoch 27/40\n",
            "500/500 [==============================] - 77s 154ms/step - loss: 0.1567 - val_loss: 0.3334\n",
            "Epoch 28/40\n",
            "500/500 [==============================] - 77s 154ms/step - loss: 0.1543 - val_loss: 0.3320\n",
            "Epoch 29/40\n",
            "500/500 [==============================] - 77s 154ms/step - loss: 0.1528 - val_loss: 0.3341\n",
            "Epoch 30/40\n",
            "500/500 [==============================] - 76s 151ms/step - loss: 0.1500 - val_loss: 0.3424\n",
            "Epoch 31/40\n",
            "500/500 [==============================] - 77s 155ms/step - loss: 0.1469 - val_loss: 0.3308\n",
            "Epoch 32/40\n",
            "500/500 [==============================] - 75s 150ms/step - loss: 0.1472 - val_loss: 0.3364\n",
            "Epoch 33/40\n",
            "500/500 [==============================] - 77s 155ms/step - loss: 0.1442 - val_loss: 0.3401\n",
            "Epoch 34/40\n",
            "500/500 [==============================] - 78s 156ms/step - loss: 0.1429 - val_loss: 0.3375\n",
            "Epoch 35/40\n",
            "500/500 [==============================] - 77s 154ms/step - loss: 0.1413 - val_loss: 0.3454\n",
            "Epoch 36/40\n",
            "500/500 [==============================] - 78s 156ms/step - loss: 0.1397 - val_loss: 0.3394\n",
            "Epoch 37/40\n",
            "500/500 [==============================] - 76s 152ms/step - loss: 0.1382 - val_loss: 0.3472\n",
            "Epoch 38/40\n",
            "500/500 [==============================] - 77s 155ms/step - loss: 0.1378 - val_loss: 0.3404\n",
            "Epoch 39/40\n",
            "500/500 [==============================] - 78s 156ms/step - loss: 0.1356 - val_loss: 0.3397\n",
            "Epoch 40/40\n",
            "500/500 [==============================] - 78s 155ms/step - loss: 0.1337 - val_loss: 0.3409\n"
          ]
        }
      ]
    },
    {
      "cell_type": "markdown",
      "metadata": {
        "id": "OsmDg2pyXygN"
      },
      "source": [
        "이 네트워크는 일반 GRU 층과 비슷한 성능을 냅니다. 이유는 쉽게 이해할 수 있습니다. 모든 예측 성능은 시간 순서대로 처리하는 네트워크의 절반에서 옵니다. 시간 반대 순서로 처리하는 절반은 이런 작업에 성능이 매우 좋지 않기 때문입니다(최근의 정보가 오래 전의 정보보다 훨씬 더 중요합니다)."
      ]
    },
    {
      "cell_type": "markdown",
      "metadata": {
        "id": "w1JfvxheXygN"
      },
      "source": [
        "## 더 나아가서\n",
        "\n",
        "온도 예측 문제의 성능을 향상하기 위해 시도해 볼 수 있는 것들이 많이 있습니다.\n",
        "\n",
        "* 스태킹한 각 순환 층의 유닛 수를 조정합니다. 지금 설정은 대부분 임의로 한 것이라 최적화가 덜 되었을 것입니다.\n",
        "* `RMSprop` 옵티마이저가 사용한 학습률을 조정합니다.\n",
        "* `GRU` 대신 `LSTM` 층을 사용합니다.\n",
        "* 순환 층 위에 용량이 큰 완전 연결된 회귀 층을 사용합니다. 즉 유닛 수가 많은 `Dense` 층이나 `Dense` 층을 스태킹합니다.\n",
        "* 최종적으로 (검증 MAE 기준으로 봤을 때) 최선의 모델을 테스트 세트에서 확인해야 합니다. 이를 잊으면 검증 세트에 과대적합된 네트워크 구조를 만들게 될 것입니다.\n",
        "\n",
        "늘 그렇듯이 딥러닝은 과학보다는 예술에 가깝습니다. 어떤 문제에 적합하거나 그렇지 않은 가이드라인은 제시할 수 있지만 결국 모든 문제는 다릅니다. 경험을 바탕으로 다른 전략들을 시도해 봐야 합니다. 현재는 문제를 해결하는 최선의 방법을 미리 알 수 있는 이론이 없습니다. 반복해서 시도해야 합니다.\n",
        "\n",
        "## 요약\n",
        "\n",
        "다음은 이번 절에서 배운 것들입니다.\n",
        "\n",
        "* 4장에서 처음 배웠던 것처럼 새로운 문제를 해결할 때는 선택한 지표에서 상식 수준의 기준점을 설정하는 것이 좋습니다. 기준점을 가지고 있지 않으면 실제 향상이 되었는지 알 수 없습니다.\n",
        "* 계산 비용을 추가할지 판단하기 위해서 비용이 비싼 모델 전에 간단한 모델을 시도합니다.\n",
        "* 시간 순서가 중요한 데이터가 있다면 순환 층이 적합합니다. 시계열 데이터를 펼쳐서 처리하는 모델의 성능을 쉽게 앞지를 것입니다.\n",
        "* 순환 네트워크에 드롭아웃을 사용하려면 타임스텝 동안 일정한 드롭아웃 마스크와 순환 드롭아웃 마스크를 사용해야 합니다. 둘 다 케라스 순환 층에 포함되어 있습니다. 순환 층에 있는 `dropout`과 `recurrent_dropout` 매개변수를 사용하면 됩니다.\n",
        "* 스태킹 RNN은 단일 RNN 층보다 더 강력한 표현 능력을 제공합니다. 하지만 계산 비용이 많이 들기 때문에 항상 시도할 가치가 있지는 않습니다. (기계 번역 같은) 복잡한 문제에서 확실히 도움이 되지만 작고 간단한 문제에서는 항상 그렇지 않습니다.\n",
        "* 양쪽 방향으로 시퀀스를 바라보는 양방향 RNN은 자연어 처리 문제에 유용합니다. 하지만 최근의 정보가 오래된 것보다 훨씬 의미 있는 시퀀스 데이터에는 잘 작동하지 않습니다.\n",
        "\n",
        "여기서 자세히 다루지 않은 두 가지 중요한 개념이 있습니다. 순환 어텐션과 시퀀스 마스킹입니다. 둘 다 자연어 처리에 깊게 관련되어 있고 온도 예측 문제에는 적합하지 않습니다. 이 책을 끝내고 앞으로 공부할 목록으로 남겨 두겠습니다."
      ]
    }
  ]
}