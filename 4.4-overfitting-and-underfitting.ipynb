{
 "cells": [
  {
   "cell_type": "code",
   "execution_count": 1,
   "metadata": {},
   "outputs": [
    {
     "data": {
      "text/plain": [
       "'2.4.0'"
      ]
     },
     "execution_count": 1,
     "metadata": {},
     "output_type": "execute_result"
    }
   ],
   "source": [
    "from tensorflow import keras\n",
    "keras.__version__"
   ]
  },
  {
   "cell_type": "markdown",
   "metadata": {},
   "source": [
    "# 과대적합과 과소적합\n",
    "\n",
    "이 노트북은 [케라스 창시자에게 배우는 딥러닝](https://tensorflow.blog/케라스-창시자에게-배우는-딥러닝/) 책의 4장 4절의 코드 예제입니다. 책에는 더 많은 내용과 그림이 있습니다. 이 노트북에는 소스 코드에 관련된 설명만 포함합니다. 이 노트북의 설명은 케라스 버전 2.2.2에 맞추어져 있습니다. 케라스 최신 버전이 릴리스되면 노트북을 다시 테스트하기 때문에 설명과 코드의 결과가 조금 다를 수 있습니다.\n",
    "\n",
    "----\n",
    "\n",
    "이전 장에 있던 세 가지 예제인 영화 리뷰 예측, 토픽 분류, 주택 가격 회귀 모두 홀드아웃 데이터에서 모델의 성능이 몇 번의 에포크 후에 최고치에 다다랐다가 감소되기 시작했습니다. 즉, 모델이 금방 훈련 데이터에 과대적합되기 시작합니다. 과대적합은 모든 머신 러닝 문제에서 발생합니다. 머신 러닝을 마스터하려면 과대적합을 다루는 방법을 꼭 배워야 합니다.\n",
    "\n",
    "머신 러닝의 근본적인 이슈는 최적화와 일반화 사이의 줄다리기입니다. 최적화는 가능한 훈련 데이터에서 최고의 성능을 얻으려고 모델을 조정하는 과정입니다(머신 러닝의 학습). 반면 일반화는 훈련된 모델이 이전에 본 적 없는 데이터에서 얼마나 잘 수행되는지를 의미합니다. 물론 모델을 만드는 목적은 좋은 일반화 성능을 얻는 것입니다. 하지만 일반화 성능을 제어할 방법이 없습니다. 단지 훈련 데이터를 기반으로 모델을 조정할 수만 있습니다.\n",
    "\n",
    "훈련 초기에 최적화와 일반화는 상호 연관되어 있습니다. 훈련 데이터의 손실이 낮을수록 테스트 데이터의 손실이 낮습니다. 이런 상황이 발생할 때 모델이 과소적합되었다고 말합니다. 모델의 성능이 계속 발전될 여지가 있습니다. 즉, 네트워크가 훈련 데이터에 있는 관련 특성을 모두 학습하지 못했습니다. 하지만 훈련 데이터에 여러 번 반복 학습하고 나면 어느 시점부터 일반화 성능이 더이상 높아지지 않습니다. 검증 세트의 성능이 멈추고 감소되기 시작합니다. 즉, 모델이 과대적합되기 시작합니다. 이는 훈련 데이터에 특화된 패턴을 학습하기 시작했다는 의미입니다. 이 패턴은 새로운 데이터와 관련성이 적어 잘못된 판단을 하게 만듭니다.\n",
    "\n",
    "모델이 관련성이 없고 좋지 못한 패턴을 훈련 데이터에서 학습하지 못하도록 하려면 가장 좋은 방법은 더 많은 훈련 데이터를 모으는 것입니다. 더 많은 데이터에서 훈련된 모델은 자연히 일반화 성능이 더 뛰어 납니다. 데이터를 더 모으는 것이 불가능할 때 차선책은 모델이 수용할 수 있는 정보의 양을 조절하거나 저장할 수 있는 정보에 제약을 가하는 것입니다. 네트워크가 적은 수의 패턴만을 기억할 수 있다면 최적화 과정에서 가장 중요한 패턴에 집중하게 될 것입니다. 이런 패턴은 더 나은 일반화 성능을 제공할 수 있습니다.\n",
    "\n",
    "이런 식으로 과대적합을 피하는 처리 과정을 규제라고 합니다. 가장 널리 사용되는 규제 기법을 알아보고 이전 장에서 본 영화 리뷰 분류 모델에 실제로 적용해 성능을 향상시켜 보겠습니다."
   ]
  },
  {
   "cell_type": "markdown",
   "metadata": {},
   "source": [
    "노트: 이 노트북에서는 편의상 IMDB 테스트 세트를 검증 세트로 사용합니다.\n",
    "\n",
    "3장 5절에 있는 코드를 사용해 데이터를 준비합니다:"
   ]
  },
  {
   "cell_type": "code",
   "execution_count": 2,
   "metadata": {},
   "outputs": [
    {
     "name": "stderr",
     "output_type": "stream",
     "text": [
      "<__array_function__ internals>:5: VisibleDeprecationWarning: Creating an ndarray from ragged nested sequences (which is a list-or-tuple of lists-or-tuples-or ndarrays with different lengths or shapes) is deprecated. If you meant to do this, you must specify 'dtype=object' when creating the ndarray\n",
      "/usr/local/lib/python3.8/dist-packages/tensorflow/python/keras/datasets/imdb.py:159: VisibleDeprecationWarning: Creating an ndarray from ragged nested sequences (which is a list-or-tuple of lists-or-tuples-or ndarrays with different lengths or shapes) is deprecated. If you meant to do this, you must specify 'dtype=object' when creating the ndarray\n",
      "  x_train, y_train = np.array(xs[:idx]), np.array(labels[:idx])\n",
      "/usr/local/lib/python3.8/dist-packages/tensorflow/python/keras/datasets/imdb.py:160: VisibleDeprecationWarning: Creating an ndarray from ragged nested sequences (which is a list-or-tuple of lists-or-tuples-or ndarrays with different lengths or shapes) is deprecated. If you meant to do this, you must specify 'dtype=object' when creating the ndarray\n",
      "  x_test, y_test = np.array(xs[idx:]), np.array(labels[idx:])\n"
     ]
    }
   ],
   "source": [
    "from tensorflow.keras.datasets import imdb\n",
    "import numpy as np\n",
    "\n",
    "(train_data, train_labels), (test_data, test_labels) = imdb.load_data(num_words=10000)\n",
    "\n",
    "def vectorize_sequences(sequences, dimension=10000):\n",
    "    # 크기가 (len(sequences), dimension))이고 모든 원소가 0인 행렬을 만듭니다\n",
    "    results = np.zeros((len(sequences), dimension))\n",
    "    for i, sequence in enumerate(sequences):\n",
    "        results[i, sequence] = 1.  # results[i]에서 특정 인덱스의 위치를 1로 만듭니다\n",
    "    return results\n",
    "\n",
    "# 훈련 데이터를 벡터로 변환합니다\n",
    "x_train = vectorize_sequences(train_data)\n",
    "# 테스트 데이터를 벡터로 변환합니다\n",
    "x_test = vectorize_sequences(test_data)\n",
    "# 레이블을 벡터로 변환합니다\n",
    "y_train = np.asarray(train_labels).astype('float32')\n",
    "y_test = np.asarray(test_labels).astype('float32')"
   ]
  },
  {
   "cell_type": "markdown",
   "metadata": {},
   "source": [
    "# 과대적합\n",
    "\n",
    "## 네트워크 크기 축소\n",
    "\n",
    "과대적합을 막는 가장 단순한 방법은 모델의 크기, 즉 모델에 있는 학습 파라미터의 수를 줄이는 것입니다. 파라미터의 수는 층의 수와 각 층의 유닛 수에 의해 결정됩니다. 딥러닝에서 모델에 있는 학습 파라미터의 수를 종종 모델의 용량이라고 말합니다. 당연하게 파라미터가 많은 모델이 기억 용량이 더 많습니다. 훈련 샘플과 타깃 사이를 딕셔너리와 같은 1:1 매핑으로 완벽하게 학습할 수도 있습니다. 이런 매핑은 일반화 능력이 없습니다. 예를 들어 500,000개의 이진 파라미터가 있는 모델은 MNIST 훈련 세트의 숫자 이미지의 클래스를 쉽게 모두 학습할 수 있습니다. 50,000개의 숫자 이미지 하나마다 10개의 이진 파라미터만 있으면 됩니다. 하지만 이런 모델은 새로운 숫자 샘플을 분류하는 용도로는 쓸모가 없습니다. 항상 유념해야 할 것은 딥러닝 모델은 훈련 데이터에 잘 맞으려는 경향을 가진다는 점입니다. 하지만 진짜 문제는 최적화가 아니고 일반화입니다.\n",
    "\n",
    "다른 한편으로 네트워크가 기억 용량에 제한이 있다면 이런 매핑을 쉽게 학습하지 못할 것입니다. 따라서 손실을 최소화하기 위해 타깃에 대한 예측 성능을 가진 압축된 표현을 학습해야 합니다. 정확히 이런 표현이 우리의 관심 대상입니다. 동시에 기억해야할 것은 과소적합되지 않도록 충분한 파라미터를 가진 모델을 사용해야 한다는 점입니다. 모델의 기억 용량이 부족해서는 안 됩니다. 너무 많은 용량과 충분하지 않은 용량 사이의 절충점을 찾아야 합니다.\n",
    "\n",
    "안타깝지만 알맞은 층의 수나 각 층의 유닛 수를 결정할 수 있는 마법 같은 공식은 없습니다. 데이터에 알맞는 모델 크기를 찾으려면 각기 다른 구조를 (당연히 테스트 세트가 아니고 검증 세트에서) 평가해 보아야 합니다. 적절한 모델 크기를 찾는 일반적인 작업 흐름은 비교적 적은 수의 층과 파라미터로 시작합니다. 그다음 검증 손실이 감소되기 시작할 때까지 층이나 유닛의 수를 늘리는 것입니다.\n",
    "\n",
    "영화 리뷰 분류 모델에 적용해 보죠. 원래 네트워크는 다음과 같습니다:"
   ]
  },
  {
   "cell_type": "code",
   "execution_count": 3,
   "metadata": {},
   "outputs": [],
   "source": [
    "from tensorflow.keras import models\n",
    "from tensorflow.keras import layers\n",
    "\n",
    "original_model = models.Sequential()\n",
    "original_model.add(layers.Dense(16, activation='relu', input_shape=(10000,)))\n",
    "original_model.add(layers.Dense(16, activation='relu'))\n",
    "original_model.add(layers.Dense(1, activation='sigmoid'))\n",
    "\n",
    "original_model.compile(optimizer='rmsprop',\n",
    "                       loss='binary_crossentropy',\n",
    "                       metrics=['acc'])"
   ]
  },
  {
   "cell_type": "markdown",
   "metadata": {},
   "source": [
    "더 작은 네트워크로 바꾸어 보죠:"
   ]
  },
  {
   "cell_type": "code",
   "execution_count": 4,
   "metadata": {},
   "outputs": [],
   "source": [
    "smaller_model = models.Sequential()\n",
    "smaller_model.add(layers.Dense(6, activation='relu', input_shape=(10000,)))\n",
    "smaller_model.add(layers.Dense(6, activation='relu'))\n",
    "smaller_model.add(layers.Dense(1, activation='sigmoid'))\n",
    "\n",
    "smaller_model.compile(optimizer='rmsprop',\n",
    "                      loss='binary_crossentropy',\n",
    "                      metrics=['accuracy'])"
   ]
  },
  {
   "cell_type": "markdown",
   "metadata": {},
   "source": [
    "원본 네트워크와 축소된 네트워크의 검증 손실을 비교해 보죠. 점으로 표현된 것이 작은 네트워크이고 덧셈 기호가 원래 네트워크 입니다(검증 손실이 작은 것이 좋은 모델입니다)."
   ]
  },
  {
   "cell_type": "code",
   "execution_count": 5,
   "metadata": {},
   "outputs": [
    {
     "name": "stdout",
     "output_type": "stream",
     "text": [
      "Epoch 1/20\n",
      "49/49 [==============================] - 4s 62ms/step - loss: 0.5454 - acc: 0.7445 - val_loss: 0.3264 - val_acc: 0.8842\n",
      "Epoch 2/20\n",
      "49/49 [==============================] - 1s 24ms/step - loss: 0.2651 - acc: 0.9112 - val_loss: 0.2916 - val_acc: 0.8841\n",
      "Epoch 3/20\n",
      "49/49 [==============================] - 1s 24ms/step - loss: 0.1950 - acc: 0.9324 - val_loss: 0.2841 - val_acc: 0.8862\n",
      "Epoch 4/20\n",
      "49/49 [==============================] - 1s 23ms/step - loss: 0.1598 - acc: 0.9451 - val_loss: 0.3082 - val_acc: 0.8794\n",
      "Epoch 5/20\n",
      "49/49 [==============================] - 1s 25ms/step - loss: 0.1388 - acc: 0.9522 - val_loss: 0.3442 - val_acc: 0.8707\n",
      "Epoch 6/20\n",
      "49/49 [==============================] - 1s 25ms/step - loss: 0.1254 - acc: 0.9568 - val_loss: 0.3476 - val_acc: 0.8727\n",
      "Epoch 7/20\n",
      "49/49 [==============================] - 1s 25ms/step - loss: 0.1051 - acc: 0.9669 - val_loss: 0.4292 - val_acc: 0.8543\n",
      "Epoch 8/20\n",
      "49/49 [==============================] - 1s 25ms/step - loss: 0.0940 - acc: 0.9720 - val_loss: 0.4091 - val_acc: 0.8634\n",
      "Epoch 9/20\n",
      "49/49 [==============================] - 1s 24ms/step - loss: 0.0825 - acc: 0.9727 - val_loss: 0.4441 - val_acc: 0.8597\n",
      "Epoch 10/20\n",
      "49/49 [==============================] - 1s 26ms/step - loss: 0.0695 - acc: 0.9798 - val_loss: 0.4376 - val_acc: 0.8639\n",
      "Epoch 11/20\n",
      "49/49 [==============================] - 1s 24ms/step - loss: 0.0679 - acc: 0.9793 - val_loss: 0.4714 - val_acc: 0.8605\n",
      "Epoch 12/20\n",
      "49/49 [==============================] - 1s 23ms/step - loss: 0.0558 - acc: 0.9842 - val_loss: 0.4965 - val_acc: 0.8596\n",
      "Epoch 13/20\n",
      "49/49 [==============================] - 1s 24ms/step - loss: 0.0504 - acc: 0.9853 - val_loss: 0.5263 - val_acc: 0.8599\n",
      "Epoch 14/20\n",
      "49/49 [==============================] - 1s 24ms/step - loss: 0.0424 - acc: 0.9883 - val_loss: 0.5626 - val_acc: 0.8562\n",
      "Epoch 15/20\n",
      "49/49 [==============================] - 1s 25ms/step - loss: 0.0371 - acc: 0.9905 - val_loss: 0.6209 - val_acc: 0.8517\n",
      "Epoch 16/20\n",
      "49/49 [==============================] - 1s 25ms/step - loss: 0.0308 - acc: 0.9923 - val_loss: 0.6555 - val_acc: 0.8511\n",
      "Epoch 17/20\n",
      "49/49 [==============================] - 1s 26ms/step - loss: 0.0255 - acc: 0.9937 - val_loss: 0.6858 - val_acc: 0.8500\n",
      "Epoch 18/20\n",
      "49/49 [==============================] - 1s 25ms/step - loss: 0.0204 - acc: 0.9950 - val_loss: 0.7236 - val_acc: 0.8489\n",
      "Epoch 19/20\n",
      "49/49 [==============================] - 1s 24ms/step - loss: 0.0208 - acc: 0.9949 - val_loss: 0.7581 - val_acc: 0.8490\n",
      "Epoch 20/20\n",
      "49/49 [==============================] - 1s 25ms/step - loss: 0.0177 - acc: 0.9953 - val_loss: 0.7888 - val_acc: 0.8489\n"
     ]
    }
   ],
   "source": [
    "original_hist = original_model.fit(x_train, y_train,\n",
    "                                   epochs=20,\n",
    "                                   batch_size=512,\n",
    "                                   validation_data=(x_test, y_test))"
   ]
  },
  {
   "cell_type": "code",
   "execution_count": 6,
   "metadata": {},
   "outputs": [
    {
     "name": "stdout",
     "output_type": "stream",
     "text": [
      "Epoch 1/20\n",
      "49/49 [==============================] - 3s 56ms/step - loss: 0.6034 - accuracy: 0.6758 - val_loss: 0.4057 - val_accuracy: 0.8686\n",
      "Epoch 2/20\n",
      "49/49 [==============================] - 1s 25ms/step - loss: 0.3399 - accuracy: 0.8990 - val_loss: 0.3175 - val_accuracy: 0.8831\n",
      "Epoch 3/20\n",
      "49/49 [==============================] - 1s 24ms/step - loss: 0.2448 - accuracy: 0.9223 - val_loss: 0.2942 - val_accuracy: 0.8848\n",
      "Epoch 4/20\n",
      "49/49 [==============================] - 1s 24ms/step - loss: 0.2008 - accuracy: 0.9353 - val_loss: 0.2795 - val_accuracy: 0.8895\n",
      "Epoch 5/20\n",
      "49/49 [==============================] - 1s 25ms/step - loss: 0.1787 - accuracy: 0.9398 - val_loss: 0.2842 - val_accuracy: 0.8861\n",
      "Epoch 6/20\n",
      "49/49 [==============================] - 1s 28ms/step - loss: 0.1538 - accuracy: 0.9515 - val_loss: 0.3081 - val_accuracy: 0.8772\n",
      "Epoch 7/20\n",
      "49/49 [==============================] - 1s 24ms/step - loss: 0.1381 - accuracy: 0.9537 - val_loss: 0.3216 - val_accuracy: 0.8740\n",
      "Epoch 8/20\n",
      "49/49 [==============================] - 1s 23ms/step - loss: 0.1250 - accuracy: 0.9604 - val_loss: 0.3164 - val_accuracy: 0.8788\n",
      "Epoch 9/20\n",
      "49/49 [==============================] - 1s 23ms/step - loss: 0.1169 - accuracy: 0.9627 - val_loss: 0.3307 - val_accuracy: 0.8769\n",
      "Epoch 10/20\n",
      "49/49 [==============================] - 1s 23ms/step - loss: 0.1004 - accuracy: 0.9695 - val_loss: 0.3488 - val_accuracy: 0.8735\n",
      "Epoch 11/20\n",
      "49/49 [==============================] - 1s 23ms/step - loss: 0.0932 - accuracy: 0.9719 - val_loss: 0.3666 - val_accuracy: 0.8696\n",
      "Epoch 12/20\n",
      "49/49 [==============================] - 1s 25ms/step - loss: 0.0842 - accuracy: 0.9749 - val_loss: 0.3836 - val_accuracy: 0.8695\n",
      "Epoch 13/20\n",
      "49/49 [==============================] - 1s 25ms/step - loss: 0.0799 - accuracy: 0.9762 - val_loss: 0.4031 - val_accuracy: 0.8672\n",
      "Epoch 14/20\n",
      "49/49 [==============================] - 1s 26ms/step - loss: 0.0736 - accuracy: 0.9772 - val_loss: 0.4279 - val_accuracy: 0.8665\n",
      "Epoch 15/20\n",
      "49/49 [==============================] - 1s 25ms/step - loss: 0.0681 - accuracy: 0.9821 - val_loss: 0.4484 - val_accuracy: 0.8642\n",
      "Epoch 16/20\n",
      "49/49 [==============================] - 1s 22ms/step - loss: 0.0638 - accuracy: 0.9814 - val_loss: 0.4640 - val_accuracy: 0.8618\n",
      "Epoch 17/20\n",
      "49/49 [==============================] - 1s 25ms/step - loss: 0.0566 - accuracy: 0.9848 - val_loss: 0.4857 - val_accuracy: 0.8599\n",
      "Epoch 18/20\n",
      "49/49 [==============================] - 1s 24ms/step - loss: 0.0530 - accuracy: 0.9871 - val_loss: 0.5101 - val_accuracy: 0.8585\n",
      "Epoch 19/20\n",
      "49/49 [==============================] - 1s 25ms/step - loss: 0.0462 - accuracy: 0.9883 - val_loss: 0.5356 - val_accuracy: 0.8569\n",
      "Epoch 20/20\n",
      "49/49 [==============================] - 1s 25ms/step - loss: 0.0436 - accuracy: 0.9886 - val_loss: 0.5588 - val_accuracy: 0.8556\n"
     ]
    }
   ],
   "source": [
    "smaller_model_hist = smaller_model.fit(x_train, y_train,\n",
    "                                       epochs=20,\n",
    "                                       batch_size=512,\n",
    "                                       validation_data=(x_test, y_test))"
   ]
  },
  {
   "cell_type": "code",
   "execution_count": 7,
   "metadata": {},
   "outputs": [],
   "source": [
    "epochs = range(1, 21)\n",
    "original_val_loss = original_hist.history['val_loss']\n",
    "smaller_model_val_loss = smaller_model_hist.history['val_loss']"
   ]
  },
  {
   "cell_type": "code",
   "execution_count": 8,
   "metadata": {},
   "outputs": [],
   "source": [
    "import matplotlib.pyplot as plt"
   ]
  },
  {
   "cell_type": "code",
   "execution_count": 9,
   "metadata": {
    "scrolled": true
   },
   "outputs": [
    {
     "data": {
      "image/png": "[encoded data removed]",
      "text/plain": [
       "<Figure size 432x288 with 1 Axes>"
      ]
     },
     "metadata": {
      "needs_background": "light"
     },
     "output_type": "display_data"
    }
   ],
   "source": [
    "# ‘b+’는 파란색 덧셈 기호을 의미합니다\n",
    "plt.plot(epochs, original_val_loss, 'b+', label='Original model')\n",
    "# ‘bo’는 파란색 점을 의미합니다\n",
    "plt.plot(epochs, smaller_model_val_loss, 'bo', label='Smaller model')\n",
    "plt.xlabel('Epochs')\n",
    "plt.ylabel('Validation loss')\n",
    "plt.legend()\n",
    "\n",
    "plt.show()"
   ]
  },
  {
   "cell_type": "markdown",
   "metadata": {},
   "source": [
    "여기서 볼 수 있듯이 작은 네트워크가 기본 네트워크보다 더 나중에 과대적합되기 시작했습니다(네 번째 에포크가 아니라 여섯 번째 에포크에서). 과대적합이 시작되었을 때 성능이 더 천천히 감소되었습니다.\n",
    "\n",
    "이번에는 문제에 필요한 것보다 훨씬 더 많은 용량을 가진 네트워크를 비교해 보겠습니다:"
   ]
  },
  {
   "cell_type": "code",
   "execution_count": 10,
   "metadata": {},
   "outputs": [],
   "source": [
    "bigger_model = models.Sequential()\n",
    "bigger_model.add(layers.Dense(1024, activation='relu', input_shape=(10000,)))\n",
    "bigger_model.add(layers.Dense(1024, activation='relu'))\n",
    "bigger_model.add(layers.Dense(1, activation='sigmoid'))\n",
    "\n",
    "bigger_model.compile(optimizer='rmsprop',\n",
    "                     loss='binary_crossentropy',\n",
    "                     metrics=['accuracy'])"
   ]
  },
  {
   "cell_type": "code",
   "execution_count": 11,
   "metadata": {},
   "outputs": [
    {
     "name": "stdout",
     "output_type": "stream",
     "text": [
      "Epoch 1/20\n",
      "49/49 [==============================] - 3s 57ms/step - loss: 0.6776 - accuracy: 0.7192 - val_loss: 0.2777 - val_accuracy: 0.8877\n",
      "Epoch 2/20\n",
      "49/49 [==============================] - 1s 27ms/step - loss: 0.2205 - accuracy: 0.9137 - val_loss: 0.2829 - val_accuracy: 0.8859\n",
      "Epoch 3/20\n",
      "49/49 [==============================] - 1s 27ms/step - loss: 0.1034 - accuracy: 0.9631 - val_loss: 0.3195 - val_accuracy: 0.8874\n",
      "Epoch 4/20\n",
      "49/49 [==============================] - 1s 25ms/step - loss: 0.0265 - accuracy: 0.9928 - val_loss: 0.3314 - val_accuracy: 0.8816\n",
      "Epoch 5/20\n",
      "49/49 [==============================] - 1s 25ms/step - loss: 0.0082 - accuracy: 0.9996 - val_loss: 0.6067 - val_accuracy: 0.8821\n",
      "Epoch 6/20\n",
      "49/49 [==============================] - 1s 27ms/step - loss: 0.0353 - accuracy: 0.9966 - val_loss: 0.5035 - val_accuracy: 0.8801\n",
      "Epoch 7/20\n",
      "49/49 [==============================] - 1s 27ms/step - loss: 5.5577e-04 - accuracy: 1.0000 - val_loss: 0.6772 - val_accuracy: 0.8829\n",
      "Epoch 8/20\n",
      "49/49 [==============================] - 1s 25ms/step - loss: 5.6966e-05 - accuracy: 1.0000 - val_loss: 0.8207 - val_accuracy: 0.8829\n",
      "Epoch 9/20\n",
      "49/49 [==============================] - 1s 26ms/step - loss: 0.0441 - accuracy: 0.9967 - val_loss: 0.7562 - val_accuracy: 0.8759\n",
      "Epoch 10/20\n",
      "49/49 [==============================] - 1s 27ms/step - loss: 1.1390e-04 - accuracy: 1.0000 - val_loss: 0.7464 - val_accuracy: 0.8817\n",
      "Epoch 11/20\n",
      "49/49 [==============================] - 1s 27ms/step - loss: 1.1840e-05 - accuracy: 1.0000 - val_loss: 0.8275 - val_accuracy: 0.8823\n",
      "Epoch 12/20\n",
      "49/49 [==============================] - 1s 24ms/step - loss: 2.9773e-06 - accuracy: 1.0000 - val_loss: 0.9377 - val_accuracy: 0.8826\n",
      "Epoch 13/20\n",
      "49/49 [==============================] - 1s 25ms/step - loss: 7.2191e-07 - accuracy: 1.0000 - val_loss: 1.0632 - val_accuracy: 0.8821\n",
      "Epoch 14/20\n",
      "49/49 [==============================] - 1s 25ms/step - loss: 1.4639e-07 - accuracy: 1.0000 - val_loss: 1.1775 - val_accuracy: 0.8824\n",
      "Epoch 15/20\n",
      "49/49 [==============================] - 1s 28ms/step - loss: 3.6097e-08 - accuracy: 1.0000 - val_loss: 1.2593 - val_accuracy: 0.8824\n",
      "Epoch 16/20\n",
      "49/49 [==============================] - 1s 27ms/step - loss: 1.4914e-08 - accuracy: 1.0000 - val_loss: 1.3036 - val_accuracy: 0.8824\n",
      "Epoch 17/20\n",
      "49/49 [==============================] - 1s 28ms/step - loss: 9.9254e-09 - accuracy: 1.0000 - val_loss: 1.3307 - val_accuracy: 0.8830\n",
      "Epoch 18/20\n",
      "49/49 [==============================] - 1s 27ms/step - loss: 6.9919e-09 - accuracy: 1.0000 - val_loss: 1.3501 - val_accuracy: 0.8830\n",
      "Epoch 19/20\n",
      "49/49 [==============================] - 1s 27ms/step - loss: 5.3147e-09 - accuracy: 1.0000 - val_loss: 1.3649 - val_accuracy: 0.8829\n",
      "Epoch 20/20\n",
      "49/49 [==============================] - 1s 24ms/step - loss: 4.2880e-09 - accuracy: 1.0000 - val_loss: 1.3770 - val_accuracy: 0.8830\n"
     ]
    }
   ],
   "source": [
    "bigger_model_hist = bigger_model.fit(x_train, y_train,\n",
    "                                     epochs=20,\n",
    "                                     batch_size=512,\n",
    "                                     validation_data=(x_test, y_test))"
   ]
  },
  {
   "cell_type": "markdown",
   "metadata": {},
   "source": [
    "다음은 더 큰 네트워크가 기본 네트워크에 비해 얼마나 차이나는지를 보여줍니다. 점이 용량이 큰 네트워크의 검증 손실이고 덧셈 기호는 원본 네트워크의 검증 손실입니다."
   ]
  },
  {
   "cell_type": "code",
   "execution_count": 12,
   "metadata": {},
   "outputs": [
    {
     "data": {
      "image/png": "[encoded data removed]",
      "text/plain": [
       "<Figure size 432x288 with 1 Axes>"
      ]
     },
     "metadata": {
      "needs_background": "light"
     },
     "output_type": "display_data"
    }
   ],
   "source": [
    "bigger_model_val_loss = bigger_model_hist.history['val_loss']\n",
    "\n",
    "plt.plot(epochs, original_val_loss, 'b+', label='Original model')\n",
    "plt.plot(epochs, bigger_model_val_loss, 'bo', label='Bigger model')\n",
    "plt.xlabel('Epochs')\n",
    "plt.ylabel('Validation loss')\n",
    "plt.legend()\n",
    "\n",
    "plt.show()"
   ]
  },
  {
   "cell_type": "markdown",
   "metadata": {},
   "source": [
    "용량이 큰 네트워크는 첫 번째 에포크 이후 거의 바로 과대적합이 시작되어 갈수록 더 심해집니다. 검증 손실도 매우 불안정합니다.\n",
    "\n",
    "다음은 두 네트워크의 훈련 손실입니다:"
   ]
  },
  {
   "cell_type": "code",
   "execution_count": 13,
   "metadata": {},
   "outputs": [
    {
     "data": {
      "image/png": "[encoded data removed]",
      "text/plain": [
       "<Figure size 432x288 with 1 Axes>"
      ]
     },
     "metadata": {
      "needs_background": "light"
     },
     "output_type": "display_data"
    }
   ],
   "source": [
    "original_train_loss = original_hist.history['loss']\n",
    "bigger_model_train_loss = bigger_model_hist.history['loss']\n",
    "\n",
    "plt.plot(epochs, original_train_loss, 'b+', label='Original model')\n",
    "plt.plot(epochs, bigger_model_train_loss, 'bo', label='Bigger model')\n",
    "plt.xlabel('Epochs')\n",
    "plt.ylabel('Training loss')\n",
    "plt.legend()\n",
    "\n",
    "plt.show()"
   ]
  },
  {
   "cell_type": "markdown",
   "metadata": {},
   "source": [
    "여기서 볼 수 있듯이 용량이 큰 네트워크는 훈련 손실이 매우 빠르게 0에 가까워집니다. 용량이 많은 네트워크일수록 더 빠르게 훈련 데이터를 모델링할 수 있습니다(결국 훈련 손실이 낮아집니다). 하지만 더욱 과대적합에 민감해집니다(결국 훈련과 검증 손실 사이에 큰 차이가 발생합니다)."
   ]
  },
  {
   "cell_type": "markdown",
   "metadata": {},
   "source": [
    "## 가중치 규제 추가\n",
    "\n",
    "오캄의 면도날 이론을 알고 있을지 모르겠습니다. 어떤 것에 대한 두 가지의 설명이 있다면 더 적은 가정을 필요하는 간단한 설명이 옳을 것이라는 이론입니다. 이 개념은 신경망으로 학습되는 모델에도 적용됩니다. 어떤 훈련 데이터와 네트워크 구조가 주어졌을 때 데이터를 설명할 수 있는 가중치 값의 집합은 여러 개(여러 개의 모델)입니다. 간단한 모델이 복잡한 모델보다 덜 과대적합될 가능성이 높습니다.\n",
    "\n",
    "여기에서 간단한 모델은 파라미터 값 분포의 엔트로피가 작은 모델입니다(또는 앞 절에서 본 것처럼 적은 수의 파라미터를 가진 모델입니다). 그러므로 과대적합을 완화시키기 위한 일반적인 방법은 네트워크의 복잡도에 제한을 두어 가중치가 작은 값을 가지도록 강제하는 것입니다. 가중치 값의 분포가 더 균일하게 됩니다. 이를 가중치 규제라고 하고 네트워크의 손실 함수에 큰 가중치에 연관된 비용을 추가합니다. 두 가지 형태의 비용이 있습니다.\n",
    "\n",
    "* L1 규제 : 가중치의 절대값에 비례하는 비용이 추가됩니다(가중치의 L1 노름).\n",
    "* L2 규제 : 가중치의 제곱에 비례하는 비용이 추가됩니다(가중치의 L2 노름). L2 규제는 신경망에서 가중치 감쇠라고도 부릅니다. 다른 이름 때문에 혼돈하지 마세요. 가중치 감쇠는 수학적으로 L2 규제와 동일합니다.\n",
    "\n",
    "케라스에서 가중치 규제 인스턴스를 층의 키워드 매개변수로 전달하여 가중치 규제를 추가할 수 있습니다. 영화 리뷰 분류 네트워크에 L2 가중치 규제를 추가해 보죠:"
   ]
  },
  {
   "cell_type": "code",
   "execution_count": 14,
   "metadata": {},
   "outputs": [],
   "source": [
    "from tensorflow.keras import regularizers\n",
    "\n",
    "l2_model = models.Sequential()\n",
    "l2_model.add(layers.Dense(16, kernel_regularizer=regularizers.l2(0.001),\n",
    "                          activation='relu', input_shape=(10000,)))\n",
    "l2_model.add(layers.Dense(16, kernel_regularizer=regularizers.l2(0.001),\n",
    "                          activation='relu'))\n",
    "l2_model.add(layers.Dense(1, activation='sigmoid'))"
   ]
  },
  {
   "cell_type": "code",
   "execution_count": 15,
   "metadata": {},
   "outputs": [],
   "source": [
    "l2_model.compile(optimizer='rmsprop',\n",
    "                 loss='binary_crossentropy',\n",
    "                 metrics=['accuracy'])"
   ]
  },
  {
   "cell_type": "markdown",
   "metadata": {},
   "source": [
    "`l2(0.001)`는 가중치 행렬의 모든 원소를 제곱하고 `0.001`을 곱하여 네트워크의 전체 손실에 더해진다는 의미입니다. 이 페널티 항은 훈련할 때만 추가됩니다. 이 네트워크의 손실은 테스트보다 훈련할 때 더 높을 것입니다.\n",
    "\n",
    "L2 규제 페널티의 효과를 확인해 보죠:"
   ]
  },
  {
   "cell_type": "code",
   "execution_count": 16,
   "metadata": {},
   "outputs": [
    {
     "name": "stdout",
     "output_type": "stream",
     "text": [
      "Epoch 1/20\n",
      "49/49 [==============================] - 3s 55ms/step - loss: 0.6163 - accuracy: 0.7384 - val_loss: 0.4088 - val_accuracy: 0.8809\n",
      "Epoch 2/20\n",
      "49/49 [==============================] - 1s 25ms/step - loss: 0.3517 - accuracy: 0.9039 - val_loss: 0.3491 - val_accuracy: 0.8846\n",
      "Epoch 3/20\n",
      "49/49 [==============================] - 1s 27ms/step - loss: 0.2858 - accuracy: 0.9204 - val_loss: 0.3392 - val_accuracy: 0.8863\n",
      "Epoch 4/20\n",
      "49/49 [==============================] - 1s 25ms/step - loss: 0.2536 - accuracy: 0.9306 - val_loss: 0.3379 - val_accuracy: 0.8867\n",
      "Epoch 5/20\n",
      "49/49 [==============================] - 1s 24ms/step - loss: 0.2461 - accuracy: 0.9333 - val_loss: 0.3401 - val_accuracy: 0.8855\n",
      "Epoch 6/20\n",
      "49/49 [==============================] - 1s 22ms/step - loss: 0.2319 - accuracy: 0.9383 - val_loss: 0.3474 - val_accuracy: 0.8833\n",
      "Epoch 7/20\n",
      "49/49 [==============================] - 1s 25ms/step - loss: 0.2211 - accuracy: 0.9415 - val_loss: 0.3543 - val_accuracy: 0.8806\n",
      "Epoch 8/20\n",
      "49/49 [==============================] - 1s 26ms/step - loss: 0.2116 - accuracy: 0.9471 - val_loss: 0.4061 - val_accuracy: 0.8621\n",
      "Epoch 9/20\n",
      "49/49 [==============================] - 1s 24ms/step - loss: 0.2096 - accuracy: 0.9474 - val_loss: 0.3728 - val_accuracy: 0.8760\n",
      "Epoch 10/20\n",
      "49/49 [==============================] - 1s 24ms/step - loss: 0.2036 - accuracy: 0.9492 - val_loss: 0.3741 - val_accuracy: 0.8756\n",
      "Epoch 11/20\n",
      "49/49 [==============================] - 1s 24ms/step - loss: 0.2058 - accuracy: 0.9496 - val_loss: 0.4053 - val_accuracy: 0.8652\n",
      "Epoch 12/20\n",
      "49/49 [==============================] - 1s 25ms/step - loss: 0.1961 - accuracy: 0.9511 - val_loss: 0.4100 - val_accuracy: 0.8647\n",
      "Epoch 13/20\n",
      "49/49 [==============================] - 1s 24ms/step - loss: 0.1976 - accuracy: 0.9505 - val_loss: 0.3923 - val_accuracy: 0.8731\n",
      "Epoch 14/20\n",
      "49/49 [==============================] - 1s 25ms/step - loss: 0.1944 - accuracy: 0.9545 - val_loss: 0.3883 - val_accuracy: 0.8747\n",
      "Epoch 15/20\n",
      "49/49 [==============================] - 1s 24ms/step - loss: 0.1837 - accuracy: 0.9585 - val_loss: 0.4640 - val_accuracy: 0.8470\n",
      "Epoch 16/20\n",
      "49/49 [==============================] - 1s 23ms/step - loss: 0.1915 - accuracy: 0.9520 - val_loss: 0.3964 - val_accuracy: 0.8730\n",
      "Epoch 17/20\n",
      "49/49 [==============================] - 1s 23ms/step - loss: 0.1807 - accuracy: 0.9593 - val_loss: 0.4027 - val_accuracy: 0.8718\n",
      "Epoch 18/20\n",
      "49/49 [==============================] - 1s 24ms/step - loss: 0.1800 - accuracy: 0.9591 - val_loss: 0.4069 - val_accuracy: 0.8697\n",
      "Epoch 19/20\n",
      "49/49 [==============================] - 1s 23ms/step - loss: 0.1757 - accuracy: 0.9612 - val_loss: 0.4114 - val_accuracy: 0.8692\n",
      "Epoch 20/20\n",
      "49/49 [==============================] - 1s 25ms/step - loss: 0.1781 - accuracy: 0.9597 - val_loss: 0.4246 - val_accuracy: 0.8687\n"
     ]
    }
   ],
   "source": [
    "l2_model_hist = l2_model.fit(x_train, y_train,\n",
    "                             epochs=20,\n",
    "                             batch_size=512,\n",
    "                             validation_data=(x_test, y_test))"
   ]
  },
  {
   "cell_type": "code",
   "execution_count": 17,
   "metadata": {},
   "outputs": [
    {
     "data": {
      "image/png": "[encoded data removed]",
      "text/plain": [
       "<Figure size 432x288 with 1 Axes>"
      ]
     },
     "metadata": {
      "needs_background": "light"
     },
     "output_type": "display_data"
    }
   ],
   "source": [
    "l2_model_val_loss = l2_model_hist.history['val_loss']\n",
    "\n",
    "plt.plot(epochs, original_val_loss, 'b+', label='Original model')\n",
    "plt.plot(epochs, l2_model_val_loss, 'bo', label='L2-regularized model')\n",
    "plt.xlabel('Epochs')\n",
    "plt.ylabel('Validation loss')\n",
    "plt.legend()\n",
    "\n",
    "plt.show()"
   ]
  },
  {
   "cell_type": "markdown",
   "metadata": {},
   "source": [
    "여기서 볼 수 있듯이 두 모델이 동일한 파라미터 수를 가지고 있더라도 L2 규제를 사용한 모델(점)이 기본 모델(덧셈 기호)보다 훨씬 더 과대적합에 잘 견디고 있습니다.\n",
    "\n",
    "케라스에서 L2 규제 대신에 다음과 같은 가중치 규제 중 하나를 사용할 수 있습니다:"
   ]
  },
  {
   "cell_type": "markdown",
   "metadata": {
    "collapsed": true
   },
   "source": [
    "```python\n",
    "from keras import regularizers\n",
    "\n",
    "# L1 규제\n",
    "regularizers.l1(0.001)\n",
    "\n",
    "# L1과 L2 규제 병행\n",
    "regularizers.l1_l2(l1=0.001, l2=0.001)\n",
    "```"
   ]
  },
  {
   "cell_type": "markdown",
   "metadata": {},
   "source": [
    "### l1(0.0001) 모델과 비교"
   ]
  },
  {
   "cell_type": "code",
   "execution_count": 18,
   "metadata": {},
   "outputs": [],
   "source": [
    "l1_model = models.Sequential()\n",
    "l1_model.add(layers.Dense(16, kernel_regularizer=regularizers.l1(0.0001),\n",
    "                          activation='relu', input_shape=(10000,)))\n",
    "l1_model.add(layers.Dense(16, kernel_regularizer=regularizers.l1(0.0001),\n",
    "                          activation='relu'))\n",
    "l1_model.add(layers.Dense(1, activation='sigmoid'))"
   ]
  },
  {
   "cell_type": "code",
   "execution_count": 19,
   "metadata": {},
   "outputs": [],
   "source": [
    "l1_model.compile(optimizer='rmsprop',\n",
    "                 loss='binary_crossentropy',\n",
    "                 metrics=['accuracy'])"
   ]
  },
  {
   "cell_type": "code",
   "execution_count": 20,
   "metadata": {},
   "outputs": [
    {
     "name": "stdout",
     "output_type": "stream",
     "text": [
      "Epoch 1/20\n",
      "49/49 [==============================] - 3s 54ms/step - loss: 0.6855 - accuracy: 0.7438 - val_loss: 0.4357 - val_accuracy: 0.8779\n",
      "Epoch 2/20\n",
      "49/49 [==============================] - 1s 27ms/step - loss: 0.3962 - accuracy: 0.8906 - val_loss: 0.3744 - val_accuracy: 0.8877\n",
      "Epoch 3/20\n",
      "49/49 [==============================] - 1s 25ms/step - loss: 0.3410 - accuracy: 0.9053 - val_loss: 0.3738 - val_accuracy: 0.8824\n",
      "Epoch 4/20\n",
      "49/49 [==============================] - 1s 26ms/step - loss: 0.3136 - accuracy: 0.9135 - val_loss: 0.3793 - val_accuracy: 0.8757\n",
      "Epoch 5/20\n",
      "49/49 [==============================] - 1s 25ms/step - loss: 0.3127 - accuracy: 0.9124 - val_loss: 0.3998 - val_accuracy: 0.8702\n",
      "Epoch 6/20\n",
      "49/49 [==============================] - 1s 25ms/step - loss: 0.3039 - accuracy: 0.9161 - val_loss: 0.3656 - val_accuracy: 0.8851\n",
      "Epoch 7/20\n",
      "49/49 [==============================] - 1s 22ms/step - loss: 0.2972 - accuracy: 0.9188 - val_loss: 0.3742 - val_accuracy: 0.8822\n",
      "Epoch 8/20\n",
      "49/49 [==============================] - 1s 25ms/step - loss: 0.2924 - accuracy: 0.9199 - val_loss: 0.3923 - val_accuracy: 0.8757\n",
      "Epoch 9/20\n",
      "49/49 [==============================] - 1s 24ms/step - loss: 0.2907 - accuracy: 0.9214 - val_loss: 0.3968 - val_accuracy: 0.8745\n",
      "Epoch 10/20\n",
      "49/49 [==============================] - 1s 24ms/step - loss: 0.2868 - accuracy: 0.9228 - val_loss: 0.3843 - val_accuracy: 0.8782\n",
      "Epoch 11/20\n",
      "49/49 [==============================] - 1s 22ms/step - loss: 0.2796 - accuracy: 0.9290 - val_loss: 0.3773 - val_accuracy: 0.8819\n",
      "Epoch 12/20\n",
      "49/49 [==============================] - 1s 22ms/step - loss: 0.2656 - accuracy: 0.9339 - val_loss: 0.3889 - val_accuracy: 0.8774\n",
      "Epoch 13/20\n",
      "49/49 [==============================] - 1s 23ms/step - loss: 0.2663 - accuracy: 0.9320 - val_loss: 0.3860 - val_accuracy: 0.8802\n",
      "Epoch 14/20\n",
      "49/49 [==============================] - 1s 23ms/step - loss: 0.2635 - accuracy: 0.9342 - val_loss: 0.4099 - val_accuracy: 0.8723\n",
      "Epoch 15/20\n",
      "49/49 [==============================] - 1s 22ms/step - loss: 0.2638 - accuracy: 0.9347 - val_loss: 0.3906 - val_accuracy: 0.8797\n",
      "Epoch 16/20\n",
      "49/49 [==============================] - 1s 22ms/step - loss: 0.2662 - accuracy: 0.9339 - val_loss: 0.3954 - val_accuracy: 0.8776\n",
      "Epoch 17/20\n",
      "49/49 [==============================] - 1s 23ms/step - loss: 0.2607 - accuracy: 0.9365 - val_loss: 0.3998 - val_accuracy: 0.8773\n",
      "Epoch 18/20\n",
      "49/49 [==============================] - 1s 24ms/step - loss: 0.2491 - accuracy: 0.9412 - val_loss: 0.4183 - val_accuracy: 0.8706\n",
      "Epoch 19/20\n",
      "49/49 [==============================] - 1s 25ms/step - loss: 0.2456 - accuracy: 0.9398 - val_loss: 0.4233 - val_accuracy: 0.8701\n",
      "Epoch 20/20\n",
      "49/49 [==============================] - 1s 22ms/step - loss: 0.2463 - accuracy: 0.9405 - val_loss: 0.4245 - val_accuracy: 0.8704\n"
     ]
    }
   ],
   "source": [
    "l1_model_hist = l1_model.fit(x_train, y_train,\n",
    "                             epochs=20,\n",
    "                             batch_size=512,\n",
    "                             validation_data=(x_test, y_test))"
   ]
  },
  {
   "cell_type": "code",
   "execution_count": 21,
   "metadata": {},
   "outputs": [
    {
     "data": {
      "image/png": "[encoded data removed]",
      "text/plain": [
       "<Figure size 432x288 with 1 Axes>"
      ]
     },
     "metadata": {
      "needs_background": "light"
     },
     "output_type": "display_data"
    }
   ],
   "source": [
    "l1_model_val_loss = l1_model_hist.history['val_loss']\n",
    "\n",
    "plt.plot(epochs, original_val_loss, 'b+', label='Original model')\n",
    "plt.plot(epochs, l1_model_val_loss, 'bo', label='L1-regularized model')\n",
    "plt.xlabel('Epochs')\n",
    "plt.ylabel('Validation loss')\n",
    "plt.legend()\n",
    "\n",
    "plt.show()"
   ]
  },
  {
   "cell_type": "markdown",
   "metadata": {},
   "source": [
    "### l1_l2(l1=0.0001, l2=0.0001)모델과 비교"
   ]
  },
  {
   "cell_type": "code",
   "execution_count": 22,
   "metadata": {},
   "outputs": [],
   "source": [
    "l1l2_model = models.Sequential()\n",
    "l1l2_model.add(layers.Dense(16, kernel_regularizer=regularizers.l1_l2(l1=0.0001, l2=0.0001),\n",
    "                            activation='relu', input_shape=(10000,)))\n",
    "l1l2_model.add(layers.Dense(16, kernel_regularizer=regularizers.l1_l2(l1=0.0001, l2=0.0001),\n",
    "                            activation='relu'))\n",
    "l1l2_model.add(layers.Dense(1, activation='sigmoid'))"
   ]
  },
  {
   "cell_type": "code",
   "execution_count": 23,
   "metadata": {},
   "outputs": [],
   "source": [
    "l1l2_model.compile(optimizer='rmsprop',\n",
    "                   loss='binary_crossentropy',\n",
    "                   metrics=['accuracy'])"
   ]
  },
  {
   "cell_type": "code",
   "execution_count": 24,
   "metadata": {},
   "outputs": [
    {
     "name": "stdout",
     "output_type": "stream",
     "text": [
      "Epoch 1/20\n",
      "49/49 [==============================] - 3s 56ms/step - loss: 0.6922 - accuracy: 0.7312 - val_loss: 0.4465 - val_accuracy: 0.8592\n",
      "Epoch 2/20\n",
      "49/49 [==============================] - 1s 23ms/step - loss: 0.3922 - accuracy: 0.8912 - val_loss: 0.3861 - val_accuracy: 0.8812\n",
      "Epoch 3/20\n",
      "49/49 [==============================] - 1s 24ms/step - loss: 0.3461 - accuracy: 0.9016 - val_loss: 0.3813 - val_accuracy: 0.8774\n",
      "Epoch 4/20\n",
      "49/49 [==============================] - 1s 26ms/step - loss: 0.3205 - accuracy: 0.9108 - val_loss: 0.3649 - val_accuracy: 0.8853\n",
      "Epoch 5/20\n",
      "49/49 [==============================] - 1s 22ms/step - loss: 0.3039 - accuracy: 0.9186 - val_loss: 0.3629 - val_accuracy: 0.8862\n",
      "Epoch 6/20\n",
      "49/49 [==============================] - 1s 25ms/step - loss: 0.2943 - accuracy: 0.9212 - val_loss: 0.3735 - val_accuracy: 0.8812\n",
      "Epoch 7/20\n",
      "49/49 [==============================] - 1s 24ms/step - loss: 0.2899 - accuracy: 0.9221 - val_loss: 0.3785 - val_accuracy: 0.8786\n",
      "Epoch 8/20\n",
      "49/49 [==============================] - 1s 24ms/step - loss: 0.2856 - accuracy: 0.9242 - val_loss: 0.3733 - val_accuracy: 0.8846\n",
      "Epoch 9/20\n",
      "49/49 [==============================] - 1s 24ms/step - loss: 0.2740 - accuracy: 0.9299 - val_loss: 0.3703 - val_accuracy: 0.8825\n",
      "Epoch 10/20\n",
      "49/49 [==============================] - 1s 25ms/step - loss: 0.2802 - accuracy: 0.9259 - val_loss: 0.3720 - val_accuracy: 0.8831\n",
      "Epoch 11/20\n",
      "49/49 [==============================] - 1s 24ms/step - loss: 0.2717 - accuracy: 0.9297 - val_loss: 0.3761 - val_accuracy: 0.8819\n",
      "Epoch 12/20\n",
      "49/49 [==============================] - 1s 23ms/step - loss: 0.2679 - accuracy: 0.9317 - val_loss: 0.3929 - val_accuracy: 0.8735\n",
      "Epoch 13/20\n",
      "49/49 [==============================] - 1s 23ms/step - loss: 0.2567 - accuracy: 0.9370 - val_loss: 0.3761 - val_accuracy: 0.8821\n",
      "Epoch 14/20\n",
      "49/49 [==============================] - 1s 24ms/step - loss: 0.2534 - accuracy: 0.9384 - val_loss: 0.4117 - val_accuracy: 0.8667\n",
      "Epoch 15/20\n",
      "49/49 [==============================] - 1s 24ms/step - loss: 0.2542 - accuracy: 0.9375 - val_loss: 0.3827 - val_accuracy: 0.8798\n",
      "Epoch 16/20\n",
      "49/49 [==============================] - 1s 25ms/step - loss: 0.2369 - accuracy: 0.9454 - val_loss: 0.3821 - val_accuracy: 0.8803\n",
      "Epoch 17/20\n",
      "49/49 [==============================] - 1s 24ms/step - loss: 0.2381 - accuracy: 0.9453 - val_loss: 0.4018 - val_accuracy: 0.8748\n",
      "Epoch 18/20\n",
      "49/49 [==============================] - 1s 22ms/step - loss: 0.2260 - accuracy: 0.9489 - val_loss: 0.3924 - val_accuracy: 0.8779\n",
      "Epoch 19/20\n",
      "49/49 [==============================] - 1s 23ms/step - loss: 0.2318 - accuracy: 0.9444 - val_loss: 0.3907 - val_accuracy: 0.8770\n",
      "Epoch 20/20\n",
      "49/49 [==============================] - 1s 23ms/step - loss: 0.2238 - accuracy: 0.9509 - val_loss: 0.4032 - val_accuracy: 0.8755\n"
     ]
    }
   ],
   "source": [
    "l1l2_model_hist = l1l2_model.fit(x_train, y_train,\n",
    "                                 epochs=20,\n",
    "                                 batch_size=512,\n",
    "                                 validation_data=(x_test, y_test))"
   ]
  },
  {
   "cell_type": "code",
   "execution_count": 25,
   "metadata": {},
   "outputs": [
    {
     "data": {
      "image/png": "[encoded data removed]",
      "text/plain": [
       "<Figure size 432x288 with 1 Axes>"
      ]
     },
     "metadata": {
      "needs_background": "light"
     },
     "output_type": "display_data"
    }
   ],
   "source": [
    "l1l2_model_val_loss = l1l2_model_hist.history['val_loss']\n",
    "\n",
    "plt.plot(epochs, original_val_loss, 'b+', label='Original model')\n",
    "plt.plot(epochs, l1l2_model_val_loss, 'bo', label='L1,L2-regularized model')\n",
    "plt.xlabel('Epochs')\n",
    "plt.ylabel('Validation loss')\n",
    "plt.legend()\n",
    "\n",
    "plt.show()"
   ]
  },
  {
   "cell_type": "markdown",
   "metadata": {},
   "source": [
    "## 드롭아웃 추가\n",
    "\n",
    "드롭아웃은 토론토 대학의 제프리 힌튼과 그의 학생들이 개발했습니다. 신경망을 위해 사용되는 규제 기법 중에서 가장 효과적이고 널리 사용되는 방법 중에 하나입니다. 네트워크의 층에 드롭아웃을 적용하면 훈련하는 동안 무작위로 층의 일부 출력 특성을 제외시킵니다(0으로 만듭니다). 한 층이 정상적으로 훈련하는 동안에는 어떤 입력 샘플에 대해 `[0.2, 0.5, 1.3, 0.8, 1.1]` 벡터를 출력한다고 가정합시다. 드롭아웃을 적용하면 이 벡터의 일부가 무작위로 0으로 바뀝니다. 예를 들면 `[0, 0.5, 1.3, 0, 1.1]`이 됩니다. 드롭아웃 비율은 0이 될 특성의 비율입니다. 보통 0.2에서 0.5 사이로 지정됩니다. 테스트 단계에서는 어떤 유닛도 드롭아웃되지 않습니다. 대신에 층의 출력을 드롭아웃 비율에 비례하여 줄여 줍니다. 훈련할 때보다 더 많은 유닛이 활성화되기 때문입니다.\n",
    "\n",
    "크기가 `(batch_size, features)`인 한 층의 출력을 담고 있는 넘파이 행렬을 생각해 보겠습니다. 훈련할 때는 이 행렬의 값의 일부가 랜덤하게 0이 됩니다:"
   ]
  },
  {
   "cell_type": "markdown",
   "metadata": {
    "collapsed": true
   },
   "source": [
    "```python\n",
    "# 훈련할 때 유닛의 출력 중 50%를 버립니다\n",
    "layer_output *= np.random.randint(0, high=2, size=layer_output.shape)\n",
    "```"
   ]
  },
  {
   "cell_type": "markdown",
   "metadata": {},
   "source": [
    "테스트할 때는 드롭아웃 비율로 출력을 낮추어 주어야 합니다. 여기에서는 0.5배만큼 스케일을 조정했습니다(앞에서 절반의 유닛을 드롭아웃했으므로):"
   ]
  },
  {
   "cell_type": "markdown",
   "metadata": {
    "collapsed": true
   },
   "source": [
    "```python\n",
    "# 테스트 단계\n",
    "layer_output *= 0.5\n",
    "```"
   ]
  },
  {
   "cell_type": "markdown",
   "metadata": {},
   "source": [
    "훈련 단계에 이 두 연산을 포함시켜 테스트 단계에는 출력을 그대로 두도록 구현할 수 있습니다. 실제로 종종 이런 방식으로 구현합니다:"
   ]
  },
  {
   "cell_type": "markdown",
   "metadata": {
    "collapsed": true
   },
   "source": [
    "```python\n",
    "# 훈련 단계\n",
    "layer_output *= np.randint(0, high=2, size=layer_output.shape)\n",
    "# 여기에서 스케일을 낮추는 대신 높입니다![image.png](attachment:image.png)\n",
    "layer_output /= 0.5\n",
    "```"
   ]
  },
  {
   "cell_type": "markdown",
   "metadata": {},
   "source": [
    "이 기법이 이상하고 무계획적으로 보일 수 있습니다. 왜 드롭아웃이 과대적합을 줄이는 데 도움이 될까요? 힌튼은 은행에서 사용하는 부정 방지 메커니즘에서 착안했다고 합니다. 그의 말을 빌리면 “은행에 갔을 때 행원들이 계속 바뀌길래 왜 그런지를 물었습니다. 자신들도 이유는 모르지만 자주 업무가 바뀐다고 했습니다. 나는 은행에서 부정 행위를 하려면 직원들 사이의 유대가 필요하기 때문이라고 판단했습니다. 각 샘플에 대해 뉴런의 일부를 무작위하게 제거하면 뉴런의 부정한 협업을 방지하고 결국 과대적합을 감소시킨다는 것을 깨달았습니다.\"\n",
    "\n",
    "핵심 아이디어는 층의 출력 값에 노이즈를 추가하여 중요하지 않은 우연한 패턴(힌튼이 이야기한 부정한 협업)을 깨뜨리는 것입니다. 노이즈가 없다면 네트워크가 이 패턴을 기억하기 시작할 것입니다.\n",
    "\n",
    "케라스에서는 층의 출력 바로 뒤에 `Dropout` 층을 추가하여 네트워크에 드롭아웃을 적용할 수 있습니다:"
   ]
  },
  {
   "cell_type": "markdown",
   "metadata": {
    "collapsed": true
   },
   "source": [
    "```python\n",
    "model.add(layers.Dropout(0.5))\n",
    "```"
   ]
  },
  {
   "cell_type": "markdown",
   "metadata": {},
   "source": [
    "IMDB 네트워크에 두 개의 `Dropout` 층을 추가하고 과대적합을 얼마나 줄여주는지 확인해 보겠습니다:"
   ]
  },
  {
   "cell_type": "code",
   "execution_count": 26,
   "metadata": {},
   "outputs": [],
   "source": [
    "dpt_model = models.Sequential()\n",
    "dpt_model.add(layers.Dense(16, activation='relu', input_shape=(10000,)))\n",
    "dpt_model.add(layers.Dropout(0.5))\n",
    "dpt_model.add(layers.Dense(16, activation='relu'))\n",
    "dpt_model.add(layers.Dropout(0.5))\n",
    "dpt_model.add(layers.Dense(1, activation='sigmoid'))\n",
    "\n",
    "dpt_model.compile(optimizer='rmsprop',\n",
    "                  loss='binary_crossentropy',\n",
    "                  metrics=['accuracy'])"
   ]
  },
  {
   "cell_type": "code",
   "execution_count": 27,
   "metadata": {},
   "outputs": [
    {
     "name": "stdout",
     "output_type": "stream",
     "text": [
      "Epoch 1/20\n",
      "49/49 [==============================] - 4s 55ms/step - loss: 0.6262 - accuracy: 0.6354 - val_loss: 0.4300 - val_accuracy: 0.8625\n",
      "Epoch 2/20\n",
      "49/49 [==============================] - 1s 22ms/step - loss: 0.4425 - accuracy: 0.8171 - val_loss: 0.3277 - val_accuracy: 0.8835\n",
      "Epoch 3/20\n",
      "49/49 [==============================] - 1s 23ms/step - loss: 0.3541 - accuracy: 0.8633 - val_loss: 0.2901 - val_accuracy: 0.8859\n",
      "Epoch 4/20\n",
      "49/49 [==============================] - 1s 22ms/step - loss: 0.3002 - accuracy: 0.8929 - val_loss: 0.2780 - val_accuracy: 0.8886\n",
      "Epoch 5/20\n",
      "49/49 [==============================] - 1s 22ms/step - loss: 0.2591 - accuracy: 0.9079 - val_loss: 0.2811 - val_accuracy: 0.8876\n",
      "Epoch 6/20\n",
      "49/49 [==============================] - 1s 23ms/step - loss: 0.2278 - accuracy: 0.9206 - val_loss: 0.2913 - val_accuracy: 0.8872\n",
      "Epoch 7/20\n",
      "49/49 [==============================] - 1s 25ms/step - loss: 0.1988 - accuracy: 0.9321 - val_loss: 0.3243 - val_accuracy: 0.8814\n",
      "Epoch 8/20\n",
      "49/49 [==============================] - 1s 24ms/step - loss: 0.1853 - accuracy: 0.9370 - val_loss: 0.3236 - val_accuracy: 0.8834\n",
      "Epoch 9/20\n",
      "49/49 [==============================] - 1s 23ms/step - loss: 0.1745 - accuracy: 0.9417 - val_loss: 0.3422 - val_accuracy: 0.8816\n",
      "Epoch 10/20\n",
      "49/49 [==============================] - 1s 25ms/step - loss: 0.1573 - accuracy: 0.9446 - val_loss: 0.3693 - val_accuracy: 0.8816\n",
      "Epoch 11/20\n",
      "49/49 [==============================] - 1s 23ms/step - loss: 0.1456 - accuracy: 0.9524 - val_loss: 0.4156 - val_accuracy: 0.8756\n",
      "Epoch 12/20\n",
      "49/49 [==============================] - 1s 22ms/step - loss: 0.1440 - accuracy: 0.9528 - val_loss: 0.4287 - val_accuracy: 0.8775\n",
      "Epoch 13/20\n",
      "49/49 [==============================] - 1s 25ms/step - loss: 0.1258 - accuracy: 0.9591 - val_loss: 0.4516 - val_accuracy: 0.8759\n",
      "Epoch 14/20\n",
      "49/49 [==============================] - 1s 23ms/step - loss: 0.1272 - accuracy: 0.9592 - val_loss: 0.4805 - val_accuracy: 0.8753\n",
      "Epoch 15/20\n",
      "49/49 [==============================] - 1s 25ms/step - loss: 0.1219 - accuracy: 0.9589 - val_loss: 0.4823 - val_accuracy: 0.8745\n",
      "Epoch 16/20\n",
      "49/49 [==============================] - 1s 26ms/step - loss: 0.1179 - accuracy: 0.9616 - val_loss: 0.5222 - val_accuracy: 0.8742\n",
      "Epoch 17/20\n",
      "49/49 [==============================] - 1s 27ms/step - loss: 0.1101 - accuracy: 0.9646 - val_loss: 0.5285 - val_accuracy: 0.8725\n",
      "Epoch 18/20\n",
      "49/49 [==============================] - 1s 25ms/step - loss: 0.1087 - accuracy: 0.9625 - val_loss: 0.5498 - val_accuracy: 0.8721\n",
      "Epoch 19/20\n",
      "49/49 [==============================] - 1s 23ms/step - loss: 0.1000 - accuracy: 0.9660 - val_loss: 0.5913 - val_accuracy: 0.8708\n",
      "Epoch 20/20\n",
      "49/49 [==============================] - 1s 25ms/step - loss: 0.0964 - accuracy: 0.9696 - val_loss: 0.5937 - val_accuracy: 0.8721\n"
     ]
    }
   ],
   "source": [
    "dpt_model_hist = dpt_model.fit(x_train, y_train,\n",
    "                               epochs=20,\n",
    "                               batch_size=512,\n",
    "                               validation_data=(x_test, y_test))"
   ]
  },
  {
   "cell_type": "markdown",
   "metadata": {},
   "source": [
    "결과 그래프를 그려 보죠:"
   ]
  },
  {
   "cell_type": "code",
   "execution_count": 28,
   "metadata": {},
   "outputs": [
    {
     "data": {
      "image/png": "[encoded data removed]",
      "text/plain": [
       "<Figure size 432x288 with 1 Axes>"
      ]
     },
     "metadata": {
      "needs_background": "light"
     },
     "output_type": "display_data"
    }
   ],
   "source": [
    "dpt_model_val_loss = dpt_model_hist.history['val_loss']\n",
    "\n",
    "plt.plot(epochs, original_val_loss, 'b+', label='Original model')\n",
    "plt.plot(epochs, dpt_model_val_loss, 'bo', label='Dropout-regularized model')\n",
    "plt.xlabel('Epochs')\n",
    "plt.ylabel('Validation loss')\n",
    "plt.legend()\n",
    "\n",
    "plt.show()"
   ]
  },
  {
   "cell_type": "markdown",
   "metadata": {},
   "source": [
    "여기에서도 기본 네트워크보다 확실히 향상되었습니다.\n",
    "\n",
    "정리하면 신경망에서 과대적합을 방지하기 위해 가장 널리 사용하는 방법은 다음과 같습니다.\n",
    "\n",
    "* 훈련 데이터를 더 모읍니다.\n",
    "* 네트워크의 용량을 감소시킵니다.\n",
    "* 가중치 규제를 추가합니다.\n",
    "* 드롭아웃을 추가합니다"
   ]
  }
 ],
 "metadata": {
  "kernelspec": {
   "display_name": "TensorFlow 2.3 on Python 3.6 (CUDA 10.1)",
   "language": "python",
   "name": "python3"
  },
  "language_info": {
   "codemirror_mode": {
    "name": "ipython",
    "version": 3
   },
   "file_extension": ".py",
   "mimetype": "text/x-python",
   "name": "python",
   "nbconvert_exporter": "python",
   "pygments_lexer": "ipython3",
   "version": "3.8.7"
  }
 },
 "nbformat": 4,
 "nbformat_minor": 2
}
