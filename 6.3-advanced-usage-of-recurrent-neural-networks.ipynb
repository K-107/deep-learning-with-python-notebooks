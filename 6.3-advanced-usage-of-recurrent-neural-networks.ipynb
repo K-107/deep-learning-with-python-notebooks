{
  "nbformat": 4,
  "nbformat_minor": 0,
  "metadata": {
    "kernelspec": {
      "display_name": "Python 3.7 on Backend.AI",
      "language": "python",
      "name": "python3"
    },
    "language_info": {
      "codemirror_mode": {
        "name": "ipython",
        "version": 3
      },
      "file_extension": ".py",
      "mimetype": "text/x-python",
      "name": "python",
      "nbconvert_exporter": "python",
      "pygments_lexer": "ipython3",
      "version": "3.7.7"
    },
    "colab": {
      "name": "6.3-advanced-usage-of-recurrent-neural-networks.ipynb",
      "provenance": [],
      "include_colab_link": true
    },
    "accelerator": "GPU"
  },
  "cells": [
    {
      "cell_type": "markdown",
      "metadata": {
        "id": "view-in-github",
        "colab_type": "text"
      },
      "source": [
        "<a href=\"https://colab.research.google.com/github/K-107/deep-learning-with-python-notebooks/blob/tf2/6.3-advanced-usage-of-recurrent-neural-networks.ipynb\" target=\"_parent\"><img src=\"https://colab.research.google.com/assets/colab-badge.svg\" alt=\"Open In Colab\"/></a>"
      ]
    },
    {
      "cell_type": "code",
      "metadata": {
        "colab": {
          "base_uri": "https://localhost:8080/",
          "height": 35
        },
        "id": "tSvvP3YJXyf-",
        "outputId": "ebb63efc-8428-46bc-bbd5-91211718bef7"
      },
      "source": [
        "from tensorflow import keras\n",
        "keras.__version__"
      ],
      "execution_count": 1,
      "outputs": [
        {
          "output_type": "execute_result",
          "data": {
            "application/vnd.google.colaboratory.intrinsic+json": {
              "type": "string"
            },
            "text/plain": [
              "'2.6.0'"
            ]
          },
          "metadata": {},
          "execution_count": 1
        }
      ]
    },
    {
      "cell_type": "markdown",
      "metadata": {
        "id": "WZQ1GO1ZXygA"
      },
      "source": [
        "# 순환 신경망의 고급 사용법\n",
        "\n",
        "이 노트북은 [케라스 창시자에게 배우는 딥러닝](https://tensorflow.blog/케라스-창시자에게-배우는-딥러닝/) 책의 6장 3절의 코드 예제입니다. 책에는 더 많은 내용과 그림이 있습니다. 이 노트북에는 소스 코드에 관련된 설명만 포함합니다. 이 노트북의 설명은 케라스 버전 2.2.2에 맞추어져 있습니다. 케라스 최신 버전이 릴리스되면 노트북을 다시 테스트하기 때문에 설명과 코드의 결과가 조금 다를 수 있습니다.\n",
        "\n",
        "---\n",
        "\n",
        "이 절에서는 순환 신경망의 성능과 일반화 능력을 향상시키기 위한 세 가지의 고급 기술을 살펴보겠습니다. 이 절을 마칠 때면 케라스에서 순환 신경망을 사용하는 대부분의 방법을 알게 될 것입니다. 온도 예측 문제로 세 가지 개념을 모두 시연해 보겠습니다. 이 시계열 데이터는 건물 옥상에 설치된 센서에서 취득한 온도, 기압, 습도 같은 데이터입니다. 이 데이터를 사용하여 마지막 데이터 포인트에서부터 24시간 이후의 온도를 예측하겠습니다. 이 문제는 시계열 데이터에서 일반적으로 나타나는 여러 가지 어려운 점을 가지고 있습니다. 전형적이고 꽤 도전적인 문제입니다.\n",
        "\n",
        "다음 기법들을 적용하겠습니다.\n",
        "\n",
        "* 순환 드롭아웃 : 순환 층에서 과대적합을 방지하기 위해 케라스에 내장되어 있는 드롭아웃을 사용합니다.\n",
        "* 순환 층 스태킹 : 네트워크의 표현 능력을 증가시킵니다(대신 계산 비용이 많이 듭니다).\n",
        "* 양방향 순환 층 : 순환 네트워크에 같은 정보를 다른 방향으로 주입하여 정확도를 높이고 기억을 좀 더 오래 유지시킵니다."
      ]
    },
    {
      "cell_type": "markdown",
      "metadata": {
        "id": "Vvn_LDXRXygB"
      },
      "source": [
        "## 기온 예측 문제\n",
        "지금까지 다룬 시퀀스 데이터는 IMDB 데이터셋이나 로이터 데이터셋과 같은 텍스트 데이터입니다. 시퀀스 데이터는 이런 언어 처리 분야뿐만 아니라 훨씬 많은 문제에서 등장합니다. 이 절에 있는 모든 예제는 날씨 시계열 데이터셋을 사용합니다. 이 데이터는 독일 예나 시에 있는 막스 플랑크 생물지구화학 연구소( http://www.bgc-jena.mpg.de/wetter/ )의 지상 관측소에서 수집한 것입니다.\n",
        "\n",
        "이 데이터셋에는 수년간에 걸쳐 (기온, 기압, 습도, 풍향 등과 같은) 14개의 관측치가 10분마다 기록되어 있습니다. 원본 데이터는 2003년부터 기록되어 있지만 이 예제에서는 2009~2016년 사이의 데이터만 사용합니다. 이 데이터셋은 시계열 수치 데이터를 다루는 법을 익히는 데 안성맞춤입니다. 최근 데이터(몇 일치 데이터 포인트)를 입력으로 사용해 모델을 만들고 24시간 이후의 기온을 예측하겠습니다."
      ]
    },
    {
      "cell_type": "markdown",
      "metadata": {
        "id": "6YDLF6anXygC"
      },
      "source": [
        "데이터를 살펴보죠:"
      ]
    },
    {
      "cell_type": "code",
      "metadata": {
        "colab": {
          "base_uri": "https://localhost:8080/"
        },
        "id": "tembwMleZvOW",
        "outputId": "e63cf3bc-2a0f-420c-e444-fc0446178ac8"
      },
      "source": [
        "# 깃클론해서 깃허브에서 데이터 가져오기\n",
        "# 깃클론해서 데이터 가져오는 걸로 코드 수정!\n",
        "\n",
        "!git clone https://github.com/K-107/deep-learning-with-python-notebooks.git"
      ],
      "execution_count": 2,
      "outputs": [
        {
          "output_type": "stream",
          "name": "stdout",
          "text": [
            "Cloning into 'deep-learning-with-python-notebooks'...\n",
            "remote: Enumerating objects: 124015, done.\u001b[K\n",
            "remote: Counting objects: 100% (93/93), done.\u001b[K\n",
            "remote: Compressing objects: 100% (88/88), done.\u001b[K\n",
            "remote: Total 124015 (delta 31), reused 37 (delta 5), pack-reused 123922\u001b[K\n",
            "Receiving objects: 100% (124015/124015), 729.58 MiB | 28.45 MiB/s, done.\n",
            "Resolving deltas: 100% (168/168), done.\n",
            "Checking out files: 100% (104042/104042), done.\n"
          ]
        }
      ]
    },
    {
      "cell_type": "code",
      "metadata": {
        "colab": {
          "base_uri": "https://localhost:8080/"
        },
        "id": "XleAZ1ScXygC",
        "outputId": "db68e104-3d5b-4d5f-f869-983e4eaa8a40"
      },
      "source": [
        "import os\n",
        "\n",
        "data_dir = '/content/deep-learning-with-python-notebooks/datasets/jena_climate'\n",
        "fname = os.path.join(data_dir, 'jena_climate_2009_2016.csv')\n",
        "\n",
        "f = open(fname)\n",
        "data = f.read()\n",
        "f.close()\n",
        "\n",
        "lines = data.split('\\n')\n",
        "header = lines[0].split(',')\n",
        "lines = lines[1:]\n",
        "\n",
        "print(header)\n",
        "print(len(lines))"
      ],
      "execution_count": 3,
      "outputs": [
        {
          "output_type": "stream",
          "name": "stdout",
          "text": [
            "['\"Date Time\"', '\"p (mbar)\"', '\"T (degC)\"', '\"Tpot (K)\"', '\"Tdew (degC)\"', '\"rh (%)\"', '\"VPmax (mbar)\"', '\"VPact (mbar)\"', '\"VPdef (mbar)\"', '\"sh (g/kg)\"', '\"H2OC (mmol/mol)\"', '\"rho (g/m**3)\"', '\"wv (m/s)\"', '\"max. wv (m/s)\"', '\"wd (deg)\"']\n",
            "420551\n"
          ]
        }
      ]
    },
    {
      "cell_type": "markdown",
      "metadata": {
        "id": "I3R7kkWCXygD"
      },
      "source": [
        "420,551개 데이터 전체를 넘파이 배열로 바꿉니다:"
      ]
    },
    {
      "cell_type": "code",
      "metadata": {
        "id": "X5tvO6fuXygD"
      },
      "source": [
        "import numpy as np\n",
        "\n",
        "float_data = np.zeros((len(lines), len(header) - 1))\n",
        "for i, line in enumerate(lines):\n",
        "    values = [float(x) for x in line.split(',')[1:]]\n",
        "    float_data[i, :] = values"
      ],
      "execution_count": 4,
      "outputs": []
    },
    {
      "cell_type": "code",
      "metadata": {
        "colab": {
          "base_uri": "https://localhost:8080/"
        },
        "id": "IhkRg5bRbnsk",
        "outputId": "b76c2138-f6ae-4daf-85cb-cdc9e7e6aba3"
      },
      "source": [
        "a = '06.04.2010 20:50:00,996.37,9.17,282.62,0.29,53.65,11.63,6.24,5.39,3.90,6.26,1226.49,2.26,2.96,190.40'\n",
        "a.split(',')[1:]\n",
        "# Date Time이 빠졌다."
      ],
      "execution_count": 5,
      "outputs": [
        {
          "output_type": "execute_result",
          "data": {
            "text/plain": [
              "['996.37',\n",
              " '9.17',\n",
              " '282.62',\n",
              " '0.29',\n",
              " '53.65',\n",
              " '11.63',\n",
              " '6.24',\n",
              " '5.39',\n",
              " '3.90',\n",
              " '6.26',\n",
              " '1226.49',\n",
              " '2.26',\n",
              " '2.96',\n",
              " '190.40']"
            ]
          },
          "metadata": {},
          "execution_count": 5
        }
      ]
    },
    {
      "cell_type": "code",
      "metadata": {
        "colab": {
          "base_uri": "https://localhost:8080/"
        },
        "id": "Jl8oTuL2bPP_",
        "outputId": "18f2d31f-802a-47a5-c502-8993d6c2cc5b"
      },
      "source": [
        "float_data.shape"
      ],
      "execution_count": 6,
      "outputs": [
        {
          "output_type": "execute_result",
          "data": {
            "text/plain": [
              "(420551, 14)"
            ]
          },
          "metadata": {},
          "execution_count": 6
        }
      ]
    },
    {
      "cell_type": "markdown",
      "metadata": {
        "id": "7Nv0y2x6XygE"
      },
      "source": [
        "예를 들어 다음은 시간에 따른 기온(섭씨) 그래프입니다:"
      ]
    },
    {
      "cell_type": "code",
      "metadata": {
        "id": "hn8IFHswXygE"
      },
      "source": [
        "from matplotlib import pyplot as plt"
      ],
      "execution_count": 7,
      "outputs": []
    },
    {
      "cell_type": "code",
      "metadata": {
        "colab": {
          "base_uri": "https://localhost:8080/",
          "height": 268
        },
        "id": "cqp77vYpXygF",
        "outputId": "13093272-86c3-452b-a99d-eb0ff1a2ca79"
      },
      "source": [
        "temp = float_data[:, 1]  # 온도(섭씨) \"T (degC)\"\n",
        "plt.plot(range(len(temp)), temp)\n",
        "plt.show()"
      ],
      "execution_count": 8,
      "outputs": [
        {
          "output_type": "display_data",
          "data": {
            "image/png": "[encoded data removed]",
            "text/plain": [
              "<Figure size 432x288 with 1 Axes>"
            ]
          },
          "metadata": {
            "needs_background": "light"
          }
        }
      ]
    },
    {
      "cell_type": "markdown",
      "metadata": {
        "id": "aKwJzxX6XygF"
      },
      "source": [
        "이 그래프에서 온도에 주기성이 있다는 것을 잘 볼 수 있습니다.\n",
        "\n",
        "다음은 기간을 좁혀서 처음 10일간의 온도 데이터를 나타낸 그래프입니다. 10분마다 데이터가 기록되므로 하루에 총 144개의 데이터 포인트가 있습니다:"
      ]
    },
    {
      "cell_type": "code",
      "metadata": {
        "colab": {
          "base_uri": "https://localhost:8080/",
          "height": 265
        },
        "id": "FtgB5GyCXygF",
        "outputId": "e2fa1780-6a17-477a-ce44-3ed69ce3a96d"
      },
      "source": [
        "plt.plot(range(1440), temp[:1440])\n",
        "plt.show()"
      ],
      "execution_count": 9,
      "outputs": [
        {
          "output_type": "display_data",
          "data": {
            "image/png": "[encoded data removed]",
            "text/plain": [
              "<Figure size 432x288 with 1 Axes>"
            ]
          },
          "metadata": {
            "needs_background": "light"
          }
        }
      ]
    },
    {
      "cell_type": "markdown",
      "metadata": {
        "id": "6Bj6axAAXygG"
      },
      "source": [
        "이 그래프에서 일별 주기성을 볼 수 있습니다. 특히 마지막 4일간을 보면 확실합니다. 이 데이터는 아주 추운 겨울 중 10일입니다.\n",
        "\n",
        "지난 몇 달간의 데이터를 사용해 다음 달의 평균 온도를 예측하는 문제는 쉬운 편입니다. 연간 데이터 주기성은 안정적이기 때문입니다. 하지만 하루 하루 데이터를 살펴보면 온도 변화는 매우 불안정합니다. 일자별 수준의 시계열 데이터를 예측할 수 있을까요? 직접 확인해 보겠습니다."
      ]
    },
    {
      "cell_type": "markdown",
      "metadata": {
        "id": "jKZA7gLzXygG"
      },
      "source": [
        "## Preparing the data\n",
        "\n",
        "이 문제의 정확한 정의는 다음과 같습니다. `lookback` 타임스텝(하나의 타임스텝은 10분입니다)만큼 이전으로 돌아가서 매 `steps` 타임스텝마다 샘플링합니다. 이 데이터를 바탕으로 `delay` 타임스텝 이후의 온도를 예측할 수 있을까요? 사용할 변수는 다음과 같습니다.\n",
        "\n",
        "* `lookback = 1440` : 10일 전 데이터로 돌아갑니다.\n",
        "* `steps = 6` : 한 시간마다 데이터 포인트 하나를 샘플링합니다.\n",
        "* `delay = 144` : 24시간이 지난 데이터가 타깃이 됩니다.\n",
        "\n",
        "시작하기 전에 두 가지 작업을 처리해야 합니다:\n",
        "\n",
        "* 신경망에 주입할 수 있는 형태로 데이터를 전처리합니다. 데이터가 이미 수치형이므로 추가적인 벡터화가 필요하지 않습니다. 하지만 데이터에 있는 각 시계열 특성의 범위가 서로 다릅니다(예를 들어 온도는 일반적으로 -20도에서 +30도 사이이고, 밀리바(mb)로 측정된 기압은 1,000 근처의 값입니다). 각 시계열 특성을 개별적으로 정규화하여 비슷한 범위를 가진 작은 값으로 바꾸겠습니다.\n",
        "* float_data 배열을 받아 과거 데이터의 배치와 미래 타깃 온도를 추출하는 파이썬 제너레이터를 만듭니다. 이 데이터셋에 있는 샘플은 중복이 많습니다(샘플 `N`과 샘플 `N + 1`은 대부분 타임스텝이 비슷합니다). 모든 샘플을 각기 메모리에 적재하는 것은 낭비가 심하므로 대신에 원본 데이터를 사용해 그때 그때 배치를 만들겠습니다.\n",
        "\n",
        "각 시계열 특성에 대해 평균을 빼고 표준 편차로 나누어 전처리합니다. 처음 200,000개 타임스텝을 훈련 데이터로 사용할 것이므로 전체 데이터에서 200,000개만 사용하여 평균과 표준 편차를 계산합니다:"
      ]
    },
    {
      "cell_type": "code",
      "metadata": {
        "id": "MpLUrqCEXygG"
      },
      "source": [
        "mean = float_data[:200000].mean(axis=0)\n",
        "float_data -= mean\n",
        "std = float_data[:200000].std(axis=0)\n",
        "float_data /= std"
      ],
      "execution_count": 10,
      "outputs": []
    },
    {
      "cell_type": "markdown",
      "metadata": {
        "id": "l6qvWvK4XygG"
      },
      "source": [
        "다음은 여기서 사용할 제너레이터입니다. 이 제너레이터 함수는 `(samples, targets)` 튜플을 반복적으로 반환합니다. `samples`는 입력 데이터로 사용할 배치이고 `targets`은 이에 대응되는 타깃 온도의 배열입니다. 이 제너레이터 함수는 다음과 같은 매개변수가 있습니다:\n",
        "\n",
        "* `data` : 코드 6-32에서 정규화한 부동 소수 데이터로 이루어진 원본 배열\n",
        "* `lookback` : 입력으로 사용하기 위해 거슬러 올라갈 타임스텝, 1440(10일)\n",
        "* `delay` : 타깃으로 사용할 미래의 타임스텝, 144(24시간)\n",
        "* `min_index`와 `max_index` : 추출할 타임스텝의 범위를 지정하기 위한 `data` 배열의 인덱스. 검증 데이터와 테스트 데이터를 분리하는 데 사용합니다.\n",
        "* `shuffle` : 샘플을 섞을지 시간 순서대로 추출할지 결정합니다.\n",
        "* `batch_size` : 배치의 샘플 수\n",
        "* `step` : 데이터를 샘플링할 타임스텝 간격. 한 시간에 하나의 데이터 포인트를 추출하기 위해 6으로 지정하겠습니다."
      ]
    },
    {
      "cell_type": "code",
      "metadata": {
        "id": "Td5MW2aMXygH"
      },
      "source": [
        "def generator(data, lookback, delay, min_index, max_index,\n",
        "              shuffle=False, batch_size=128, step=6):\n",
        "    if max_index is None:\n",
        "        max_index = len(data) - delay - 1 # =1은 len은 마지막 인덱스 번호 +1이 되기 때문이다.\n",
        "                                          # max_index가 없으면 맨 끝 데이터를 타겟으로 보고 max_index가 정해진다.\n",
        "    i = min_index + lookback #\n",
        "    while 1:\n",
        "        if shuffle:\n",
        "            rows = np.random.randint(\n",
        "                min_index + lookback, max_index, size=batch_size) # rows는 벡터다.\n",
        "        else:\n",
        "            if i + batch_size >= max_index: # 여기로 갈 일이 잇나...? 있지! i += len(rows)로 128개씩 계속 더해져!\n",
        "                i = min_index + lookback # 초과하면 다시 본래대로 돌려놓는 것이다.\n",
        "            rows = np.arange(i, min(i + batch_size, max_index)) # 랜덤으로 섞을 게 아니면 순서대로 나온다.\n",
        "            i += len(rows)\n",
        "\n",
        "        samples = np.zeros((len(rows), # 샘플 사이즈 128\n",
        "                           lookback // step, # 240이다.\n",
        "                           data.shape[-1])) # 피쳐 수, 14개\n",
        "        targets = np.zeros((len(rows),)) # 샘플 사이즈 128\n",
        "        for j, row in enumerate(rows):\n",
        "            indices = range(rows[j] - lookback, rows[j], step) # 1440만큼 거슬러 올라간 시간~rows원소를 1시간 스텝으로 총 240개의 인덱스들을 뽑음.\n",
        "            samples[j] = data[indices] # 뽑을 행의 모든 열이 다 포함된다.\n",
        "            targets[j] = data[rows[j] + delay][1] # [1]은 \"T (degC)\" 온도 컬럼을 말한다.\n",
        "        yield samples, targets"
      ],
      "execution_count": 31,
      "outputs": []
    },
    {
      "cell_type": "code",
      "metadata": {
        "id": "3Oi5L1mhmEwK"
      },
      "source": [
        "# 코드 분석1\n",
        "        samples = np.zeros((128, # 샘플 사이즈 128\n",
        "                           240, # 240이다.\n",
        "                           float_data.shape[-1]))"
      ],
      "execution_count": 42,
      "outputs": []
    },
    {
      "cell_type": "code",
      "metadata": {
        "id": "t0uwswBllrya"
      },
      "source": [
        "# 코드 분석1\n",
        "range(a[] - lookback, rows[j], step)"
      ],
      "execution_count": null,
      "outputs": []
    },
    {
      "cell_type": "code",
      "metadata": {
        "id": "XySIviLlmw16",
        "outputId": "1fb5361e-0d68-4108-ff47-33c9519ea838",
        "colab": {
          "base_uri": "https://localhost:8080/"
        }
      },
      "source": [
        "# 코드 분석1\n",
        "float_data.shape, float_data[range(160761, 162201, 6)].shape"
      ],
      "execution_count": 52,
      "outputs": [
        {
          "output_type": "execute_result",
          "data": {
            "text/plain": [
              "((420551, 14), (240, 14))"
            ]
          },
          "metadata": {},
          "execution_count": 52
        }
      ]
    },
    {
      "cell_type": "code",
      "metadata": {
        "id": "AmdnyIMZm_qj",
        "outputId": "26e3dd94-61c6-48b6-832c-8a406c1d598a",
        "colab": {
          "base_uri": "https://localhost:8080/"
        }
      },
      "source": [
        "# 코드 분석1\n",
        "float_data[1]"
      ],
      "execution_count": 54,
      "outputs": [
        {
          "output_type": "execute_result",
          "data": {
            "text/plain": [
              "array([ 0.9060434 , -1.97541381, -2.02567   , -1.91582958,  1.07883061,\n",
              "       -1.32042698, -1.4951961 , -0.80075238, -1.49502455, -1.49932141,\n",
              "        2.17199852, -0.93124017, -0.88794488, -0.46317443])"
            ]
          },
          "metadata": {},
          "execution_count": 54
        }
      ]
    },
    {
      "cell_type": "code",
      "metadata": {
        "id": "1DBGTouDljbT",
        "outputId": "5e158f39-b137-4286-a4dc-0e16163c5ab3",
        "colab": {
          "base_uri": "https://localhost:8080/"
        }
      },
      "source": [
        "# 코드 분석1\n",
        "for j, row in enumerate(a):\n",
        "  # print(j, row)\n",
        "  indices = range(a[j] - lookback, a[j], step) # 1440만큼 거슬러 올라간 시간~rows원소를 1시간 스텝으로 인덱스들을 뽑음.\n",
        "  print(indices)\n",
        "  samples[j] = float_data[indices]\n",
        "  # print(float_data[indices])"
      ],
      "execution_count": 49,
      "outputs": [
        {
          "output_type": "stream",
          "name": "stdout",
          "text": [
            "range(160761, 162201, 6)\n",
            "range(105498, 106938, 6)\n",
            "range(124338, 125778, 6)\n",
            "range(178940, 180380, 6)\n",
            "range(17862, 19302, 6)\n",
            "range(18240, 19680, 6)\n",
            "range(181865, 183305, 6)\n",
            "range(81350, 82790, 6)\n",
            "range(30372, 31812, 6)\n",
            "range(3935, 5375, 6)\n",
            "range(100777, 102217, 6)\n",
            "range(128806, 130246, 6)\n",
            "range(108803, 110243, 6)\n",
            "range(99754, 101194, 6)\n",
            "range(185134, 186574, 6)\n",
            "range(76924, 78364, 6)\n",
            "range(27740, 29180, 6)\n",
            "range(102131, 103571, 6)\n",
            "range(25928, 27368, 6)\n",
            "range(119907, 121347, 6)\n",
            "range(166388, 167828, 6)\n",
            "range(42649, 44089, 6)\n",
            "range(35242, 36682, 6)\n",
            "range(52123, 53563, 6)\n",
            "range(78534, 79974, 6)\n",
            "range(82441, 83881, 6)\n",
            "range(34242, 35682, 6)\n",
            "range(181440, 182880, 6)\n",
            "range(137084, 138524, 6)\n",
            "range(167703, 169143, 6)\n",
            "range(50991, 52431, 6)\n",
            "range(135095, 136535, 6)\n",
            "range(198215, 199655, 6)\n",
            "range(41600, 43040, 6)\n",
            "range(55352, 56792, 6)\n",
            "range(132870, 134310, 6)\n",
            "range(88016, 89456, 6)\n",
            "range(157763, 159203, 6)\n",
            "range(24039, 25479, 6)\n",
            "range(109800, 111240, 6)\n",
            "range(73489, 74929, 6)\n",
            "range(153187, 154627, 6)\n",
            "range(20523, 21963, 6)\n",
            "range(171000, 172440, 6)\n",
            "range(185679, 187119, 6)\n",
            "range(22517, 23957, 6)\n",
            "range(123033, 124473, 6)\n",
            "range(127745, 129185, 6)\n",
            "range(40046, 41486, 6)\n",
            "range(158638, 160078, 6)\n",
            "range(79891, 81331, 6)\n",
            "range(15985, 17425, 6)\n",
            "range(174609, 176049, 6)\n",
            "range(175170, 176610, 6)\n",
            "range(165454, 166894, 6)\n",
            "range(41726, 43166, 6)\n",
            "range(77858, 79298, 6)\n",
            "range(91602, 93042, 6)\n",
            "range(166501, 167941, 6)\n",
            "range(69657, 71097, 6)\n",
            "range(13610, 15050, 6)\n",
            "range(162539, 163979, 6)\n",
            "range(164240, 165680, 6)\n",
            "range(44994, 46434, 6)\n",
            "range(176287, 177727, 6)\n",
            "range(25011, 26451, 6)\n",
            "range(114007, 115447, 6)\n",
            "range(120524, 121964, 6)\n",
            "range(167939, 169379, 6)\n",
            "range(80998, 82438, 6)\n",
            "range(101877, 103317, 6)\n",
            "range(136728, 138168, 6)\n",
            "range(131810, 133250, 6)\n",
            "range(179741, 181181, 6)\n",
            "range(172780, 174220, 6)\n",
            "range(103941, 105381, 6)\n",
            "range(19278, 20718, 6)\n",
            "range(192688, 194128, 6)\n",
            "range(46676, 48116, 6)\n",
            "range(145485, 146925, 6)\n",
            "range(178374, 179814, 6)\n",
            "range(39125, 40565, 6)\n",
            "range(128236, 129676, 6)\n",
            "range(140191, 141631, 6)\n",
            "range(118808, 120248, 6)\n",
            "range(64639, 66079, 6)\n",
            "range(166010, 167450, 6)\n",
            "range(136268, 137708, 6)\n",
            "range(9319, 10759, 6)\n",
            "range(151073, 152513, 6)\n",
            "range(77117, 78557, 6)\n",
            "range(171578, 173018, 6)\n",
            "range(130626, 132066, 6)\n",
            "range(106111, 107551, 6)\n",
            "range(195769, 197209, 6)\n",
            "range(188326, 189766, 6)\n",
            "range(65581, 67021, 6)\n",
            "range(107916, 109356, 6)\n",
            "range(52386, 53826, 6)\n",
            "range(4715, 6155, 6)\n",
            "range(150058, 151498, 6)\n",
            "range(89829, 91269, 6)\n",
            "range(177983, 179423, 6)\n",
            "range(143105, 144545, 6)\n",
            "range(100845, 102285, 6)\n",
            "range(169111, 170551, 6)\n",
            "range(158191, 159631, 6)\n",
            "range(115764, 117204, 6)\n",
            "range(154334, 155774, 6)\n",
            "range(118842, 120282, 6)\n",
            "range(171196, 172636, 6)\n",
            "range(134806, 136246, 6)\n",
            "range(75427, 76867, 6)\n",
            "range(121047, 122487, 6)\n",
            "range(36356, 37796, 6)\n",
            "range(130973, 132413, 6)\n",
            "range(78050, 79490, 6)\n",
            "range(80153, 81593, 6)\n",
            "range(112945, 114385, 6)\n",
            "range(185613, 187053, 6)\n",
            "range(109683, 111123, 6)\n",
            "range(46121, 47561, 6)\n",
            "range(190099, 191539, 6)\n",
            "range(192724, 194164, 6)\n",
            "range(30276, 31716, 6)\n",
            "range(120009, 121449, 6)\n",
            "range(25230, 26670, 6)\n",
            "range(47333, 48773, 6)\n"
          ]
        }
      ]
    },
    {
      "cell_type": "code",
      "metadata": {
        "id": "0Kgm7QuImLUC",
        "outputId": "c5214f54-bacd-481b-cd06-6ec919f21ad8",
        "colab": {
          "base_uri": "https://localhost:8080/"
        }
      },
      "source": [
        "# 코드 분석1\n",
        "samples.shape"
      ],
      "execution_count": 45,
      "outputs": [
        {
          "output_type": "execute_result",
          "data": {
            "text/plain": [
              "(128, 240, 14)"
            ]
          },
          "metadata": {},
          "execution_count": 45
        }
      ]
    },
    {
      "cell_type": "code",
      "metadata": {
        "id": "ClwUL9OQNV8M",
        "outputId": "7db36f2f-b0b2-43ef-f4a5-fe6f3c8dc97c",
        "colab": {
          "base_uri": "https://localhost:8080/"
        }
      },
      "source": [
        "# 코드 분석1\n",
        "len(float_data) - delay - 1, float_data.shape"
      ],
      "execution_count": 23,
      "outputs": [
        {
          "output_type": "execute_result",
          "data": {
            "text/plain": [
              "(420406, (420551, 14))"
            ]
          },
          "metadata": {},
          "execution_count": 23
        }
      ]
    },
    {
      "cell_type": "code",
      "metadata": {
        "id": "QUKwfkZJPGbr",
        "outputId": "f6d1eef8-c51b-4e10-f7a6-4b7aa9f7e92a",
        "colab": {
          "base_uri": "https://localhost:8080/"
        }
      },
      "source": [
        "# # 코드 분석2\n",
        "a = np.random.randint(0 + 1440, 200000, size=128)\n",
        "a"
      ],
      "execution_count": 37,
      "outputs": [
        {
          "output_type": "execute_result",
          "data": {
            "text/plain": [
              "array([162201, 106938, 125778, 180380,  19302,  19680, 183305,  82790,\n",
              "        31812,   5375, 102217, 130246, 110243, 101194, 186574,  78364,\n",
              "        29180, 103571,  27368, 121347, 167828,  44089,  36682,  53563,\n",
              "        79974,  83881,  35682, 182880, 138524, 169143,  52431, 136535,\n",
              "       199655,  43040,  56792, 134310,  89456, 159203,  25479, 111240,\n",
              "        74929, 154627,  21963, 172440, 187119,  23957, 124473, 129185,\n",
              "        41486, 160078,  81331,  17425, 176049, 176610, 166894,  43166,\n",
              "        79298,  93042, 167941,  71097,  15050, 163979, 165680,  46434,\n",
              "       177727,  26451, 115447, 121964, 169379,  82438, 103317, 138168,\n",
              "       133250, 181181, 174220, 105381,  20718, 194128,  48116, 146925,\n",
              "       179814,  40565, 129676, 141631, 120248,  66079, 167450, 137708,\n",
              "        10759, 152513,  78557, 173018, 132066, 107551, 197209, 189766,\n",
              "        67021, 109356,  53826,   6155, 151498,  91269, 179423, 144545,\n",
              "       102285, 170551, 159631, 117204, 155774, 120282, 172636, 136246,\n",
              "        76867, 122487,  37796, 132413,  79490,  81593, 114385, 187053,\n",
              "       111123,  47561, 191539, 194164,  31716, 121449,  26670,  48773])"
            ]
          },
          "metadata": {},
          "execution_count": 37
        }
      ]
    },
    {
      "cell_type": "code",
      "metadata": {
        "id": "JfWJWborf9N-",
        "outputId": "1deaf546-0261-47c9-c06e-6fc301fc107b",
        "colab": {
          "base_uri": "https://localhost:8080/"
        }
      },
      "source": [
        "# # 코드 분석3\n",
        "np.arange(0 + 1440, min(0 + 1440 + 128, 200000))"
      ],
      "execution_count": 30,
      "outputs": [
        {
          "output_type": "execute_result",
          "data": {
            "text/plain": [
              "array([1440, 1441, 1442, 1443, 1444, 1445, 1446, 1447, 1448, 1449, 1450,\n",
              "       1451, 1452, 1453, 1454, 1455, 1456, 1457, 1458, 1459, 1460, 1461,\n",
              "       1462, 1463, 1464, 1465, 1466, 1467, 1468, 1469, 1470, 1471, 1472,\n",
              "       1473, 1474, 1475, 1476, 1477, 1478, 1479, 1480, 1481, 1482, 1483,\n",
              "       1484, 1485, 1486, 1487, 1488, 1489, 1490, 1491, 1492, 1493, 1494,\n",
              "       1495, 1496, 1497, 1498, 1499, 1500, 1501, 1502, 1503, 1504, 1505,\n",
              "       1506, 1507, 1508, 1509, 1510, 1511, 1512, 1513, 1514, 1515, 1516,\n",
              "       1517, 1518, 1519, 1520, 1521, 1522, 1523, 1524, 1525, 1526, 1527,\n",
              "       1528, 1529, 1530, 1531, 1532, 1533, 1534, 1535, 1536, 1537, 1538,\n",
              "       1539, 1540, 1541, 1542, 1543, 1544, 1545, 1546, 1547, 1548, 1549,\n",
              "       1550, 1551, 1552, 1553, 1554, 1555, 1556, 1557, 1558, 1559, 1560,\n",
              "       1561, 1562, 1563, 1564, 1565, 1566, 1567])"
            ]
          },
          "metadata": {},
          "execution_count": 30
        }
      ]
    },
    {
      "cell_type": "markdown",
      "metadata": {
        "id": "cDrWmTLeXygH"
      },
      "source": [
        "이제 generator 함수를 사용해 훈련용, 검증용, 테스트용으로 세 개의 제너레이터를 만들어 보죠. 각 제너레이터는 원본 데이터에서 다른 시간대를 사용합니다. 훈련 제너레이터는 처음 200,000개 타임스텝을 사용하고 검증 제너레이터는 그 다음 100,000개를 사용하고 테스트 제너레이터는 나머지를 사용합니다."
      ]
    },
    {
      "cell_type": "code",
      "metadata": {
        "id": "JvS8yUBXXygH"
      },
      "source": [
        "lookback = 1440\n",
        "step = 6\n",
        "delay = 144\n",
        "batch_size = 128\n",
        "\n",
        "train_gen = generator(float_data,\n",
        "                      lookback=lookback,\n",
        "                      delay=delay,\n",
        "                      min_index=0,\n",
        "                      max_index=200000,\n",
        "                      shuffle=True,\n",
        "                      step=step, \n",
        "                      batch_size=batch_size)\n",
        "val_gen = generator(float_data,\n",
        "                    lookback=lookback,\n",
        "                    delay=delay,\n",
        "                    min_index=200001,\n",
        "                    max_index=300000,\n",
        "                    step=step,\n",
        "                    batch_size=batch_size)\n",
        "test_gen = generator(float_data,\n",
        "                     lookback=lookback,\n",
        "                     delay=delay,\n",
        "                     min_index=300001,\n",
        "                     max_index=None,\n",
        "                     step=step,\n",
        "                     batch_size=batch_size)\n",
        "\n",
        "# 전체 검증 세트를 순회하기 위해 val_gen에서 추출할 횟수\n",
        "val_steps = (300000 - 200001 - lookback) // batch_size\n",
        "\n",
        "# 전체 테스트 세트를 순회하기 위해 test_gen에서 추출할 횟수\n",
        "test_steps = (len(float_data) - 300001 - lookback) // batch_size"
      ],
      "execution_count": 33,
      "outputs": []
    },
    {
      "cell_type": "markdown",
      "metadata": {
        "id": "hIV-wN5IXygH"
      },
      "source": [
        "## 상식 수준의 기준점\n",
        "\n",
        "블랙 박스 같은 딥러닝 모델을 사용해 온도 예측 문제를 풀기 전에 간단한 상식 수준의 해법을 시도해 보겠습니다. 이는 정상 여부 확인을 위한 용도이고 고수준 머신 러닝 모델이라면 뛰어 넘어야 할 기준점을 만듭니다. 이런 상식 수준의 해법은 알려진 해결책이 없는 새로운 문제를 다루어야 할 때 유용합니다. 일부 클래스가 월등히 많아 불균형한 분류 문제가 고전적인 예입니다. 데이터셋에 클래스 A의 샘플이 90%, 클래스 B의 샘플이 10%가 있다면, 이 분류 문제에 대한 상식 수준의 접근법은 새로운 샘플을 항상 클래스 'A'라고 예측하는 것입니다. 이 분류기는 전반적으로 90%의 정확도를 낼 것입니다. 머신 러닝 기반의 모델이라면 90% 이상을 달성해야 유용하다고 볼 수 있습니다. 이따금 이런 기본적인 기준점을 넘어서기가 아주 어려운 경우가 있습니다.\n",
        "\n",
        "이 경우 온도 시계열 데이터는 연속성이 있고 일자별로 주기성을 가진다고 가정할 수 있습니다(오늘 온도는 내일 온도와 비슷할 가능성이 높습니다). 그렇기 때문에 상식 수준의 해결책은 지금으로부터 24시간 후의 온도는 지금과 동일하다고 예측하는 것입니다. 이 방법을 평균 절댓값 오차(MAE)로 평가해 보겠습니다:"
      ]
    },
    {
      "cell_type": "markdown",
      "metadata": {
        "id": "Y65yEzaQXygI"
      },
      "source": [
        "```python\n",
        "np.mean(np.abs(preds - targets))\n",
        "```"
      ]
    },
    {
      "cell_type": "markdown",
      "metadata": {
        "id": "cjQWkqrcXygI"
      },
      "source": [
        "다음은 평가를 위한 반복 루프입니다:"
      ]
    },
    {
      "cell_type": "code",
      "metadata": {
        "colab": {
          "base_uri": "https://localhost:8080/"
        },
        "id": "IwWDTnskXygI",
        "outputId": "f6e4e2c7-52f3-4450-f03a-21204d96f077"
      },
      "source": [
        "def evaluate_naive_method():\n",
        "    batch_maes = []\n",
        "    for step in range(val_steps):\n",
        "        samples, targets = next(val_gen)\n",
        "        preds = samples[:, -1, 1] # samples=(128,240,140),(배치차원,10일의 데이터포인트, 피처수)\n",
        "                                  # 즉, 마지막 시간의 온도를 뽑아라...\n",
        "        mae = np.mean(np.abs(preds - targets)) # targets는 24시간 후의 온도\n",
        "        batch_maes.append(mae)\n",
        "    print(np.mean(batch_maes))\n",
        "    \n",
        "evaluate_naive_method()"
      ],
      "execution_count": 55,
      "outputs": [
        {
          "output_type": "stream",
          "name": "stdout",
          "text": [
            "0.2897359729905486\n"
          ]
        }
      ]
    },
    {
      "cell_type": "markdown",
      "metadata": {
        "id": "s2_8F42mk4Wi"
      },
      "source": [
        "next() 설명\n",
        "\n",
        "https://python.bakyeono.net/chapter-7-4.html\n",
        "\n",
        "![image.png](data:image/png;base64,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)"
      ]
    },
    {
      "cell_type": "code",
      "metadata": {
        "colab": {
          "base_uri": "https://localhost:8080/"
        },
        "id": "bDtk6IQEXygI",
        "outputId": "d3ae5b14-5b6a-477e-9ec7-cc580ba9f245"
      },
      "source": [
        "0.29 * std[1]\n",
        "# 위에서 계산한 std의 인덱스 1이 온도이다."
      ],
      "execution_count": 56,
      "outputs": [
        {
          "output_type": "execute_result",
          "data": {
            "text/plain": [
              "2.5672247338393395"
            ]
          },
          "metadata": {},
          "execution_count": 56
        }
      ]
    },
    {
      "cell_type": "markdown",
      "metadata": {
        "id": "ZiI-54htXygI"
      },
      "source": [
        "출력된 MAE는 0.29입니다. 이 온도 데이터는 평균이 0이고 표준 편차가 1이므로 결괏값이 바로 와 닿지는 않습니다. 평균 절댓값 오차 0.29에 표준 편차를 곱하면 섭씨 2.57°C가 됩니다. 평균 절댓값 오차가 상당히 크네요. 이제 딥러닝 모델이 더 나은지 시도해 봅시다."
      ]
    },
    {
      "cell_type": "markdown",
      "metadata": {
        "id": "hapru9zuXygI"
      },
      "source": [
        "## 기본적인 머신 러닝 방법\n",
        "\n",
        "머신 러닝 모델을 시도하기 전에 상식 수준의 기준점을 세워 놓았습니다. 비슷하게 RNN처럼 복잡하고 연산 비용이 많이 드는 모델을 시도하기 전에 간단하고 손쉽게 만들 수 있는 머신 러닝 모델(예를 들면 소규모의 완전 연결 네트워크)을 먼저 만드는 것이 좋습니다. 이를 바탕으로 더 복잡한 방법을 도입하는 근거가 마련되고 실제적인 이득도 얻게 될 것입니다.\n",
        "\n",
        "다음 코드는 데이터를 펼쳐서 두 개의 `Dense` 층을 통과시키는 완전 연결 네트워크를 보여줍니다. 전형적인 회귀 문제이므로 마지막 `Dense` 층에 활성화 함수를 두지 않았습니다. 손실 함수는 MAE입니다. 상식 수준의 방법에서 사용한 것과 동일한 데이터와 지표를 사용했으므로 결과를 바로 비교해볼 수 있습니다."
      ]
    },
    {
      "cell_type": "code",
      "metadata": {
        "colab": {
          "base_uri": "https://localhost:8080/"
        },
        "id": "nEKp0mpsXygI",
        "outputId": "17bded82-c842-494c-940d-f62f1672f219"
      },
      "source": [
        "from tensorflow.keras.models import Sequential\n",
        "from tensorflow.keras import layers\n",
        "from tensorflow.keras.optimizers import RMSprop\n",
        "\n",
        "model = Sequential()\n",
        "model.add(layers.Flatten(input_shape=(lookback // step, float_data.shape[-1])))\n",
        "model.add(layers.Dense(32, activation='relu'))\n",
        "model.add(layers.Dense(1))\n",
        "\n",
        "model.compile(optimizer=RMSprop(), loss='mae')\n",
        "history = model.fit_generator(train_gen,\n",
        "                              steps_per_epoch=500,\n",
        "                              epochs=20,\n",
        "                              validation_data=val_gen,\n",
        "                              validation_steps=val_steps)"
      ],
      "execution_count": 57,
      "outputs": [
        {
          "output_type": "stream",
          "name": "stderr",
          "text": [
            "/usr/local/lib/python3.7/dist-packages/keras/engine/training.py:1972: UserWarning: `Model.fit_generator` is deprecated and will be removed in a future version. Please use `Model.fit`, which supports generators.\n",
            "  warnings.warn('`Model.fit_generator` is deprecated and '\n"
          ]
        },
        {
          "output_type": "stream",
          "name": "stdout",
          "text": [
            "Epoch 1/20\n",
            "500/500 [==============================] - 14s 27ms/step - loss: 1.4358 - val_loss: 0.4590\n",
            "Epoch 2/20\n",
            "500/500 [==============================] - 14s 27ms/step - loss: 0.4765 - val_loss: 0.3270\n",
            "Epoch 3/20\n",
            "500/500 [==============================] - 14s 27ms/step - loss: 0.3073 - val_loss: 0.3293\n",
            "Epoch 4/20\n",
            "500/500 [==============================] - 17s 34ms/step - loss: 0.2753 - val_loss: 0.2960\n",
            "Epoch 5/20\n",
            "500/500 [==============================] - 14s 28ms/step - loss: 0.2606 - val_loss: 0.3149\n",
            "Epoch 6/20\n",
            "500/500 [==============================] - 14s 28ms/step - loss: 0.2509 - val_loss: 0.3142\n",
            "Epoch 7/20\n",
            "500/500 [==============================] - 14s 28ms/step - loss: 0.2425 - val_loss: 0.3275\n",
            "Epoch 8/20\n",
            "500/500 [==============================] - 14s 28ms/step - loss: 0.2370 - val_loss: 0.3262\n",
            "Epoch 9/20\n",
            "500/500 [==============================] - 17s 34ms/step - loss: 0.2307 - val_loss: 0.3568\n",
            "Epoch 10/20\n",
            "500/500 [==============================] - 17s 33ms/step - loss: 0.2259 - val_loss: 0.3288\n",
            "Epoch 11/20\n",
            "500/500 [==============================] - 13s 27ms/step - loss: 0.2220 - val_loss: 0.3170\n",
            "Epoch 12/20\n",
            "500/500 [==============================] - 13s 27ms/step - loss: 0.2185 - val_loss: 0.3268\n",
            "Epoch 13/20\n",
            "500/500 [==============================] - 13s 27ms/step - loss: 0.2153 - val_loss: 0.3534\n",
            "Epoch 14/20\n",
            "500/500 [==============================] - 17s 33ms/step - loss: 0.2140 - val_loss: 0.3373\n",
            "Epoch 15/20\n",
            "500/500 [==============================] - 14s 27ms/step - loss: 0.2097 - val_loss: 0.3570\n",
            "Epoch 16/20\n",
            "500/500 [==============================] - 14s 28ms/step - loss: 0.2080 - val_loss: 0.3328\n",
            "Epoch 17/20\n",
            "500/500 [==============================] - 17s 34ms/step - loss: 0.2055 - val_loss: 0.3517\n",
            "Epoch 18/20\n",
            "500/500 [==============================] - 17s 33ms/step - loss: 0.2041 - val_loss: 0.3350\n",
            "Epoch 19/20\n",
            "500/500 [==============================] - 14s 27ms/step - loss: 0.2030 - val_loss: 0.3488\n",
            "Epoch 20/20\n",
            "500/500 [==============================] - 14s 28ms/step - loss: 0.2016 - val_loss: 0.3351\n"
          ]
        }
      ]
    },
    {
      "cell_type": "markdown",
      "metadata": {
        "id": "qnrvu_-hXygJ"
      },
      "source": [
        "훈련 손실과 검증 손실의 그래프를 그려 보죠:"
      ]
    },
    {
      "cell_type": "code",
      "metadata": {
        "colab": {
          "base_uri": "https://localhost:8080/",
          "height": 281
        },
        "id": "osDgUps8XygJ",
        "outputId": "9cdeba2e-23a4-471f-904c-09bec31e4347"
      },
      "source": [
        "import matplotlib.pyplot as plt\n",
        "\n",
        "loss = history.history['loss']\n",
        "val_loss = history.history['val_loss']\n",
        "\n",
        "epochs = range(1, len(loss) + 1)\n",
        "\n",
        "plt.figure()\n",
        "\n",
        "plt.plot(epochs, loss, 'bo', label='Training loss')\n",
        "plt.plot(epochs, val_loss, 'b', label='Validation loss')\n",
        "plt.title('Training and validation loss')\n",
        "plt.legend()\n",
        "\n",
        "plt.show()"
      ],
      "execution_count": 58,
      "outputs": [
        {
          "output_type": "display_data",
          "data": {
            "image/png": "[encoded data removed]",
            "text/plain": [
              "<Figure size 432x288 with 1 Axes>"
            ]
          },
          "metadata": {
            "needs_background": "light"
          }
        }
      ]
    },
    {
      "cell_type": "markdown",
      "metadata": {
        "id": "hPA55e4uXygJ"
      },
      "source": [
        "일부 검증 손실은 학습을 사용하지 않은 기준점에 가깝지만 안정적이지 못합니다. 앞서 기준 모델을 만든 것이 도움이 됩니다. 이 문제는 기준 모델의 성능을 앞지르기가 쉽지 않습니다. 우리가 적용한 상식에는 머신 러닝 모델이 찾지 못한 핵심 정보가 많이 포함되어 있습니다.\n",
        "\n",
        "간단하고 괜찮은 성능을 내는 모델(상식 수준의 기준 모델)이 데이터와 타깃을 매핑할 수 있다면 왜 훈련한 모델은 이를 찾지 못하고 성능이 낮을까요? 훈련 과정이 찾는 것은 간단한 이 모델이 아니기 때문입니다. 문제 해결을 위해 탐색하는 모델의 공간, 즉 가설 공간은 우리가 매개변수로 설정한 두 개 층을 가진 네트워크의 모든 가능한 가중치의 조합입니다. 이 네트워크는 이미 매우 복잡합니다. 복잡한 모델 공간에서 해결책을 탐색할 때 간단하고 괜찮은 성능을 내는 모델은 찾지 못할 수 있습니다. 심지어 기술적으로 봤을 때 이 가설 공간에 포함되어 있을 때 조차도 말이죠. 이것이 일반적으로 머신 러닝이 가진 심각한 제약 사항입니다. 학습 알고리즘이 특정한 종류의 간단한 모델을 찾도록 하드코딩되지 않았다면, 모델 파라미터를 학습하는 방법은 간단한 문제를 위한 간단한 해결책을 찾지 못할 수 있습니다."
      ]
    },
    {
      "cell_type": "markdown",
      "metadata": {
        "id": "Nh9IaQSZXygJ"
      },
      "source": [
        "## 첫 번째 순환 신경망\n",
        "\n",
        "첫 번째 완전 연결 네트워크는 잘 작동하지 않았습니다. 그렇다고 이 문제에 머신 러닝이 적합하지 않다는 뜻은 아닙니다. 앞선 모델은 시계열 데이터를 펼쳤기 때문에 입력 데이터에서 시간 개념을 잃어버렸습니다. 대신 인과 관계와 순서가 의미가 있는 시퀀스 데이터 그대로 사용해 보겠습니다. 이런 시퀀스 데이터에 아주 잘 들어맞는 순환 시퀀스 처리 모델을 시도해 보겠습니다. 이 모델은 앞선 모델과 달리 데이터 포인터의 시간 순서를 사용합니다.\n",
        "\n",
        "이전 절에서 소개한 `LSTM` 층 대신에 2014년에 정준영 등이 개발한 `GRU` 층을 사용하겠습니다. GRU 층은 LSTM과 같은 원리로 작동하지만 조금 더 간결하고 그래서 계산 비용이 덜 듭니다(LSTM 만큼 표현 학습 능력이 높지는 않을 수 있습니다). 계산 비용과 표현 학습 능력 사이의 트레이드오프(trade-off)는 머신 러닝 어디에서나 등장합니다."
      ]
    },
    {
      "cell_type": "code",
      "metadata": {
        "colab": {
          "base_uri": "https://localhost:8080/"
        },
        "id": "BmGI0XstXygJ",
        "outputId": "191985ff-8701-4bb9-9040-78693ad02f05"
      },
      "source": [
        "from tensorflow.keras.models import Sequential\n",
        "from tensorflow.keras import layers\n",
        "from tensorflow.keras.optimizers import RMSprop\n",
        "\n",
        "model = Sequential()\n",
        "model.add(layers.GRU(32, input_shape=(None, float_data.shape[-1])))\n",
        "model.add(layers.Dense(1))\n",
        "\n",
        "model.compile(optimizer=RMSprop(), loss='mae')\n",
        "history = model.fit_generator(train_gen,\n",
        "                              steps_per_epoch=500,\n",
        "                              epochs=20,\n",
        "                              validation_data=val_gen,\n",
        "                              validation_steps=val_steps)"
      ],
      "execution_count": 59,
      "outputs": [
        {
          "output_type": "stream",
          "name": "stderr",
          "text": [
            "/usr/local/lib/python3.7/dist-packages/keras/engine/training.py:1972: UserWarning: `Model.fit_generator` is deprecated and will be removed in a future version. Please use `Model.fit`, which supports generators.\n",
            "  warnings.warn('`Model.fit_generator` is deprecated and '\n"
          ]
        },
        {
          "output_type": "stream",
          "name": "stdout",
          "text": [
            "Epoch 1/20\n",
            "500/500 [==============================] - 36s 65ms/step - loss: 0.3078 - val_loss: 0.2715\n",
            "Epoch 2/20\n",
            "500/500 [==============================] - 32s 64ms/step - loss: 0.2841 - val_loss: 0.2647\n",
            "Epoch 3/20\n",
            "500/500 [==============================] - 32s 64ms/step - loss: 0.2788 - val_loss: 0.2676\n",
            "Epoch 4/20\n",
            "500/500 [==============================] - 32s 64ms/step - loss: 0.2746 - val_loss: 0.2638\n",
            "Epoch 5/20\n",
            "500/500 [==============================] - 33s 65ms/step - loss: 0.2693 - val_loss: 0.2662\n",
            "Epoch 6/20\n",
            "500/500 [==============================] - 32s 65ms/step - loss: 0.2649 - val_loss: 0.2659\n",
            "Epoch 7/20\n",
            "500/500 [==============================] - 33s 65ms/step - loss: 0.2572 - val_loss: 0.2731\n",
            "Epoch 8/20\n",
            "500/500 [==============================] - 32s 65ms/step - loss: 0.2534 - val_loss: 0.2738\n",
            "Epoch 9/20\n",
            "500/500 [==============================] - 32s 65ms/step - loss: 0.2513 - val_loss: 0.2789\n",
            "Epoch 10/20\n",
            "500/500 [==============================] - 32s 65ms/step - loss: 0.2445 - val_loss: 0.2831\n",
            "Epoch 11/20\n",
            "500/500 [==============================] - 32s 64ms/step - loss: 0.2413 - val_loss: 0.2768\n",
            "Epoch 12/20\n",
            "500/500 [==============================] - 32s 64ms/step - loss: 0.2399 - val_loss: 0.2753\n",
            "Epoch 13/20\n",
            "500/500 [==============================] - 32s 65ms/step - loss: 0.2344 - val_loss: 0.2805\n",
            "Epoch 14/20\n",
            "500/500 [==============================] - 33s 65ms/step - loss: 0.2313 - val_loss: 0.2800\n",
            "Epoch 15/20\n",
            "500/500 [==============================] - 32s 65ms/step - loss: 0.2277 - val_loss: 0.2830\n",
            "Epoch 16/20\n",
            "500/500 [==============================] - 33s 65ms/step - loss: 0.2234 - val_loss: 0.2874\n",
            "Epoch 17/20\n",
            "500/500 [==============================] - 33s 65ms/step - loss: 0.2201 - val_loss: 0.2914\n",
            "Epoch 18/20\n",
            "500/500 [==============================] - 32s 64ms/step - loss: 0.2171 - val_loss: 0.2870\n",
            "Epoch 19/20\n",
            "500/500 [==============================] - 32s 64ms/step - loss: 0.2141 - val_loss: 0.2880\n",
            "Epoch 20/20\n",
            "500/500 [==============================] - 32s 64ms/step - loss: 0.2106 - val_loss: 0.2931\n"
          ]
        }
      ]
    },
    {
      "cell_type": "markdown",
      "metadata": {
        "id": "KwfAQ3VZXygK"
      },
      "source": [
        "결과를 확인해 보죠:"
      ]
    },
    {
      "cell_type": "code",
      "metadata": {
        "colab": {
          "base_uri": "https://localhost:8080/",
          "height": 281
        },
        "id": "Q2xuPGxVXygK",
        "outputId": "ec397c5f-b644-498c-d42a-ec568e84c5f2"
      },
      "source": [
        "loss = history.history['loss']\n",
        "val_loss = history.history['val_loss']\n",
        "\n",
        "epochs = range(1, len(loss) + 1)\n",
        "\n",
        "plt.figure()\n",
        "\n",
        "plt.plot(epochs, loss, 'bo', label='Training loss')\n",
        "plt.plot(epochs, val_loss, 'b', label='Validation loss')\n",
        "plt.title('Training and validation loss')\n",
        "plt.legend()\n",
        "\n",
        "plt.show()"
      ],
      "execution_count": 60,
      "outputs": [
        {
          "output_type": "display_data",
          "data": {
            "image/png": "[encoded data removed]",
            "text/plain": [
              "<Figure size 432x288 with 1 Axes>"
            ]
          },
          "metadata": {
            "needs_background": "light"
          }
        }
      ]
    },
    {
      "cell_type": "markdown",
      "metadata": {
        "id": "7nOVRX6gXygK"
      },
      "source": [
        "훨씬 좋군요! 상식 수준의 모델을 크게 앞질렀습니다. 이 그림은 시퀀스를 펼쳐서 처리하는 완전 연결 네트워크에 비해서 순환 네트워크가 이런 종류의 작업에 훨씬 뛰어나다는 것과 머신 러닝의 가치를 보여줍니다.\n",
        "\n",
        "새로운 검증 MAE는 0.265 이하(크게 과대적합되기 시작하는 곳)이고 정규화되기 전인 섭씨로 복원하면 MAE는 2.35°C입니다. 초기 에러 2.57°C보다는 확실히 낫지만 더 개선할 수 있을 것 같습니다."
      ]
    },
    {
      "cell_type": "markdown",
      "metadata": {
        "id": "L3Ui01ZyXygK"
      },
      "source": [
        "## 과대적합을 감소하기 위해 순환 드롭아웃 사용하기\n",
        "\n",
        "훈련 손실과 검증 손실 곡선을 보면 모델이 과대적합인지 알 수 있습니다. 몇 번의 에포크 이후에 훈련 손실과 검증 손실이 현저하게 벌어지기 시작합니다. 이런 현상을 해결하기 위해 잘 알려진 드롭아웃 기법을 이미 보았습니다. 훈련 데이터를 층에 주입할 때 데이터에 있는 우연한 상관 관계를 깨뜨리기 위해 입력 층의 유닛을 랜덤하게 끄는 기법입니다. 순환 신경망에 드롭아웃을 올바르게 적용하는 방법은 간단하지 않습니다. 순환 층 이전에 드롭아웃을 적용하면 규제에 도움이 되는 것보다 학습에 더 방해되는 것으로 오랫동안 알려졌습니다. 2015년 야린 갈이 베이지안 딥러닝에 관한 박사 논문에서 순환 네트워크에 적절하게 드롭아웃을 사용하는 방법을 알아 내었습니다. 타임스텝마다 랜덤하게 드롭아웃 마스크를 바꾸는 것이 아니라 동일한 드롭아웃 마스크(동일한 유닛의 드롭 패턴)를 모든 타임스텝에 적용해야 합니다. GRU이나 LSTM 같은 순환 게이트에 의해 만들어지는 표현을 규제하려면 순환 층 내부 계산에 사용된 활성화 함수에 타임스텝마다 동일한 드롭아웃 마스크를 적용해야 합니다(순환 드롭 아웃 마스크). 모든 타임스텝에 동일한 드롭아웃 마스크를 적용하면 네트워크가 학습 오차를 타임스템에 걸쳐 적절하게 전파시킬 것입니다. 타임스텝마다 랜덤한 드롭아웃 마스크를 적용하면 오차 신호가 전파되는 것을 방해하고 학습 과정에 해를 끼칩니다.\n",
        "\n",
        "야린 갈은 케라스를 사용해 연구를 하였고 케라스 순환 층에 이 기능을 구현하는 데 도움을 주었습니다. 케라스에 있는 모든 순환 층은 두 개의 드롭아웃 매개변수를 가지고 있습니다. `dropout`은 층의 입력에 대한 드롭아웃 비율을 정하는 부동 소수 값입니다. `recurrent_dropout`은 순환 상태의 드롭아웃 비율을 정합니다. GRU 층에 드롭아웃과 순환 드롭아웃을 적용해 과대적합에 어떤 영향을 미치는지 살펴보겠습니다. 드롭아웃으로 규제된 네트워크는 언제나 완전히 수렴하는 데 더 오래 걸립니다. 에포크를 두 배 더 늘려 네트워크를 훈련하겠습니다."
      ]
    },
    {
      "cell_type": "code",
      "metadata": {
        "colab": {
          "base_uri": "https://localhost:8080/"
        },
        "id": "1NgkTGDLXygK",
        "outputId": "325253ba-d73d-4f35-8760-03526de4bfc8"
      },
      "source": [
        "from tensorflow.keras.models import Sequential\n",
        "from tensorflow.keras import layers\n",
        "from tensorflow.keras.optimizers import RMSprop\n",
        "\n",
        "model = Sequential()\n",
        "model.add(layers.GRU(32,\n",
        "                     #dropout=0.2,    # cuDNN을 사용할 수 없기 때문에\n",
        "                     #recurrent_dropout=0.2,\n",
        "                     input_shape=(None, float_data.shape[-1])))\n",
        "model.add(layers.Dense(1))\n",
        "\n",
        "model.compile(optimizer=RMSprop(), loss='mae')\n",
        "history = model.fit_generator(train_gen,\n",
        "                              steps_per_epoch=500,\n",
        "                              epochs=40,\n",
        "                              validation_data=val_gen,\n",
        "                              validation_steps=val_steps)"
      ],
      "execution_count": 61,
      "outputs": [
        {
          "output_type": "stream",
          "name": "stderr",
          "text": [
            "/usr/local/lib/python3.7/dist-packages/keras/engine/training.py:1972: UserWarning: `Model.fit_generator` is deprecated and will be removed in a future version. Please use `Model.fit`, which supports generators.\n",
            "  warnings.warn('`Model.fit_generator` is deprecated and '\n"
          ]
        },
        {
          "output_type": "stream",
          "name": "stdout",
          "text": [
            "Epoch 1/40\n",
            "500/500 [==============================] - 34s 65ms/step - loss: 0.3053 - val_loss: 0.2708\n",
            "Epoch 2/40\n",
            "500/500 [==============================] - 32s 65ms/step - loss: 0.2848 - val_loss: 0.2736\n",
            "Epoch 3/40\n",
            "500/500 [==============================] - 33s 65ms/step - loss: 0.2764 - val_loss: 0.2648\n",
            "Epoch 4/40\n",
            "500/500 [==============================] - 32s 65ms/step - loss: 0.2724 - val_loss: 0.2703\n",
            "Epoch 5/40\n",
            "500/500 [==============================] - 32s 64ms/step - loss: 0.2671 - val_loss: 0.2608\n",
            "Epoch 6/40\n",
            "500/500 [==============================] - 32s 64ms/step - loss: 0.2624 - val_loss: 0.2674\n",
            "Epoch 7/40\n",
            "500/500 [==============================] - 32s 64ms/step - loss: 0.2580 - val_loss: 0.2665\n",
            "Epoch 8/40\n",
            "500/500 [==============================] - 32s 64ms/step - loss: 0.2542 - val_loss: 0.2686\n",
            "Epoch 9/40\n",
            "500/500 [==============================] - 32s 64ms/step - loss: 0.2494 - val_loss: 0.2705\n",
            "Epoch 10/40\n",
            "500/500 [==============================] - 32s 64ms/step - loss: 0.2442 - val_loss: 0.2772\n",
            "Epoch 11/40\n",
            "500/500 [==============================] - 32s 64ms/step - loss: 0.2388 - val_loss: 0.2806\n",
            "Epoch 12/40\n",
            "500/500 [==============================] - 32s 64ms/step - loss: 0.2338 - val_loss: 0.2859\n",
            "Epoch 13/40\n",
            "500/500 [==============================] - 32s 64ms/step - loss: 0.2304 - val_loss: 0.2842\n",
            "Epoch 14/40\n",
            "500/500 [==============================] - 32s 64ms/step - loss: 0.2263 - val_loss: 0.2910\n",
            "Epoch 15/40\n",
            "500/500 [==============================] - 32s 64ms/step - loss: 0.2217 - val_loss: 0.2910\n",
            "Epoch 16/40\n",
            "500/500 [==============================] - 32s 64ms/step - loss: 0.2186 - val_loss: 0.2979\n",
            "Epoch 17/40\n",
            "500/500 [==============================] - 32s 64ms/step - loss: 0.2165 - val_loss: 0.2887\n",
            "Epoch 18/40\n",
            "500/500 [==============================] - 32s 64ms/step - loss: 0.2113 - val_loss: 0.2976\n",
            "Epoch 19/40\n",
            "500/500 [==============================] - 32s 64ms/step - loss: 0.2080 - val_loss: 0.2986\n",
            "Epoch 20/40\n",
            "500/500 [==============================] - 32s 65ms/step - loss: 0.2037 - val_loss: 0.3042\n",
            "Epoch 21/40\n",
            "500/500 [==============================] - 32s 65ms/step - loss: 0.2024 - val_loss: 0.3039\n",
            "Epoch 22/40\n",
            "500/500 [==============================] - 32s 65ms/step - loss: 0.1976 - val_loss: 0.3051\n",
            "Epoch 23/40\n",
            "500/500 [==============================] - 32s 65ms/step - loss: 0.1961 - val_loss: 0.3171\n",
            "Epoch 24/40\n",
            "500/500 [==============================] - 32s 64ms/step - loss: 0.1923 - val_loss: 0.3136\n",
            "Epoch 25/40\n",
            "500/500 [==============================] - 32s 65ms/step - loss: 0.1904 - val_loss: 0.3178\n",
            "Epoch 26/40\n",
            "500/500 [==============================] - 32s 65ms/step - loss: 0.1886 - val_loss: 0.3137\n",
            "Epoch 27/40\n",
            "500/500 [==============================] - 32s 65ms/step - loss: 0.1858 - val_loss: 0.3198\n",
            "Epoch 28/40\n",
            "500/500 [==============================] - 32s 64ms/step - loss: 0.1831 - val_loss: 0.3173\n",
            "Epoch 29/40\n",
            "500/500 [==============================] - 32s 65ms/step - loss: 0.1833 - val_loss: 0.3213\n",
            "Epoch 30/40\n",
            "500/500 [==============================] - 32s 64ms/step - loss: 0.1813 - val_loss: 0.3223\n",
            "Epoch 31/40\n",
            "500/500 [==============================] - 32s 65ms/step - loss: 0.1785 - val_loss: 0.3313\n",
            "Epoch 32/40\n",
            "500/500 [==============================] - 32s 65ms/step - loss: 0.1766 - val_loss: 0.3193\n",
            "Epoch 33/40\n",
            "500/500 [==============================] - 32s 65ms/step - loss: 0.1748 - val_loss: 0.3242\n",
            "Epoch 34/40\n",
            "500/500 [==============================] - 32s 65ms/step - loss: 0.1742 - val_loss: 0.3238\n",
            "Epoch 35/40\n",
            "500/500 [==============================] - 32s 65ms/step - loss: 0.1734 - val_loss: 0.3188\n",
            "Epoch 36/40\n",
            "500/500 [==============================] - 32s 64ms/step - loss: 0.1711 - val_loss: 0.3253\n",
            "Epoch 37/40\n",
            "500/500 [==============================] - 32s 64ms/step - loss: 0.1697 - val_loss: 0.3278\n",
            "Epoch 38/40\n",
            "500/500 [==============================] - 32s 64ms/step - loss: 0.1695 - val_loss: 0.3269\n",
            "Epoch 39/40\n",
            "500/500 [==============================] - 33s 66ms/step - loss: 0.1679 - val_loss: 0.3278\n",
            "Epoch 40/40\n",
            "500/500 [==============================] - 32s 64ms/step - loss: 0.1655 - val_loss: 0.3273\n"
          ]
        }
      ]
    },
    {
      "cell_type": "code",
      "metadata": {
        "colab": {
          "base_uri": "https://localhost:8080/",
          "height": 281
        },
        "id": "BKpJi3D1XygL",
        "outputId": "0f0d3425-170f-4f0e-d147-eb720f12c192"
      },
      "source": [
        "loss = history.history['loss']\n",
        "val_loss = history.history['val_loss']\n",
        "\n",
        "epochs = range(1, len(loss) + 1)\n",
        "\n",
        "plt.figure()\n",
        "\n",
        "plt.plot(epochs, loss, 'bo', label='Training loss')\n",
        "plt.plot(epochs, val_loss, 'b', label='Validation loss')\n",
        "plt.title('Training and validation loss')\n",
        "plt.legend()\n",
        "\n",
        "plt.show()"
      ],
      "execution_count": 62,
      "outputs": [
        {
          "output_type": "display_data",
          "data": {
            "image/png": "[encoded data removed]",
            "text/plain": [
              "<Figure size 432x288 with 1 Axes>"
            ]
          },
          "metadata": {
            "needs_background": "light"
          }
        }
      ]
    },
    {
      "cell_type": "markdown",
      "metadata": {
        "id": "cTLdgBumXygL"
      },
      "source": [
        "성공이네요! 30번째 에포크까지 과대적합이 일어나지 않았습니다. 평가 점수는 안정적이지만 이전보다 더 나아지진 않았습니다."
      ]
    },
    {
      "cell_type": "markdown",
      "metadata": {
        "id": "Vjl27f62XygL"
      },
      "source": [
        "## 스태킹 순환 층\n",
        "\n",
        "과대적합은 더 이상 없지만 성능상의 병목이 있는 것 같으므로 네트워크의 용량을 늘려야 합니다. 일반적인 머신 러닝 작업 흐름을 기억하세요. (드롭아웃 등을 사용하여 과대적합을 줄이는 기본 단계를 거쳤다고 가정하고) 과대적합이 일어날 때까지 네트워크의 용량을 늘리는 것이 좋습니다. 너무 많이 과대적합되지 않는 한 아직 충분한 용량에 도달한 것이 아닙니다.\n",
        "\n",
        "네트워크의 용량을 늘리려면 일반적으로 층에 있는 유닛의 수를 늘리거나 층을 더 많이 추가합니다. 순환 층 스태킹은 더 강력한 순환 네트워크를 만드는 고전적인 방법입니다. 예를 들어 구글 번역 알고리즘의 현재 성능은 7개의 대규모 LSTM 층을 쌓은 대규모 모델에서 나온 것입니다.\n",
        "\n",
        "케라스에서 순환 층을 차례대로 쌓으려면 모든 중간 층은 마지막 타임스텝 출력만이 아니고 전체 시퀀스(3D 텐서)를 출력해야 합니다. `return_sequences=True`로 지정하면 됩니다: "
      ]
    },
    {
      "cell_type": "code",
      "metadata": {
        "colab": {
          "base_uri": "https://localhost:8080/"
        },
        "id": "ShXKsjImXygL",
        "outputId": "9e648151-4c2f-4aa2-91a8-b5d62696bb02"
      },
      "source": [
        "from tensorflow.keras.models import Sequential\n",
        "from tensorflow.keras import layers\n",
        "from tensorflow.keras.optimizers import RMSprop\n",
        "\n",
        "model = Sequential()\n",
        "model.add(layers.GRU(32,\n",
        "                     #dropout=0.1,  # cuDNN을 사용할 수 없기 때문에\n",
        "                     #recurrent_dropout=0.5,\n",
        "                     return_sequences=True,\n",
        "                     input_shape=(None, float_data.shape[-1])))\n",
        "model.add(layers.GRU(64,\n",
        "                     #activation='relu',  # cuDNN을 사용할 수 없기 때문에\n",
        "                     #dropout=0.1,\n",
        "                     #recurrent_dropout=0.5\n",
        "                    ))\n",
        "model.add(layers.Dense(1))\n",
        "\n",
        "model.compile(optimizer=RMSprop(), loss='mae')\n",
        "history = model.fit_generator(train_gen,\n",
        "                              steps_per_epoch=500,\n",
        "                              epochs=40,\n",
        "                              validation_data=val_gen,\n",
        "                              validation_steps=val_steps)"
      ],
      "execution_count": 63,
      "outputs": [
        {
          "output_type": "stream",
          "name": "stderr",
          "text": [
            "/usr/local/lib/python3.7/dist-packages/keras/engine/training.py:1972: UserWarning: `Model.fit_generator` is deprecated and will be removed in a future version. Please use `Model.fit`, which supports generators.\n",
            "  warnings.warn('`Model.fit_generator` is deprecated and '\n"
          ]
        },
        {
          "output_type": "stream",
          "name": "stdout",
          "text": [
            "Epoch 1/40\n",
            "500/500 [==============================] - 75s 143ms/step - loss: 0.3049 - val_loss: 0.2681\n",
            "Epoch 2/40\n",
            "500/500 [==============================] - 70s 141ms/step - loss: 0.2810 - val_loss: 0.2626\n",
            "Epoch 3/40\n",
            "500/500 [==============================] - 71s 141ms/step - loss: 0.2717 - val_loss: 0.2673\n",
            "Epoch 4/40\n",
            "500/500 [==============================] - 71s 141ms/step - loss: 0.2620 - val_loss: 0.2670\n",
            "Epoch 5/40\n",
            "500/500 [==============================] - 70s 140ms/step - loss: 0.2503 - val_loss: 0.2768\n",
            "Epoch 6/40\n",
            "500/500 [==============================] - 71s 142ms/step - loss: 0.2391 - val_loss: 0.2691\n",
            "Epoch 7/40\n",
            "500/500 [==============================] - 71s 142ms/step - loss: 0.2248 - val_loss: 0.2895\n",
            "Epoch 8/40\n",
            "500/500 [==============================] - 71s 142ms/step - loss: 0.2113 - val_loss: 0.2943\n",
            "Epoch 9/40\n",
            "500/500 [==============================] - 70s 139ms/step - loss: 0.1971 - val_loss: 0.2965\n",
            "Epoch 10/40\n",
            "500/500 [==============================] - 70s 141ms/step - loss: 0.1869 - val_loss: 0.3096\n",
            "Epoch 11/40\n",
            "500/500 [==============================] - 70s 140ms/step - loss: 0.1783 - val_loss: 0.3045\n",
            "Epoch 12/40\n",
            "500/500 [==============================] - 71s 142ms/step - loss: 0.1682 - val_loss: 0.3106\n",
            "Epoch 13/40\n",
            "500/500 [==============================] - 71s 142ms/step - loss: 0.1619 - val_loss: 0.3145\n",
            "Epoch 14/40\n",
            "500/500 [==============================] - 71s 142ms/step - loss: 0.1564 - val_loss: 0.3161\n",
            "Epoch 15/40\n",
            "500/500 [==============================] - 71s 141ms/step - loss: 0.1486 - val_loss: 0.3169\n",
            "Epoch 16/40\n",
            "500/500 [==============================] - 71s 142ms/step - loss: 0.1448 - val_loss: 0.3225\n",
            "Epoch 17/40\n",
            "500/500 [==============================] - 71s 142ms/step - loss: 0.1398 - val_loss: 0.3166\n",
            "Epoch 18/40\n",
            "500/500 [==============================] - 70s 140ms/step - loss: 0.1349 - val_loss: 0.3237\n",
            "Epoch 19/40\n",
            "500/500 [==============================] - 71s 142ms/step - loss: 0.1299 - val_loss: 0.3205\n",
            "Epoch 20/40\n",
            "500/500 [==============================] - 71s 141ms/step - loss: 0.1280 - val_loss: 0.3227\n",
            "Epoch 21/40\n",
            "500/500 [==============================] - 71s 141ms/step - loss: 0.1240 - val_loss: 0.3244\n",
            "Epoch 22/40\n",
            "500/500 [==============================] - 71s 141ms/step - loss: 0.1210 - val_loss: 0.3242\n",
            "Epoch 23/40\n",
            "500/500 [==============================] - 72s 144ms/step - loss: 0.1180 - val_loss: 0.3306\n",
            "Epoch 24/40\n",
            "500/500 [==============================] - 72s 144ms/step - loss: 0.1150 - val_loss: 0.3400\n",
            "Epoch 25/40\n",
            "500/500 [==============================] - 71s 142ms/step - loss: 0.1128 - val_loss: 0.3311\n",
            "Epoch 26/40\n",
            "500/500 [==============================] - 71s 143ms/step - loss: 0.1111 - val_loss: 0.3353\n",
            "Epoch 27/40\n",
            "500/500 [==============================] - 72s 143ms/step - loss: 0.1084 - val_loss: 0.3399\n",
            "Epoch 28/40\n",
            "500/500 [==============================] - 72s 144ms/step - loss: 0.1065 - val_loss: 0.3343\n",
            "Epoch 29/40\n",
            "500/500 [==============================] - 72s 143ms/step - loss: 0.1045 - val_loss: 0.3350\n",
            "Epoch 30/40\n",
            "500/500 [==============================] - 72s 144ms/step - loss: 0.1031 - val_loss: 0.3317\n",
            "Epoch 31/40\n",
            "500/500 [==============================] - 72s 144ms/step - loss: 0.1013 - val_loss: 0.3304\n",
            "Epoch 32/40\n",
            "500/500 [==============================] - 72s 145ms/step - loss: 0.0998 - val_loss: 0.3346\n",
            "Epoch 33/40\n",
            "500/500 [==============================] - 72s 144ms/step - loss: 0.0989 - val_loss: 0.3371\n",
            "Epoch 34/40\n",
            "500/500 [==============================] - 72s 144ms/step - loss: 0.0973 - val_loss: 0.3296\n",
            "Epoch 35/40\n",
            "500/500 [==============================] - 72s 145ms/step - loss: 0.0958 - val_loss: 0.3321\n",
            "Epoch 36/40\n",
            "500/500 [==============================] - 72s 144ms/step - loss: 0.0949 - val_loss: 0.3355\n",
            "Epoch 37/40\n",
            "500/500 [==============================] - 72s 143ms/step - loss: 0.0940 - val_loss: 0.3372\n",
            "Epoch 38/40\n",
            "500/500 [==============================] - 72s 144ms/step - loss: 0.0926 - val_loss: 0.3334\n",
            "Epoch 39/40\n",
            "500/500 [==============================] - 72s 144ms/step - loss: 0.0919 - val_loss: 0.3327\n",
            "Epoch 40/40\n",
            "500/500 [==============================] - 72s 145ms/step - loss: 0.0908 - val_loss: 0.3385\n"
          ]
        }
      ]
    },
    {
      "cell_type": "markdown",
      "metadata": {
        "id": "Glm8QR0QXygL"
      },
      "source": [
        "결과를 확인해 보죠:"
      ]
    },
    {
      "cell_type": "code",
      "metadata": {
        "colab": {
          "base_uri": "https://localhost:8080/",
          "height": 281
        },
        "id": "65O0xvT9XygL",
        "outputId": "b402c866-4cf5-447f-d14a-fa9bdbb17d18"
      },
      "source": [
        "loss = history.history['loss']\n",
        "val_loss = history.history['val_loss']\n",
        "\n",
        "epochs = range(1, len(loss) + 1)\n",
        "\n",
        "plt.figure()\n",
        "\n",
        "plt.plot(epochs, loss, 'bo', label='Training loss')\n",
        "plt.plot(epochs, val_loss, 'b', label='Validation loss')\n",
        "plt.title('Training and validation loss')\n",
        "plt.legend()\n",
        "\n",
        "plt.show()"
      ],
      "execution_count": 64,
      "outputs": [
        {
          "output_type": "display_data",
          "data": {
            "image/png": "[encoded data removed]",
            "text/plain": [
              "<Figure size 432x288 with 1 Axes>"
            ]
          },
          "metadata": {
            "needs_background": "light"
          }
        }
      ]
    },
    {
      "cell_type": "markdown",
      "metadata": {
        "id": "nIi_6I4sXygL"
      },
      "source": [
        "층을 추가하여 성능을 조금 향상시켰지만 크지는 않습니다. 여기서 두 가지 결론을 얻을 수 있습니다:\n",
        "\n",
        "* 아직 충분히 과대적합을 만들지 못했기 때문에 검증 손실을 향상하기 위해서 층의 크기를 늘릴 수 있습니다. 하지만 적지 않은 계산 비용이 추가됩니다.\n",
        "* 층을 추가한 만큼 도움이 되지 않았으므로 여기서는 네트워크의 용량을 늘리는 것이 도움이 되지 않는다고 볼 수 있습니다."
      ]
    },
    {
      "cell_type": "markdown",
      "metadata": {
        "id": "4qx0QDdJXygL"
      },
      "source": [
        "## 양방향 RNN 사용하기\n",
        "\n",
        "이 절에서 소개할 마지막 기법은 양방향 RNN입니다. 양방향 RNN은 RNN의 한 변종이고 특정 작업에서 기본 RNN 보다 훨씬 좋은 성능을 냅니다. 자연어 처리에서는 맥가이버 칼이라고 할 정도로 즐겨 사용됩니다.\n",
        "\n",
        "RNN은 특히 순서 또는 시간에 민감합니다. 즉, 입력 시퀀스의 타입스텝 순서대로 처리합니다. 타입스텝을 섞거나 거꾸로 하면 RNN이 시퀀스에서 학습하는 표현을 완전히 바꾸어 버립니다. 이는 온도 예측과 같이 순서에 의미가 있는 문제에 잘 맞는 이유이기도 합니다. 양방향 RNN은 RNN이 순서에 민감하다는 성질을 사용합니다. 앞서 보았던 GRU나 LSTM 같은 RNN 두 개를 사용합니다. 각 RNN은 입력 시퀀스를 한 방향(시간의 순서나 반대 순서)으로 처리한 다음 각 표현을 합칩니다. 시퀀스를 양쪽 방향으로 처리하기 때문에 양방향 RNN은 단방향 RNN이 놓치기 쉬운 패턴을 감지할 수 있습니다.\n",
        "\n",
        "놀랍게도 이 절에 있는 RNN 층이 시간의 순서대로 (오래된 타임스텝이 먼저 나오도록) 시퀀스를 처리하는 것은 근거 없는 결정입니다. 적어도 이 결정을 궁금해하지 않았습니다. 시간의 반대 방향으로 (최근 타임스텝이 먼저 나오도록) 입력 시퀀스를 처리하면 만족할만한 RNN 성능을 낼 수 있을까요? 실제 이렇게 해 보고 결과가 어떤지 확인해 보죠. 해야 할 일은 입력 시퀀스를 시간 차원을 따라 거꾸로 생성하는 데이터 제너레이터 만드는 것 뿐입니다(제너레이터 함수의 마지막 줄을 `yield samples[:, ::-1, :], targets`로 바꿉니다). 이 절의 첫 번째 예제와 동일하게 하나의 GRU 층을 가진 네트워크를 훈련합니다:"
      ]
    },
    {
      "cell_type": "code",
      "metadata": {
        "id": "CNGR7spEXygL"
      },
      "source": [
        "def reverse_order_generator(data, lookback, delay, min_index, max_index,\n",
        "                            shuffle=False, batch_size=128, step=6):\n",
        "    if max_index is None:\n",
        "        max_index = len(data) - delay - 1\n",
        "    i = min_index + lookback\n",
        "    while 1:\n",
        "        if shuffle:\n",
        "            rows = np.random.randint(\n",
        "                min_index + lookback, max_index, size=batch_size)\n",
        "        else:\n",
        "            if i + batch_size >= max_index:\n",
        "                i = min_index + lookback\n",
        "            rows = np.arange(i, min(i + batch_size, max_index))\n",
        "            i += len(rows)\n",
        "\n",
        "        samples = np.zeros((len(rows),\n",
        "                           lookback // step,\n",
        "                           data.shape[-1]))\n",
        "        targets = np.zeros((len(rows),))\n",
        "        for j, row in enumerate(rows):\n",
        "            indices = range(rows[j] - lookback, rows[j], step)\n",
        "            samples[j] = data[indices]\n",
        "            targets[j] = data[rows[j] + delay][1]\n",
        "        yield samples[:, ::-1, :], targets\n",
        "        \n",
        "train_gen_reverse = reverse_order_generator(\n",
        "    float_data,\n",
        "    lookback=lookback,\n",
        "    delay=delay,\n",
        "    min_index=0,\n",
        "    max_index=200000,\n",
        "    shuffle=True,\n",
        "    step=step, \n",
        "    batch_size=batch_size)\n",
        "val_gen_reverse = reverse_order_generator(\n",
        "    float_data,\n",
        "    lookback=lookback,\n",
        "    delay=delay,\n",
        "    min_index=200001,\n",
        "    max_index=300000,\n",
        "    step=step,\n",
        "    batch_size=batch_size)"
      ],
      "execution_count": 65,
      "outputs": []
    },
    {
      "cell_type": "code",
      "metadata": {
        "colab": {
          "base_uri": "https://localhost:8080/"
        },
        "id": "jmIjyG6BXygM",
        "outputId": "82202fb2-d693-4e19-90a3-f2d90580080f"
      },
      "source": [
        "model = Sequential()\n",
        "model.add(layers.GRU(32, input_shape=(None, float_data.shape[-1])))\n",
        "model.add(layers.Dense(1))\n",
        "\n",
        "model.compile(optimizer=RMSprop(), loss='mae')\n",
        "history = model.fit_generator(train_gen_reverse,\n",
        "                              steps_per_epoch=500,\n",
        "                              epochs=20,\n",
        "                              validation_data=val_gen_reverse,\n",
        "                              validation_steps=val_steps)"
      ],
      "execution_count": 66,
      "outputs": [
        {
          "output_type": "stream",
          "name": "stderr",
          "text": [
            "/usr/local/lib/python3.7/dist-packages/keras/engine/training.py:1972: UserWarning: `Model.fit_generator` is deprecated and will be removed in a future version. Please use `Model.fit`, which supports generators.\n",
            "  warnings.warn('`Model.fit_generator` is deprecated and '\n"
          ]
        },
        {
          "output_type": "stream",
          "name": "stdout",
          "text": [
            "Epoch 1/20\n",
            "500/500 [==============================] - 35s 66ms/step - loss: 0.4834 - val_loss: 0.4811\n",
            "Epoch 2/20\n",
            "500/500 [==============================] - 33s 66ms/step - loss: 0.4525 - val_loss: 0.4829\n",
            "Epoch 3/20\n",
            "500/500 [==============================] - 33s 66ms/step - loss: 0.4069 - val_loss: 0.4354\n",
            "Epoch 4/20\n",
            "500/500 [==============================] - 33s 67ms/step - loss: 0.3537 - val_loss: 0.3861\n",
            "Epoch 5/20\n",
            "500/500 [==============================] - 34s 67ms/step - loss: 0.3297 - val_loss: 0.3715\n",
            "Epoch 6/20\n",
            "500/500 [==============================] - 33s 67ms/step - loss: 0.3087 - val_loss: 0.3283\n",
            "Epoch 7/20\n",
            "500/500 [==============================] - 33s 66ms/step - loss: 0.2879 - val_loss: 0.3250\n",
            "Epoch 8/20\n",
            "500/500 [==============================] - 33s 66ms/step - loss: 0.2744 - val_loss: 0.3214\n",
            "Epoch 9/20\n",
            "500/500 [==============================] - 33s 67ms/step - loss: 0.2669 - val_loss: 0.3183\n",
            "Epoch 10/20\n",
            "500/500 [==============================] - 33s 67ms/step - loss: 0.2610 - val_loss: 0.3270\n",
            "Epoch 11/20\n",
            "500/500 [==============================] - 33s 67ms/step - loss: 0.2551 - val_loss: 0.3220\n",
            "Epoch 12/20\n",
            "500/500 [==============================] - 33s 67ms/step - loss: 0.2505 - val_loss: 0.3373\n",
            "Epoch 13/20\n",
            "500/500 [==============================] - 33s 67ms/step - loss: 0.2455 - val_loss: 0.3451\n",
            "Epoch 14/20\n",
            "500/500 [==============================] - 33s 67ms/step - loss: 0.2433 - val_loss: 0.3310\n",
            "Epoch 15/20\n",
            "500/500 [==============================] - 33s 67ms/step - loss: 0.2395 - val_loss: 0.3383\n",
            "Epoch 16/20\n",
            "500/500 [==============================] - 33s 67ms/step - loss: 0.2360 - val_loss: 0.3483\n",
            "Epoch 17/20\n",
            "500/500 [==============================] - 34s 67ms/step - loss: 0.2312 - val_loss: 0.3363\n",
            "Epoch 18/20\n",
            "500/500 [==============================] - 33s 67ms/step - loss: 0.2279 - val_loss: 0.3433\n",
            "Epoch 19/20\n",
            "500/500 [==============================] - 33s 66ms/step - loss: 0.2257 - val_loss: 0.3350\n",
            "Epoch 20/20\n",
            "500/500 [==============================] - 33s 66ms/step - loss: 0.2235 - val_loss: 0.3538\n"
          ]
        }
      ]
    },
    {
      "cell_type": "code",
      "metadata": {
        "colab": {
          "base_uri": "https://localhost:8080/",
          "height": 281
        },
        "id": "pmoSJ1_3XygM",
        "outputId": "04758b33-f94d-4499-a731-76acaf53b7df"
      },
      "source": [
        "loss = history.history['loss']\n",
        "val_loss = history.history['val_loss']\n",
        "\n",
        "epochs = range(1, len(loss) + 1)\n",
        "\n",
        "plt.figure()\n",
        "\n",
        "plt.plot(epochs, loss, 'bo', label='Training loss')\n",
        "plt.plot(epochs, val_loss, 'b', label='Validation loss')\n",
        "plt.title('Training and validation loss')\n",
        "plt.legend()\n",
        "\n",
        "plt.show()"
      ],
      "execution_count": 67,
      "outputs": [
        {
          "output_type": "display_data",
          "data": {
            "image/png": "[encoded data removed]",
            "text/plain": [
              "<Figure size 432x288 with 1 Axes>"
            ]
          },
          "metadata": {
            "needs_background": "light"
          }
        }
      ]
    },
    {
      "cell_type": "markdown",
      "metadata": {
        "id": "PsDgCrOTXygM"
      },
      "source": [
        "순서를 뒤집은 GRU는 상식 수준의 기준점보다도 성능이 낮습니다. 이 경우에는 시간 순서대로 처리하는 것이 중요한 역할을 합니다. 사실 이는 당연합니다. 기본적인 GRU 층은 먼 과거보다 최근 내용을 잘 기억합니다. 또한, 최근에 가까운 날씨 데이터 포인트일수록 오래된 데이터 포인트보다 예측에 유용합니다(상식 수준의 기준점이 꽤 강력한 이유입니다). 시간 순서대로 처리하는 네트워크가 거꾸로 처리하는 것보다 성능이 높아야만 합니다. 하지만 자연어 처리를 포함하여 다른 많은 문제에서는 그렇지 않습니다. 문장을 이해하는데 있어서 단어의 중요성은 단어가 문장 어디에 놓여 있는지에 따라 결정되지 않습니다. 같은 기법을 이전 절의 LSTM IMDB 예제에 적용해 보죠:"
      ]
    },
    {
      "cell_type": "code",
      "metadata": {
        "colab": {
          "base_uri": "https://localhost:8080/"
        },
        "id": "QZJ7W89EXygM",
        "outputId": "372fc19c-6b47-4e31-819f-0eb05359e57d"
      },
      "source": [
        "from tensorflow.keras.datasets import imdb\n",
        "from tensorflow.keras.preprocessing import sequence\n",
        "from tensorflow.keras import layers\n",
        "from tensorflow.keras.models import Sequential\n",
        "\n",
        "# 특성으로 사용할 단어의 수\n",
        "max_features = 10000\n",
        "# 사용할 텍스트의 길이(가장 빈번한 max_features 개의 단어만 사용합니다)\n",
        "maxlen = 500\n",
        "\n",
        "# 데이터 로드\n",
        "(x_train, y_train), (x_test, y_test) = imdb.load_data(num_words=max_features)\n",
        "\n",
        "# 시퀀스를 뒤집습니다\n",
        "x_train = [x[::-1] for x in x_train]\n",
        "x_test = [x[::-1] for x in x_test]\n",
        "\n",
        "# 시퀀스에 패딩을 추가합니다\n",
        "x_train = sequence.pad_sequences(x_train, maxlen=maxlen)\n",
        "x_test = sequence.pad_sequences(x_test, maxlen=maxlen)\n",
        "\n",
        "model = Sequential()\n",
        "model.add(layers.Embedding(max_features, 128))\n",
        "model.add(layers.LSTM(32))\n",
        "model.add(layers.Dense(1, activation='sigmoid'))\n",
        "\n",
        "model.compile(optimizer='rmsprop',\n",
        "              loss='binary_crossentropy',\n",
        "              metrics=['accuracy'])\n",
        "history = model.fit(x_train, y_train,\n",
        "                    epochs=10,\n",
        "                    batch_size=128,\n",
        "                    validation_split=0.2)"
      ],
      "execution_count": 68,
      "outputs": [
        {
          "output_type": "stream",
          "name": "stdout",
          "text": [
            "Downloading data from https://storage.googleapis.com/tensorflow/tf-keras-datasets/imdb.npz\n",
            "17465344/17464789 [==============================] - 0s 0us/step\n",
            "17473536/17464789 [==============================] - 0s 0us/step\n",
            "Epoch 1/10\n",
            "157/157 [==============================] - 15s 79ms/step - loss: 0.5006 - accuracy: 0.7641 - val_loss: 0.4643 - val_accuracy: 0.8010\n",
            "Epoch 2/10\n",
            "157/157 [==============================] - 11s 72ms/step - loss: 0.3206 - accuracy: 0.8771 - val_loss: 0.3507 - val_accuracy: 0.8592\n",
            "Epoch 3/10\n",
            "157/157 [==============================] - 11s 72ms/step - loss: 0.2643 - accuracy: 0.9001 - val_loss: 0.4317 - val_accuracy: 0.8004\n",
            "Epoch 4/10\n",
            "157/157 [==============================] - 11s 72ms/step - loss: 0.2273 - accuracy: 0.9157 - val_loss: 0.3438 - val_accuracy: 0.8556\n",
            "Epoch 5/10\n",
            "157/157 [==============================] - 11s 72ms/step - loss: 0.1927 - accuracy: 0.9313 - val_loss: 0.3506 - val_accuracy: 0.8778\n",
            "Epoch 6/10\n",
            "157/157 [==============================] - 11s 71ms/step - loss: 0.1776 - accuracy: 0.9375 - val_loss: 0.3709 - val_accuracy: 0.8632\n",
            "Epoch 7/10\n",
            "157/157 [==============================] - 11s 71ms/step - loss: 0.1615 - accuracy: 0.9458 - val_loss: 0.4282 - val_accuracy: 0.8716\n",
            "Epoch 8/10\n",
            "157/157 [==============================] - 11s 71ms/step - loss: 0.1404 - accuracy: 0.9528 - val_loss: 0.4226 - val_accuracy: 0.8720\n",
            "Epoch 9/10\n",
            "157/157 [==============================] - 11s 71ms/step - loss: 0.1266 - accuracy: 0.9577 - val_loss: 0.7385 - val_accuracy: 0.8252\n",
            "Epoch 10/10\n",
            "157/157 [==============================] - 11s 71ms/step - loss: 0.1265 - accuracy: 0.9575 - val_loss: 0.4230 - val_accuracy: 0.8706\n"
          ]
        }
      ]
    },
    {
      "cell_type": "markdown",
      "metadata": {
        "id": "L6CeoPZZXygM"
      },
      "source": [
        "시간 순서로 훈련한 LSTM과 거의 동일한 성능을 얻을 수 있습니다. 놀랍게도 이런 텍스트 데이터셋에는 순서를 뒤집어 처리하는 것이 시간 순서대로 처리하는 것과 거의 동일하게 잘 작동합니다. 이는 언어를 이해하는 데 단어의 순서가 중요하지만 결정적이지는 않다는 가정을 뒷받침합니다. 거꾸로 된 시퀀스에서 훈련한 RNN은 원래 시퀀스에서 훈련한 것과는 다른 표현을 학습합니다. 이와 비슷하게 시작할 때 죽고 마지막 날 태어나는 삶처럼 실제 세상의 시간이 거꾸로 흘러간다면 우리의 정신 세계가 달라질 것입니다. 머신 러닝에서 다른 표현이 유용하다면 항상 사용할 가치가 있습니다. 이 표현이 많이 다를수록 더 좋습니다. 이 표현이 데이터를 바라보는 새로운 시각을 제공하고 다른 방식에서는 놓칠 수 있는 데이터의 특징을 잡아냅니다. 이런 표현은 작업의 성능을 올리는 데 도움을 줍니다. 이것이 다음 장에서 살펴볼 앙상블의 개념입니다.\n",
        "\n",
        "양방향 RNN은 이 아이디어를 사용하여 시간 순서대로 처리하는 RNN의 성능을 향상시킵니다. 입력 시퀀스를 양쪽 방향으로 바라보기 때문에, 드러나지 않은 다양한 표현을 얻어 시간 순서대로 처리할 때 놓칠 수 있는 패턴을 잡아 냅니다."
      ]
    },
    {
      "cell_type": "markdown",
      "metadata": {
        "id": "4-DvGT9rXygM"
      },
      "source": [
        "![bidirectional rnn](https://s3.amazonaws.com/book.keras.io/img/ch6/bidirectional_rnn.png)"
      ]
    },
    {
      "cell_type": "markdown",
      "metadata": {
        "id": "mXZfkVgLXygM"
      },
      "source": [
        "케라스에서는 `Bidirectional` 층을 사용하여 양방향 RNN을 만듭니다. 이 클래스는 첫 번째 매개변수로 순환 층의 객체를 전달받습니다. `Bidirectional` 클래스는 전달받은 순환 층으로 새로운 두 번째 객체를 만듭니다. 하나는 시간 순서대로 입력 시퀀스를 처리하고 다른 하나는 반대 순서로 입력 시퀀스를 처리합니다. IMDB 감성 분석 문제에 이를 적용해 보죠:"
      ]
    },
    {
      "cell_type": "code",
      "metadata": {
        "id": "VoctR88XXygM"
      },
      "source": [
        "from tensorflow.keras import backend as K\n",
        "K.clear_session()"
      ],
      "execution_count": null,
      "outputs": []
    },
    {
      "cell_type": "code",
      "metadata": {
        "id": "HS-h74VAXygM",
        "outputId": "1e185d0a-9d8d-49d9-8297-bf23895104f6"
      },
      "source": [
        "model = Sequential()\n",
        "model.add(layers.Embedding(max_features, 32))\n",
        "model.add(layers.Bidirectional(layers.LSTM(32)))\n",
        "model.add(layers.Dense(1, activation='sigmoid'))\n",
        "\n",
        "model.compile(optimizer='rmsprop', loss='binary_crossentropy', metrics=['accuracy'])\n",
        "history = model.fit(x_train, y_train, epochs=10, batch_size=128, validation_split=0.2)"
      ],
      "execution_count": null,
      "outputs": [
        {
          "name": "stdout",
          "output_type": "stream",
          "text": [
            "Epoch 1/10\n",
            "157/157 [==============================] - 41s 244ms/step - loss: 0.5532 - accuracy: 0.7254 - val_loss: 0.3952 - val_accuracy: 0.8520\n",
            "Epoch 2/10\n",
            "157/157 [==============================] - 47s 302ms/step - loss: 0.3275 - accuracy: 0.8739 - val_loss: 0.3276 - val_accuracy: 0.8726\n",
            "Epoch 3/10\n",
            "157/157 [==============================] - 48s 303ms/step - loss: 0.2670 - accuracy: 0.9032 - val_loss: 0.2885 - val_accuracy: 0.8880\n",
            "Epoch 4/10\n",
            "157/157 [==============================] - 48s 303ms/step - loss: 0.2297 - accuracy: 0.9180 - val_loss: 0.3360 - val_accuracy: 0.8652\n",
            "Epoch 5/10\n",
            "157/157 [==============================] - 47s 297ms/step - loss: 0.2017 - accuracy: 0.9305 - val_loss: 0.3043 - val_accuracy: 0.8862\n",
            "Epoch 6/10\n",
            "157/157 [==============================] - 48s 305ms/step - loss: 0.1778 - accuracy: 0.9389 - val_loss: 0.6542 - val_accuracy: 0.8388\n",
            "Epoch 7/10\n",
            "157/157 [==============================] - 47s 299ms/step - loss: 0.1644 - accuracy: 0.9444 - val_loss: 0.3297 - val_accuracy: 0.8732\n",
            "Epoch 8/10\n",
            "157/157 [==============================] - 47s 301ms/step - loss: 0.1496 - accuracy: 0.9484 - val_loss: 0.5354 - val_accuracy: 0.8558\n",
            "Epoch 9/10\n",
            "157/157 [==============================] - 46s 293ms/step - loss: 0.1397 - accuracy: 0.9532 - val_loss: 0.3546 - val_accuracy: 0.8738\n",
            "Epoch 10/10\n",
            "157/157 [==============================] - 46s 296ms/step - loss: 0.1276 - accuracy: 0.9587 - val_loss: 0.5352 - val_accuracy: 0.8508\n"
          ]
        }
      ]
    },
    {
      "cell_type": "markdown",
      "metadata": {
        "id": "2JtPDUGUXygM"
      },
      "source": [
        "여기서 얻은 검증 정확도는 88% 정도로 이전 절에서 사용했던 일반 LSTM보다 조금 더 성능이 높습니다. 이 모델은 조금 더 일찍 과대적합되는 것 같습니다. 양방향 순환 층이 단방향 LSTM보다 모델 파라미터가 두 배 많기 때문에 놀라운 일은 아닙니다. 규제를 조금 추가한다면 양항뱡 순환 층을 사용하는 것이 이 작업에 더 적합해 보입니다.\n",
        "\n",
        "이제 동일한 방식을 온도 예측 문제에 적용해 보죠:"
      ]
    },
    {
      "cell_type": "code",
      "metadata": {
        "id": "bL8er-afXygM",
        "outputId": "b4e09ebf-9c32-4360-f672-07ef6e4ab192"
      },
      "source": [
        "from tensorflow.keras.models import Sequential\n",
        "from tensorflow.keras import layers\n",
        "from tensorflow.keras.optimizers import RMSprop\n",
        "\n",
        "model = Sequential()\n",
        "model.add(layers.Bidirectional(\n",
        "    layers.GRU(32), input_shape=(None, float_data.shape[-1])))\n",
        "model.add(layers.Dense(1))\n",
        "\n",
        "model.compile(optimizer=RMSprop(), loss='mae')\n",
        "history = model.fit_generator(train_gen,\n",
        "                              steps_per_epoch=500,\n",
        "                              epochs=40,\n",
        "                              validation_data=val_gen,\n",
        "                              validation_steps=val_steps)"
      ],
      "execution_count": null,
      "outputs": [
        {
          "name": "stdout",
          "output_type": "stream",
          "text": [
            "Epoch 1/40\n",
            "500/500 [==============================] - 84s 163ms/step - loss: 0.2961 - val_loss: 0.2711\n",
            "Epoch 2/40\n",
            "500/500 [==============================] - 80s 159ms/step - loss: 0.2735 - val_loss: 0.2632\n",
            "Epoch 3/40\n",
            "500/500 [==============================] - 80s 161ms/step - loss: 0.2675 - val_loss: 0.2618\n",
            "Epoch 4/40\n",
            "500/500 [==============================] - 79s 158ms/step - loss: 0.2638 - val_loss: 0.2663\n",
            "Epoch 5/40\n",
            "500/500 [==============================] - 73s 145ms/step - loss: 0.2579 - val_loss: 0.2658\n",
            "Epoch 6/40\n",
            "500/500 [==============================] - 78s 157ms/step - loss: 0.2523 - val_loss: 0.2724\n",
            "Epoch 7/40\n",
            "500/500 [==============================] - 77s 154ms/step - loss: 0.2462 - val_loss: 0.2761\n",
            "Epoch 8/40\n",
            "500/500 [==============================] - 78s 156ms/step - loss: 0.2405 - val_loss: 0.2763\n",
            "Epoch 9/40\n",
            "500/500 [==============================] - 78s 157ms/step - loss: 0.2341 - val_loss: 0.2877\n",
            "Epoch 10/40\n",
            "500/500 [==============================] - 78s 156ms/step - loss: 0.2248 - val_loss: 0.2886\n",
            "Epoch 11/40\n",
            "500/500 [==============================] - 78s 156ms/step - loss: 0.2217 - val_loss: 0.2981\n",
            "Epoch 12/40\n",
            "500/500 [==============================] - 78s 157ms/step - loss: 0.2161 - val_loss: 0.3014\n",
            "Epoch 13/40\n",
            "500/500 [==============================] - 78s 155ms/step - loss: 0.2087 - val_loss: 0.3018\n",
            "Epoch 14/40\n",
            "500/500 [==============================] - 77s 153ms/step - loss: 0.2035 - val_loss: 0.3087\n",
            "Epoch 15/40\n",
            "500/500 [==============================] - 77s 154ms/step - loss: 0.1998 - val_loss: 0.3190\n",
            "Epoch 16/40\n",
            "500/500 [==============================] - 78s 156ms/step - loss: 0.1942 - val_loss: 0.3107\n",
            "Epoch 17/40\n",
            "500/500 [==============================] - 78s 156ms/step - loss: 0.1890 - val_loss: 0.3144\n",
            "Epoch 18/40\n",
            "500/500 [==============================] - 78s 156ms/step - loss: 0.1854 - val_loss: 0.3179\n",
            "Epoch 19/40\n",
            "500/500 [==============================] - 78s 156ms/step - loss: 0.1813 - val_loss: 0.3250\n",
            "Epoch 20/40\n",
            "500/500 [==============================] - 77s 153ms/step - loss: 0.1771 - val_loss: 0.3288\n",
            "Epoch 21/40\n",
            "500/500 [==============================] - 77s 154ms/step - loss: 0.1746 - val_loss: 0.3271\n",
            "Epoch 22/40\n",
            "500/500 [==============================] - 76s 152ms/step - loss: 0.1710 - val_loss: 0.3254\n",
            "Epoch 23/40\n",
            "500/500 [==============================] - 78s 156ms/step - loss: 0.1676 - val_loss: 0.3335\n",
            "Epoch 24/40\n",
            "500/500 [==============================] - 78s 155ms/step - loss: 0.1646 - val_loss: 0.3294\n",
            "Epoch 25/40\n",
            "500/500 [==============================] - 77s 154ms/step - loss: 0.1620 - val_loss: 0.3276\n",
            "Epoch 26/40\n",
            "500/500 [==============================] - 78s 156ms/step - loss: 0.1594 - val_loss: 0.3313\n",
            "Epoch 27/40\n",
            "500/500 [==============================] - 77s 154ms/step - loss: 0.1567 - val_loss: 0.3334\n",
            "Epoch 28/40\n",
            "500/500 [==============================] - 77s 154ms/step - loss: 0.1543 - val_loss: 0.3320\n",
            "Epoch 29/40\n",
            "500/500 [==============================] - 77s 154ms/step - loss: 0.1528 - val_loss: 0.3341\n",
            "Epoch 30/40\n",
            "500/500 [==============================] - 76s 151ms/step - loss: 0.1500 - val_loss: 0.3424\n",
            "Epoch 31/40\n",
            "500/500 [==============================] - 77s 155ms/step - loss: 0.1469 - val_loss: 0.3308\n",
            "Epoch 32/40\n",
            "500/500 [==============================] - 75s 150ms/step - loss: 0.1472 - val_loss: 0.3364\n",
            "Epoch 33/40\n",
            "500/500 [==============================] - 77s 155ms/step - loss: 0.1442 - val_loss: 0.3401\n",
            "Epoch 34/40\n",
            "500/500 [==============================] - 78s 156ms/step - loss: 0.1429 - val_loss: 0.3375\n",
            "Epoch 35/40\n",
            "500/500 [==============================] - 77s 154ms/step - loss: 0.1413 - val_loss: 0.3454\n",
            "Epoch 36/40\n",
            "500/500 [==============================] - 78s 156ms/step - loss: 0.1397 - val_loss: 0.3394\n",
            "Epoch 37/40\n",
            "500/500 [==============================] - 76s 152ms/step - loss: 0.1382 - val_loss: 0.3472\n",
            "Epoch 38/40\n",
            "500/500 [==============================] - 77s 155ms/step - loss: 0.1378 - val_loss: 0.3404\n",
            "Epoch 39/40\n",
            "500/500 [==============================] - 78s 156ms/step - loss: 0.1356 - val_loss: 0.3397\n",
            "Epoch 40/40\n",
            "500/500 [==============================] - 78s 155ms/step - loss: 0.1337 - val_loss: 0.3409\n"
          ]
        }
      ]
    },
    {
      "cell_type": "markdown",
      "metadata": {
        "id": "OsmDg2pyXygN"
      },
      "source": [
        "이 네트워크는 일반 GRU 층과 비슷한 성능을 냅니다. 이유는 쉽게 이해할 수 있습니다. 모든 예측 성능은 시간 순서대로 처리하는 네트워크의 절반에서 옵니다. 시간 반대 순서로 처리하는 절반은 이런 작업에 성능이 매우 좋지 않기 때문입니다(최근의 정보가 오래 전의 정보보다 훨씬 더 중요합니다)."
      ]
    },
    {
      "cell_type": "markdown",
      "metadata": {
        "id": "w1JfvxheXygN"
      },
      "source": [
        "## 더 나아가서\n",
        "\n",
        "온도 예측 문제의 성능을 향상하기 위해 시도해 볼 수 있는 것들이 많이 있습니다.\n",
        "\n",
        "* 스태킹한 각 순환 층의 유닛 수를 조정합니다. 지금 설정은 대부분 임의로 한 것이라 최적화가 덜 되었을 것입니다.\n",
        "* `RMSprop` 옵티마이저가 사용한 학습률을 조정합니다.\n",
        "* `GRU` 대신 `LSTM` 층을 사용합니다.\n",
        "* 순환 층 위에 용량이 큰 완전 연결된 회귀 층을 사용합니다. 즉 유닛 수가 많은 `Dense` 층이나 `Dense` 층을 스태킹합니다.\n",
        "* 최종적으로 (검증 MAE 기준으로 봤을 때) 최선의 모델을 테스트 세트에서 확인해야 합니다. 이를 잊으면 검증 세트에 과대적합된 네트워크 구조를 만들게 될 것입니다.\n",
        "\n",
        "늘 그렇듯이 딥러닝은 과학보다는 예술에 가깝습니다. 어떤 문제에 적합하거나 그렇지 않은 가이드라인은 제시할 수 있지만 결국 모든 문제는 다릅니다. 경험을 바탕으로 다른 전략들을 시도해 봐야 합니다. 현재는 문제를 해결하는 최선의 방법을 미리 알 수 있는 이론이 없습니다. 반복해서 시도해야 합니다.\n",
        "\n",
        "## 요약\n",
        "\n",
        "다음은 이번 절에서 배운 것들입니다.\n",
        "\n",
        "* 4장에서 처음 배웠던 것처럼 새로운 문제를 해결할 때는 선택한 지표에서 상식 수준의 기준점을 설정하는 것이 좋습니다. 기준점을 가지고 있지 않으면 실제 향상이 되었는지 알 수 없습니다.\n",
        "* 계산 비용을 추가할지 판단하기 위해서 비용이 비싼 모델 전에 간단한 모델을 시도합니다.\n",
        "* 시간 순서가 중요한 데이터가 있다면 순환 층이 적합합니다. 시계열 데이터를 펼쳐서 처리하는 모델의 성능을 쉽게 앞지를 것입니다.\n",
        "* 순환 네트워크에 드롭아웃을 사용하려면 타임스텝 동안 일정한 드롭아웃 마스크와 순환 드롭아웃 마스크를 사용해야 합니다. 둘 다 케라스 순환 층에 포함되어 있습니다. 순환 층에 있는 `dropout`과 `recurrent_dropout` 매개변수를 사용하면 됩니다.\n",
        "* 스태킹 RNN은 단일 RNN 층보다 더 강력한 표현 능력을 제공합니다. 하지만 계산 비용이 많이 들기 때문에 항상 시도할 가치가 있지는 않습니다. (기계 번역 같은) 복잡한 문제에서 확실히 도움이 되지만 작고 간단한 문제에서는 항상 그렇지 않습니다.\n",
        "* 양쪽 방향으로 시퀀스를 바라보는 양방향 RNN은 자연어 처리 문제에 유용합니다. 하지만 최근의 정보가 오래된 것보다 훨씬 의미 있는 시퀀스 데이터에는 잘 작동하지 않습니다.\n",
        "\n",
        "여기서 자세히 다루지 않은 두 가지 중요한 개념이 있습니다. 순환 어텐션과 시퀀스 마스킹입니다. 둘 다 자연어 처리에 깊게 관련되어 있고 온도 예측 문제에는 적합하지 않습니다. 이 책을 끝내고 앞으로 공부할 목록으로 남겨 두겠습니다."
      ]
    }
  ]
}